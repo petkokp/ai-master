{
 "cells": [
  {
   "cell_type": "code",
   "execution_count": null,
   "id": "060dcdeb",
   "metadata": {},
   "outputs": [
    {
     "name": "stdout",
     "output_type": "stream",
     "text": [
      "Requirement already satisfied: graphviz in /home/gerald/miniforge3/lib/python3.12/site-packages (0.20.3)\n"
     ]
    }
   ],
   "source": [
    "!pip install graphviz"
   ]
  },
  {
   "cell_type": "markdown",
   "id": "5f7a3b51",
   "metadata": {},
   "source": [
    "# Backpropagation and computation graph\n",
    "\n",
    "The objective of the current exercise is to introduce how works a deep-learning library. To this end we will devellop in this exercise a python library that build a computational using only scalar operations (consequently it is not yet necessary to use numpy library).\n",
    "\n",
    "The main object we will manipulate will be the ComputationalGraphNode, this object (or class in python) will have different methods and attributes (discuted during the lecture session). \n",
    "We will consider two type of nodes, a classical nodes and parameters node (that will sum the gradient at each backward step).\n",
    "\n",
    "\n",
    "**Below a code for printing the graphs ! Do not modify the code** \n"
   ]
  },
  {
   "cell_type": "code",
   "execution_count": 1,
   "id": "46ec199a",
   "metadata": {},
   "outputs": [],
   "source": [
    "import graphviz\n",
    "name_operation_list = {'Addition': '+', 'Multiplication': '*', 'Substraction': '-'}\n",
    "def createbackwardgraph(root, parent_index=None, graph=None, nodelist={}, edge_list=set()):\n",
    "    if graph is None:\n",
    "        graph = graphviz.Digraph(filename = \"digraph.gv\")\n",
    "    \n",
    "    if root not in nodelist:\n",
    "        nodelist[root] = str(len(nodelist))\n",
    "\n",
    "        node_name = root.name if 'name' in root.__dict__ else \"unknow\"\n",
    "        if root.gradient_function is not None:\n",
    "            node_name = root.gradient_function.__qualname__.split(\".\")[0] + \" : \" + node_name\n",
    "        node_name += f'\\n v = {root.value} \\n g = {root.cumulative_gradient}' \n",
    "\n",
    "        parent_index = nodelist[root]\n",
    "        graph.node(parent_index, node_name)\n",
    "\n",
    "\n",
    "    if root.previous_node_list is None:\n",
    "        return\n",
    "\n",
    "    for node in root.previous_node_list:\n",
    "\n",
    "        if node not in nodelist:\n",
    "            nodelist[node] = str(len(nodelist))\n",
    "\n",
    "            node_name = node.name if 'name' in node.__dict__ else \"unknow\"\n",
    "            if node.gradient_function is not None:\n",
    "                node_name = node.gradient_function.__qualname__.split(\".\")[0] + \" : \" + node_name\n",
    "            node_name += f'\\n v = {node.value} \\n g = {node.cumulative_gradient}' \n",
    "\n",
    "            node_index = nodelist[node]\n",
    "            graph.node(node_index, node_name)\n",
    "        if not (nodelist[node], nodelist[root]) in edge_list:\n",
    "            edge_list.add((nodelist[node], nodelist[root]))\n",
    "            graph.edge(nodelist[node], nodelist[root])\n",
    "        elif root.previous_node_list[0] ==  root.previous_node_list[-1]: \n",
    "            graph.edge(nodelist[node], nodelist[root])\n",
    "        createbackwardgraph(node, None, graph=graph, nodelist=nodelist, edge_list=edge_list)\n",
    "    return graph\n"
   ]
  },
  {
   "cell_type": "markdown",
   "id": "fda64f7e-9d88-4498-9dc6-4540ecf679d0",
   "metadata": {},
   "source": [
    "## Implement the computational graph node\n",
    "\n",
    "A node of the computation graph needs to store different information :\n",
    "* A backward operation (computing gradient of the model according to its input)\n",
    "* The value of the node (a float)\n",
    "* The gradient of the node (updated/accumulated when backward is called)\n",
    "* The list of previous nodes (input that produced the current node)"
   ]
  },
  {
   "cell_type": "code",
   "execution_count": 2,
   "id": "90480840",
   "metadata": {},
   "outputs": [],
   "source": [
    "from typing import List, Tuple\n",
    "\n",
    "class ComputationGraphNode(object):\n",
    "    def __init__(self, value : float, gradient_function = None , previous_node_list: List = None, name=None):\n",
    "        if name is not None:\n",
    "            self.name = name\n",
    "        self.value = value\n",
    "        self.cumulative_gradient = .0\n",
    "        self.gradient_function = gradient_function\n",
    "        self.previous_node_list = previous_node_list if previous_node_list is not None else [] # Ensure it's a list\n",
    "\n",
    "    def __str__(self) -> str:\n",
    "        return f'ComputationGraphNode with value = {self.value}'\n",
    "    def __repr__(self) -> str :\n",
    "        return f'ComputationGraphNode with value = {self.value}'\n",
    "    \n",
    "    def backward(self, gradient : float = 1.) -> None:\n",
    "        self.cumulative_gradient += gradient\n",
    "\n",
    "        if self.gradient_function is not None and self.previous_node_list:\n",
    "            input_gradients = self.gradient_function(*self.previous_node_list, gradient)\n",
    "\n",
    "            if not isinstance(input_gradients, (tuple, list)):\n",
    "                 input_gradients = (input_gradients,)\n",
    "\n",
    "            if len(input_gradients) != len(self.previous_node_list):\n",
    "                 raise ValueError(f\"Number of gradients ({len(input_gradients)}) does not match number of previous nodes ({len(self.previous_node_list)}) for function {self.gradient_function}\")\n",
    "\n",
    "            for prev_node, input_grad in zip(self.previous_node_list, input_gradients):\n",
    "                 prev_node.backward(input_grad)\n",
    "\n",
    "class Parameter(ComputationGraphNode):\n",
    "    def backward(self, gradient=1) -> float:\n",
    "        self.cumulative_gradient += gradient"
   ]
  },
  {
   "cell_type": "markdown",
   "id": "bfac8fb7",
   "metadata": {},
   "source": [
    "## implement add, mul, sub and relu operations\n",
    "\n",
    "For each operations we should define a forward function and a gradient_function function. To ease the implementation we will consider an operation as an object that:\n",
    "* In the method forward takes previous nodes and compute the net node\n",
    "* In backward methods takes previous input nodes and compute the gradient for each input node\n",
    "\n",
    "\n",
    "Implement the methods of the following operations :"
   ]
  },
  {
   "cell_type": "code",
   "execution_count": 3,
   "id": "eb74f457",
   "metadata": {},
   "outputs": [],
   "source": [
    "import math\n",
    "\n",
    "class Operation(object):\n",
    "    @staticmethod\n",
    "    def forward(*args, **kwargs) -> ComputationGraphNode:\n",
    "        raise NotImplementedError(\"This is an abstract class, you should inherit from the class\")\n",
    "    @staticmethod\n",
    "    def gradient_function(*args, **kwargs) -> Tuple[float, ...]:\n",
    "        raise NotImplementedError(\"This is an abstract class, you should inherit from the class\")\n",
    "\n",
    "class Addition(object):\n",
    "    @staticmethod\n",
    "    def gradient_function(node_a: ComputationGraphNode, node_b: ComputationGraphNode, output_grad: float) -> Tuple[float, float]:\n",
    "        # d(a+b)/da = 1, d(a+b)/db = 1\n",
    "        grad_a = output_grad * 1\n",
    "        grad_b = output_grad * 1\n",
    "        return grad_a, grad_b\n",
    "\n",
    "    @staticmethod\n",
    "    def forward(node_a: ComputationGraphNode, node_b: ComputationGraphNode) -> ComputationGraphNode:\n",
    "        if not isinstance(node_a, ComputationGraphNode): node_a = ComputationGraphNode(node_a)\n",
    "        if not isinstance(node_b, ComputationGraphNode): node_b = ComputationGraphNode(node_b)\n",
    "\n",
    "        value = node_a.value + node_b.value\n",
    "        return ComputationGraphNode(value, Addition.gradient_function, [node_a, node_b])\n",
    "\n",
    "class Substraction(object):\n",
    "    @staticmethod\n",
    "    def gradient_function(node_a: ComputationGraphNode, node_b: ComputationGraphNode, output_grad: float) -> Tuple[float, float]:\n",
    "        grad_a = output_grad * 1\n",
    "        grad_b = output_grad * -1\n",
    "        return grad_a, grad_b\n",
    "\n",
    "    @staticmethod\n",
    "    def forward(node_a: ComputationGraphNode, node_b: ComputationGraphNode) -> ComputationGraphNode:\n",
    "        if not isinstance(node_a, ComputationGraphNode): node_a = ComputationGraphNode(node_a)\n",
    "        if not isinstance(node_b, ComputationGraphNode): node_b = ComputationGraphNode(node_b)\n",
    "\n",
    "        value = node_a.value - node_b.value\n",
    "        return ComputationGraphNode(value, Substraction.gradient_function, [node_a, node_b])\n",
    "\n",
    "\n",
    "class Multiplication(object):\n",
    "    @staticmethod\n",
    "    def gradient_function(node_a: ComputationGraphNode, node_b: ComputationGraphNode, output_grad: float) -> Tuple[float, float]:\n",
    "        grad_a = output_grad * node_b.value\n",
    "        grad_b = output_grad * node_a.value\n",
    "        return grad_a, grad_b\n",
    "\n",
    "    @staticmethod\n",
    "    def forward(node_a: ComputationGraphNode, node_b: ComputationGraphNode) -> ComputationGraphNode:\n",
    "\n",
    "        if not isinstance(node_a, ComputationGraphNode): node_a = ComputationGraphNode(node_a)\n",
    "        if not isinstance(node_b, ComputationGraphNode): node_b = ComputationGraphNode(node_b)\n",
    "\n",
    "        value = node_a.value * node_b.value\n",
    "        return ComputationGraphNode(value, Multiplication.gradient_function, [node_a, node_b])\n",
    "\n",
    "class ReLU(object):\n",
    "    @staticmethod\n",
    "    def gradient_function(node_a: ComputationGraphNode, output_grad: float) -> Tuple[float]:\n",
    "        grad_a = output_grad * (1.0 if node_a.value > 0 else 0.0)\n",
    "        return (grad_a,)\n",
    "    @staticmethod\n",
    "    def forward(node_a: ComputationGraphNode) -> ComputationGraphNode:\n",
    "        if not isinstance(node_a, ComputationGraphNode): node_a = ComputationGraphNode(node_a) # Ensure input is a node\n",
    "        value = max(0.0, node_a.value)\n",
    "        return ComputationGraphNode(value, ReLU.gradient_function, [node_a])\n",
    "    \n",
    "class Sigmoid(object):\n",
    "    @staticmethod\n",
    "    def gradient_function(node_a: ComputationGraphNode, output_grad: float) -> Tuple[float]:\n",
    "        s = 1 / (1 + math.exp(-node_a.value))\n",
    "        grad_a = output_grad * s * (1 - s)\n",
    "        return (grad_a,)\n",
    "\n",
    "    @staticmethod\n",
    "    def forward(node_a: ComputationGraphNode) -> ComputationGraphNode:\n",
    "        if not isinstance(node_a, ComputationGraphNode): node_a = ComputationGraphNode(node_a) # Ensure input is a node\n",
    "        value = 1 / (1 + math.exp(-node_a.value))\n",
    "        return ComputationGraphNode(value, Sigmoid.gradient_function, [node_a])"
   ]
  },
  {
   "cell_type": "code",
   "execution_count": 4,
   "id": "30bdb1d1",
   "metadata": {},
   "outputs": [],
   "source": [
    "ComputationGraphNode.__add__ = Addition.forward\n",
    "ComputationGraphNode.__sub__ = Substraction.forward\n",
    "ComputationGraphNode.__mul__ = Multiplication.forward"
   ]
  },
  {
   "cell_type": "markdown",
   "id": "f67b7bb3",
   "metadata": {},
   "source": [
    "**Code/propose different examples and verify that when calling backward on the last node you obtain the correct gradient !!**\n",
    "\n",
    "\n",
    "NB : You can use createbackwardgraph(loss) to show the computation graph and values"
   ]
  },
  {
   "cell_type": "code",
   "execution_count": 5,
   "id": "0d0da9c2",
   "metadata": {},
   "outputs": [
    {
     "name": "stdout",
     "output_type": "stream",
     "text": [
      "Example 1: ComputationGraphNode with value = 5.0 + ComputationGraphNode with value = 3.0 = ComputationGraphNode with value = 8.0\n",
      "  Grad a: 1.0\n",
      "  Grad b: 1.0\n"
     ]
    },
    {
     "data": {
      "image/svg+xml": [
       "<?xml version=\"1.0\" encoding=\"UTF-8\" standalone=\"no\"?>\n",
       "<!DOCTYPE svg PUBLIC \"-//W3C//DTD SVG 1.1//EN\"\n",
       " \"http://www.w3.org/Graphics/SVG/1.1/DTD/svg11.dtd\">\n",
       "<!-- Generated by graphviz version 2.43.0 (0)\n",
       " -->\n",
       "<!-- Title: %3 Pages: 1 -->\n",
       "<svg width=\"208pt\" height=\"194pt\"\n",
       " viewBox=\"0.00 0.00 207.51 193.91\" xmlns=\"http://www.w3.org/2000/svg\" xmlns:xlink=\"http://www.w3.org/1999/xlink\">\n",
       "<g id=\"graph0\" class=\"graph\" transform=\"scale(1 1) rotate(0) translate(4 189.91)\">\n",
       "<title>%3</title>\n",
       "<polygon fill=\"white\" stroke=\"transparent\" points=\"-4,4 -4,-189.91 203.51,-189.91 203.51,4 -4,4\"/>\n",
       "<!-- 0 -->\n",
       "<g id=\"node1\" class=\"node\">\n",
       "<title>0</title>\n",
       "<ellipse fill=\"none\" stroke=\"black\" cx=\"99.25\" cy=\"-37.48\" rx=\"78.48\" ry=\"37.45\"/>\n",
       "<text text-anchor=\"middle\" x=\"99.25\" y=\"-48.78\" font-family=\"Times,serif\" font-size=\"14.00\">Addition : c=a+b</text>\n",
       "<text text-anchor=\"middle\" x=\"99.25\" y=\"-33.78\" font-family=\"Times,serif\" font-size=\"14.00\"> v = 8.0 </text>\n",
       "<text text-anchor=\"middle\" x=\"99.25\" y=\"-18.78\" font-family=\"Times,serif\" font-size=\"14.00\"> g = 1.0</text>\n",
       "</g>\n",
       "<!-- 1 -->\n",
       "<g id=\"node2\" class=\"node\">\n",
       "<title>1</title>\n",
       "<ellipse fill=\"none\" stroke=\"black\" cx=\"45.25\" cy=\"-148.43\" rx=\"45.01\" ry=\"37.45\"/>\n",
       "<text text-anchor=\"middle\" x=\"45.25\" y=\"-159.73\" font-family=\"Times,serif\" font-size=\"14.00\">a</text>\n",
       "<text text-anchor=\"middle\" x=\"45.25\" y=\"-144.73\" font-family=\"Times,serif\" font-size=\"14.00\"> v = 5.0 </text>\n",
       "<text text-anchor=\"middle\" x=\"45.25\" y=\"-129.73\" font-family=\"Times,serif\" font-size=\"14.00\"> g = 1.0</text>\n",
       "</g>\n",
       "<!-- 1&#45;&gt;0 -->\n",
       "<g id=\"edge1\" class=\"edge\">\n",
       "<title>1&#45;&gt;0</title>\n",
       "<path fill=\"none\" stroke=\"black\" d=\"M62.04,-113.55C66.79,-103.99 72.02,-93.43 77.03,-83.33\"/>\n",
       "<polygon fill=\"black\" stroke=\"black\" points=\"80.24,-84.73 81.54,-74.22 73.96,-81.62 80.24,-84.73\"/>\n",
       "</g>\n",
       "<!-- 2 -->\n",
       "<g id=\"node3\" class=\"node\">\n",
       "<title>2</title>\n",
       "<ellipse fill=\"none\" stroke=\"black\" cx=\"154.25\" cy=\"-148.43\" rx=\"45.01\" ry=\"37.45\"/>\n",
       "<text text-anchor=\"middle\" x=\"154.25\" y=\"-159.73\" font-family=\"Times,serif\" font-size=\"14.00\">b</text>\n",
       "<text text-anchor=\"middle\" x=\"154.25\" y=\"-144.73\" font-family=\"Times,serif\" font-size=\"14.00\"> v = 3.0 </text>\n",
       "<text text-anchor=\"middle\" x=\"154.25\" y=\"-129.73\" font-family=\"Times,serif\" font-size=\"14.00\"> g = 1.0</text>\n",
       "</g>\n",
       "<!-- 2&#45;&gt;0 -->\n",
       "<g id=\"edge2\" class=\"edge\">\n",
       "<title>2&#45;&gt;0</title>\n",
       "<path fill=\"none\" stroke=\"black\" d=\"M137.15,-113.55C132.33,-103.99 127,-93.43 121.9,-83.33\"/>\n",
       "<polygon fill=\"black\" stroke=\"black\" points=\"124.93,-81.57 117.3,-74.22 118.68,-84.72 124.93,-81.57\"/>\n",
       "</g>\n",
       "</g>\n",
       "</svg>\n"
      ],
      "text/plain": [
       "<graphviz.graphs.Digraph at 0x7bc254ac8710>"
      ]
     },
     "execution_count": 5,
     "metadata": {},
     "output_type": "execute_result"
    }
   ],
   "source": [
    "a = ComputationGraphNode(5.0, name='a')\n",
    "b = ComputationGraphNode(3.0, name='b')\n",
    "c = a + b\n",
    "c.name = 'c=a+b'\n",
    "print(f\"Example 1: {a} + {b} = {c}\")\n",
    "c.backward(1.0)\n",
    "print(f\"  Grad a: {a.cumulative_gradient}\") # expected: 1.0\n",
    "print(f\"  Grad b: {b.cumulative_gradient}\") # expected: 1.0\n",
    "graph = createbackwardgraph(c)\n",
    "graph"
   ]
  },
  {
   "cell_type": "markdown",
   "id": "ea01de50",
   "metadata": {},
   "source": [
    "## Create a module that apply linear transformation\n",
    "\n",
    "We consider now a new class namely Module, all the module you will implement will inherit from this class. Notice also that module may have parameters (node of type `Parameter`) that will be returned calling `my_module.parameter`\n"
   ]
  },
  {
   "cell_type": "code",
   "execution_count": 6,
   "id": "8927639c",
   "metadata": {},
   "outputs": [],
   "source": [
    "class Module:\n",
    "    def __init__(self):\n",
    "        pass\n",
    "        \n",
    "    def parameters(self):\n",
    "        ret = []\n",
    "        for name in dir(self):\n",
    "            o = self.__getattribute__(name)\n",
    "\n",
    "            if type(o) is Parameter:\n",
    "                ret.append(o)\n",
    "            if isinstance(o, Module) or isinstance(o, ModuleList):\n",
    "                ret.extend(o.parameters())\n",
    "        return ret\n",
    "\n",
    "class ModuleList(list):\n",
    "    def parameters(self):\n",
    "        ret = []\n",
    "        for m in self:\n",
    "            if type(m) is Parameter:\n",
    "                ret.append(m)\n",
    "            elif isinstance(m, Module) or isinstance(m, ModuleList):\n",
    "                ret.extend(m.parameters())\n",
    "        return ret"
   ]
  },
  {
   "cell_type": "markdown",
   "id": "20680304",
   "metadata": {},
   "source": [
    "Implement the two modules :\n",
    "\n",
    "* Linear which apply on a list of node a linear transformation with bias $Wx^t + b$\n",
    "* The relu function that compute from a list the relu for each element"
   ]
  },
  {
   "cell_type": "code",
   "execution_count": 7,
   "id": "dbe2479c",
   "metadata": {},
   "outputs": [
    {
     "data": {
      "text/plain": [
       "[ComputationGraphNode with value = 0.140517934545202,\n",
       " ComputationGraphNode with value = -0.285966978167987,\n",
       " ComputationGraphNode with value = -0.16597179046910782]"
      ]
     },
     "execution_count": 7,
     "metadata": {},
     "output_type": "execute_result"
    }
   ],
   "source": [
    "import random\n",
    "\n",
    "class Linear(Module):\n",
    "    def __init__(self, input_size, output_size, bias=True):\n",
    "        super().__init__() # Call parent init\n",
    "        self.input_size = input_size\n",
    "        self.output_size = output_size\n",
    "        self.weights = ModuleList([ModuleList([Parameter(random.uniform(-0.5, 0.5), name=f'w_{j}_{i}') for i in range(input_size)]) for j in range(output_size)])\n",
    "        \n",
    "        if bias:\n",
    "            self.bias = ModuleList([Parameter(0.01, name=f'b_{j}') for j in range(output_size)])\n",
    "        else:\n",
    "            self.bias = None\n",
    "\n",
    "    def __call__(self, node_list : List[ComputationGraphNode]) -> List[ComputationGraphNode]:\n",
    "        if len(node_list) != self.input_size:\n",
    "            raise ValueError(f\"Input size mismatch: expected {self.input_size}, got {len(node_list)}\")\n",
    "\n",
    "        output_nodes = []\n",
    "        for j in range(self.output_size):\n",
    "            dot_product = ComputationGraphNode(0.0)\n",
    "            for i in range(self.input_size):\n",
    "                 dot_product += node_list[i] * self.weights[j][i]\n",
    "\n",
    "            if self.bias is not None:\n",
    "                 output_node = dot_product + self.bias[j]\n",
    "                 output_node.name = f'linear_{j}_out'\n",
    "                 output_nodes.append(output_node)\n",
    "            else:\n",
    "                 dot_product.name = f'linear_{j}_out'\n",
    "                 output_nodes.append(dot_product)\n",
    "\n",
    "        return output_nodes\n",
    "\n",
    "    def __repr__(self):\n",
    "        return f\"Linear(input_size={self.input_size}, output_size={self.output_size}, bias={self.bias is not None})\"\n",
    "\n",
    "def relu(x_list : List[ComputationGraphNode]) -> List[ComputationGraphNode]:\n",
    "    return [ReLU.forward(x) for x in x_list]\n",
    "\n",
    "def sigmoid(x_list : List[ComputationGraphNode]) -> List[ComputationGraphNode]:\n",
    "    return [Sigmoid.forward(x) for x in x_list]\n",
    "\n",
    "l = Linear(2, 3)\n",
    "l([Parameter(0), Parameter(1)])"
   ]
  },
  {
   "cell_type": "code",
   "execution_count": 8,
   "id": "f96d96b6",
   "metadata": {},
   "outputs": [
    {
     "data": {
      "text/plain": [
       "[ComputationGraphNode with value = 0.01,\n",
       " ComputationGraphNode with value = 0.01,\n",
       " ComputationGraphNode with value = 0.01,\n",
       " ComputationGraphNode with value = -0.3351167121233094,\n",
       " ComputationGraphNode with value = 0.130517934545202,\n",
       " ComputationGraphNode with value = 0.29064338607366125,\n",
       " ComputationGraphNode with value = -0.295966978167987,\n",
       " ComputationGraphNode with value = -0.1352913510289412,\n",
       " ComputationGraphNode with value = -0.17597179046910782]"
      ]
     },
     "execution_count": 8,
     "metadata": {},
     "output_type": "execute_result"
    }
   ],
   "source": [
    "l.parameters()"
   ]
  },
  {
   "cell_type": "markdown",
   "id": "8064b262",
   "metadata": {},
   "source": [
    "## Create your network similarly\n",
    "Create a two layer networks with as activation a sigmoid function :\n",
    "* input_size being the size of the input X\n",
    "* intermediate_size the hidden layer size\n",
    "* output_size the size of the outpu (for binary classification it is 1)\n"
   ]
  },
  {
   "cell_type": "code",
   "execution_count": 9,
   "id": "502968eb",
   "metadata": {},
   "outputs": [],
   "source": [
    "class MyTwoLayerNetwork(Module):\n",
    "    def __init__(self, input_size, intermediate_size, output_size = 1):\n",
    "        super().__init__()\n",
    "        self.layer1 = Linear(input_size, intermediate_size)\n",
    "        self.activation1 = sigmoid\n",
    "        self.layer2 = Linear(intermediate_size, output_size)\n",
    "\n",
    "    def __call__(self, node_list : List[ComputationGraphNode]) -> List[ComputationGraphNode]:\n",
    "        x = self.layer1(node_list)\n",
    "        x = self.activation1(x)\n",
    "        x = self.layer2(x)\n",
    "        return x\n",
    "\n",
    "    def __repr__(self):\n",
    "        return f\"MyTwoLayerNetwork(\\n  {self.layer1},\\n  {self.activation1.__name__},\\n  {self.layer2}\\n)\""
   ]
  },
  {
   "cell_type": "markdown",
   "id": "079e801f",
   "metadata": {},
   "source": [
    "### Implement the following functions :\n",
    "* hing_loss computing the hinge loss from node\n",
    "* update_weight that will update all the weights given in parameters $\\theta^t = \\theta^{t-1}  - \\lambda \\nabla_{\\theta^{t-1}} L$\n",
    "* zero_grad that set all accumulated gradient of the nodes to 0"
   ]
  },
  {
   "cell_type": "code",
   "execution_count": 10,
   "id": "acf58c9c",
   "metadata": {},
   "outputs": [],
   "source": [
    "## Create your loss function\n",
    "\n",
    "def hinge_loss(x : ComputationGraphNode, y: ComputationGraphNode):\n",
    "    return  ReLU.forward(ComputationGraphNode(1) - x * y)\n",
    "\n",
    "def update_weight(parameter_list : List[ComputationGraphNode], learning_rate: float) -> None:\n",
    "    lr = float(learning_rate)\n",
    "    for node in parameter_list:\n",
    "        if isinstance(node, Parameter):\n",
    "             if isinstance(node.cumulative_gradient, (int, float)):\n",
    "                node.value -= lr * node.cumulative_gradient\n",
    "             else:\n",
    "                 print(f\"Warning: Non-numeric gradient {node.cumulative_gradient} found for parameter {getattr(node, 'name', 'unnamed')}. Skipping update.\")\n",
    "\n",
    "def zero_grad(parameter_list: List[ComputationGraphNode]) -> None:\n",
    "    for node in parameter_list:\n",
    "        if isinstance(node, Parameter):\n",
    "             node.cumulative_gradient = 0.0"
   ]
  },
  {
   "cell_type": "markdown",
   "id": "41ef4db0",
   "metadata": {},
   "source": [
    "## Build a network that can solve the following problem\n",
    "\n",
    "Train your network on the following dataset and provide accuracy of the model on the training data (only for this example else consider separated trianing and testing set)"
   ]
  },
  {
   "cell_type": "code",
   "execution_count": 11,
   "id": "1fde92c1",
   "metadata": {},
   "outputs": [
    {
     "data": {
      "text/plain": [
       "<matplotlib.collections.PathCollection at 0x7bc1f8f54320>"
      ]
     },
     "execution_count": 11,
     "metadata": {},
     "output_type": "execute_result"
    },
    {
     "data": {
      "image/png": "[encoded data removed]",
      "text/plain": [
       "<Figure size 640x480 with 1 Axes>"
      ]
     },
     "metadata": {},
     "output_type": "display_data"
    }
   ],
   "source": [
    "import numpy as np\n",
    "import matplotlib.pyplot as plt\n",
    "np.random.seed(42)\n",
    "dataset = list(zip(np.random.randn(50,2)*0.2 + [0.5, 0.5], np.ones(50))) \\\n",
    "               + list(zip(np.random.randn(50,2)*0.2 + [-0.5, 0.5], np.zeros(50)))\\\n",
    "               + list(zip(np.random.randn(50,2)*0.2 + [0.5, -0.5], np.zeros(50))) \\\n",
    "               +  list(zip(np.random.randn(50,2)*0.2 + [-0.5, -0.5], np.ones(50)))\n",
    "X, Y = np.array([x for (x, _) in dataset]), np.array([y for (_, y) in dataset]) \n",
    "\n",
    "plt.scatter(X[Y==1][:, 0],X[Y==1][:, 1])\n",
    "plt.scatter(X[Y==0][:, 0],X[Y==0][:, 1])"
   ]
  },
  {
   "cell_type": "code",
   "execution_count": 12,
   "id": "77212760",
   "metadata": {},
   "outputs": [],
   "source": [
    "model = MyTwoLayerNetwork(2, 4, 1)"
   ]
  },
  {
   "cell_type": "code",
   "execution_count": 13,
   "id": "5e383715",
   "metadata": {},
   "outputs": [
    {
     "name": "stdout",
     "output_type": "stream",
     "text": [
      "The loss for the epoch 0 is 1.005705354014964\n",
      "The loss for the epoch 1 is 1.0660091262008513\n",
      "The loss for the epoch 2 is 1.011480301844298\n",
      "The loss for the epoch 3 is 1.0841052019777797\n",
      "The loss for the epoch 4 is 1.0713726208430108\n",
      "The loss for the epoch 5 is 0.9841945426842144\n",
      "The loss for the epoch 6 is 1.0562595200532097\n",
      "The loss for the epoch 7 is 1.073658287713771\n",
      "The loss for the epoch 8 is 1.0671068530748276\n",
      "The loss for the epoch 9 is 1.0140412535560612\n",
      "The loss for the epoch 10 is 1.060434664645072\n",
      "The loss for the epoch 11 is 1.0222573791327358\n",
      "The loss for the epoch 12 is 1.043176013275342\n",
      "The loss for the epoch 13 is 1.0152130579739795\n",
      "The loss for the epoch 14 is 1.0622545650074\n",
      "The loss for the epoch 15 is 0.9882323582049091\n",
      "The loss for the epoch 16 is 1.0297137353443415\n",
      "The loss for the epoch 17 is 1.021087570284409\n",
      "The loss for the epoch 18 is 1.056846373083298\n",
      "The loss for the epoch 19 is 1.0009917843995337\n",
      "The loss for the epoch 20 is 1.0487886527696597\n",
      "The loss for the epoch 21 is 1.0255887170377012\n",
      "The loss for the epoch 22 is 0.9468240589756539\n",
      "The loss for the epoch 23 is 0.8751109075622279\n",
      "The loss for the epoch 24 is 0.734439761654981\n",
      "The loss for the epoch 25 is 0.6620063943237376\n",
      "The loss for the epoch 26 is 0.630463249505672\n",
      "The loss for the epoch 27 is 0.5315457345368195\n",
      "The loss for the epoch 28 is 0.3843722950161652\n",
      "The loss for the epoch 29 is 0.23292286971464704\n"
     ]
    }
   ],
   "source": [
    "n_epoch = 30\n",
    "w = [0.1, 0.1]\n",
    "b = 0.1\n",
    "learning_rate = 0.1\n",
    "parameter_list = model.parameters()\n",
    "for epoch in range(n_epoch):\n",
    "    loss_values = []\n",
    "    shuffled_index = np.arange(len(X))\n",
    "    np.random.shuffle(shuffled_index)\n",
    "\n",
    "    for i in shuffled_index:\n",
    "        x, y_true_01 = X[i], Y[i]\n",
    "\n",
    "        input_nodes = [ComputationGraphNode(val, name=f'x{j}_{i}') for j, val in enumerate(x)]\n",
    "\n",
    "        y_target_pm1 = 2 * y_true_01 - 1\n",
    "        target_node = ComputationGraphNode(y_target_pm1, name=f'y_{i}')\n",
    "\n",
    "        pred_nodes = model(input_nodes)\n",
    "        pred = pred_nodes[0]\n",
    "\n",
    "        loss = hinge_loss(pred, target_node)\n",
    "\n",
    "        zero_grad(parameter_list)\n",
    "        loss.backward()\n",
    "        loss_values.append(loss.value)\n",
    "\n",
    "        update_weight(parameter_list, learning_rate)\n",
    "\n",
    "        zero_grad(parameter_list)\n",
    "\n",
    "    #print(pred)\n",
    "    print(f'The loss for the epoch {epoch} is {np.mean(loss_values)}')\n",
    "    loss_values = []"
   ]
  },
  {
   "cell_type": "markdown",
   "id": "816165e9",
   "metadata": {},
   "source": [
    "### Evaluate accuracy"
   ]
  },
  {
   "cell_type": "code",
   "execution_count": 14,
   "id": "96202711",
   "metadata": {},
   "outputs": [
    {
     "data": {
      "text/plain": [
       "0.985"
      ]
     },
     "execution_count": 14,
     "metadata": {},
     "output_type": "execute_result"
    }
   ],
   "source": [
    "# test \n",
    "score = 0\n",
    "for i in shuffled_index:\n",
    "    x, y = X[i], Y[i]\n",
    "    pred = model([ComputationGraphNode(x_val) for x_val in x])\n",
    "    score += 1 if (pred[0].value *  (2 * y - 1)  > 0) else  0\n",
    "score/len( X)"
   ]
  },
  {
   "cell_type": "code",
   "execution_count": null,
   "id": "9cf91c96",
   "metadata": {},
   "outputs": [],
   "source": []
  }
 ],
 "metadata": {
  "kernelspec": {
   "display_name": "base",
   "language": "python",
   "name": "python3"
  },
  "language_info": {
   "codemirror_mode": {
    "name": "ipython",
    "version": 3
   },
   "file_extension": ".py",
   "mimetype": "text/x-python",
   "name": "python",
   "nbconvert_exporter": "python",
   "pygments_lexer": "ipython3",
   "version": "3.12.3"
  }
 },
 "nbformat": 4,
 "nbformat_minor": 5
}
