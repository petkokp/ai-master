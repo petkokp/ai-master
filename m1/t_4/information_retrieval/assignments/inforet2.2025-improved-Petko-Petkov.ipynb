{
 "cells": [
  {
   "cell_type": "markdown",
   "id": "32e02f0b-7db2-4aa4-897c-55c388331127",
   "metadata": {},
   "source": [
    "# inforet 2"
   ]
  },
  {
   "cell_type": "code",
   "execution_count": null,
   "id": "c2e54178-39dc-4056-b037-9b486a7bdaa2",
   "metadata": {},
   "outputs": [],
   "source": [
    "# no time to lose:\n",
    "!wget https://gerdes.fr/saclay/inforet/our_msmarco.zip\n",
    "!unzip our_msmarco.zip\n",
    "# this will be big: 1.2gb!\n",
    "# you will get three files "
   ]
  },
  {
   "cell_type": "code",
   "execution_count": null,
   "id": "6fdbacdd-e2f1-487c-843c-8ec3c674b426",
   "metadata": {},
   "outputs": [],
   "source": []
  },
  {
   "cell_type": "markdown",
   "id": "bb23fdcb-8fee-4f3a-b33f-555bbb3f5513",
   "metadata": {},
   "source": [
    "## ↓ go down to the section \"reading in our smaller files\"\n"
   ]
  },
  {
   "cell_type": "code",
   "execution_count": null,
   "id": "374aee63-9d24-4f05-9a7f-c47c4d60bdb9",
   "metadata": {},
   "outputs": [],
   "source": []
  },
  {
   "cell_type": "code",
   "execution_count": 9,
   "id": "cf60877b-7250-493a-93aa-b41d8c3b91e1",
   "metadata": {},
   "outputs": [
    {
     "name": "stdout",
     "output_type": "stream",
     "text": [
      "The autotime extension is already loaded. To reload it, use:\n",
      "  %reload_ext autotime\n",
      "time: 1.3 ms (started: 2025-03-27 09:12:34 +01:00)\n"
     ]
    }
   ],
   "source": [
    "# this turns on the autotimer, so that every cell has a timing information below\n",
    "try:\n",
    "    %load_ext autotime\n",
    "except:\n",
    "    !pip install ipython-autotime\n",
    "    %load_ext autotime\n",
    "# stop using:\n",
    "# %unload_ext autotime\n",
    "# !pip install sklearn"
   ]
  },
  {
   "cell_type": "code",
   "execution_count": 1,
   "id": "ff253cc3-8b08-490c-b946-3e6ff3104da0",
   "metadata": {},
   "outputs": [],
   "source": [
    "import re\n",
    "import numpy as np\n",
    "import matplotlib.pyplot as plt\n",
    "import pandas as pd\n",
    "import seaborn as sns\n",
    "from collections import Counter\n",
    "from tqdm.notebook import tqdm\n",
    "from sklearn.feature_extraction.text import CountVectorizer\n",
    "import dask.dataframe as dd"
   ]
  },
  {
   "cell_type": "markdown",
   "id": "c2323687-17ad-497d-ae5f-6f38ad388d4f",
   "metadata": {},
   "source": [
    "## our dataset\n",
    "\n",
    "- \"TREC stands for the Text Retrieval Conference. Started in 1992 it is a series of workshops that focus on supporting research within the information retrieval community. It provides the infrastructure necessary for large-scale evaluation of text retrieval methodologies. Every year these workshops are organized, which are centered around a set of tracks. These tracks encourage new researches in the area of information retrieval.\"\n",
    "- TREC 2019 Deep Learning Track https://microsoft.github.io/msmarco/TREC-Deep-Learning-2019\n",
    "- data from MS-Marco https://microsoft.github.io/msmarco/\n",
    "- The dataset contains  367k queries and a corpus of 3.2 million documents. \n",
    "___\n",
    "- if you want to reproduce my selection or get a bigger set, uncomment and execute\n"
   ]
  },
  {
   "cell_type": "code",
   "execution_count": null,
   "id": "0574215f-73a5-4d1a-96b3-ba4dc8314f12",
   "metadata": {},
   "outputs": [],
   "source": [
    "#!wget https://msmarco.blob.core.windows.net/msmarcoranking/msmarco-docs.tsv.gz\n",
    "#!wget https://msmarco.blob.core.windows.net/msmarcoranking/msmarco-doctrain-queries.tsv.gz\n",
    "#!wget https://msmarco.blob.core.windows.net/msmarcoranking/msmarco-doctrain-top100.gz\n",
    "\t\n",
    "#!gzip -d msmarco-docs.tsv.gz\n",
    "#!gzip -d msmarco-doctrain-queries.tsv.gz\n",
    "#!gzip -d msmarco-doctrain-top100.gz\n"
   ]
  },
  {
   "attachments": {},
   "cell_type": "markdown",
   "id": "58b288fe-2788-4f9f-983e-07816431ea12",
   "metadata": {},
   "source": [
    "## skip to the section \"reading in our smaller files\"\n",
    "\n",
    "come back here if you want to understand how to reduce the dataset or you want to build your own dataset"
   ]
  },
  {
   "cell_type": "markdown",
   "id": "961fd674-6b24-43da-9d92-19e589506666",
   "metadata": {},
   "source": [
    "- we have three datasets:\n",
    "    \n",
    "    1. the queries: msmarco-doctrain-queries.tsv\n",
    "    2. the gold: msmarco-doctrain-top100.tsv is a table containing query_id, doc_id and rank\n",
    "    3. the actual documents: msmarco-docs.tsv 21GB of text! doc_id, url, title, text"
   ]
  },
  {
   "cell_type": "code",
   "execution_count": null,
   "id": "98275be5-2f98-486d-80ae-0d775f1dcbd6",
   "metadata": {},
   "outputs": [],
   "source": [
    "all_queries=pd.read_table('msmarco-doctrain-queries.tsv',header=None)\n",
    "all_queries.columns=['qid','query']\n",
    "print('Shape=>',all_queries.shape)\n",
    "all_queries.head()"
   ]
  },
  {
   "cell_type": "markdown",
   "id": "38bbe076-dd9d-4d97-bfba-31269a20ab86",
   "metadata": {},
   "source": [
    "#### reducing the dataset\n",
    "- here we take 1000 queries. \n",
    "- if this is too big for your computer, use this code to build smaller version, starting with the already reduced 1000 query set that we've downloaded before\n"
   ]
  },
  {
   "cell_type": "code",
   "execution_count": null,
   "id": "710fa4f5-ca4e-4fae-b295-b35e08e6e942",
   "metadata": {},
   "outputs": [],
   "source": [
    "our_queries=all_queries.sample(n=1000,random_state=42).reset_index(drop=True)\n",
    "print('Shape=>',our_queries.shape)\n",
    "our_queries.head()"
   ]
  },
  {
   "cell_type": "code",
   "execution_count": null,
   "id": "6e734ee2-9ce4-4c7d-9062-2f1a71d62e91",
   "metadata": {},
   "outputs": [],
   "source": [
    "our_queries.to_csv('our.msmarco.queries.tsv',sep='\\t')"
   ]
  },
  {
   "cell_type": "markdown",
   "id": "f4f44a4f-81d3-4994-8806-07c656e814af",
   "metadata": {},
   "source": [
    "#### the gold file\n",
    "- 36m lines!"
   ]
  },
  {
   "cell_type": "code",
   "execution_count": null,
   "id": "f97d1b2a-4fe3-4209-b75a-47f904dd9515",
   "metadata": {},
   "outputs": [],
   "source": [
    "gold_top100=pd.read_table('msmarco-doctrain-top100',delimiter=' ',header=None)\n",
    "gold_top100.columns=['qid','Q0','docid','rank','score','runstring']\n",
    "print('Shape=>',gold_top100.shape)\n",
    "display(gold_top100.head())\n",
    "# Reducing train_top100 for training\n",
    "our_gold_top100=train_top100[gold_top100['qid'].isin(our_queries['qid'].unique())].reset_index(drop=True)\n",
    "print('Shape=>',our_gold_top100.shape)\n",
    "our_gold_top100.head()"
   ]
  },
  {
   "cell_type": "code",
   "execution_count": null,
   "id": "ab90450d-6564-4e49-a2ae-397f618a90fb",
   "metadata": {},
   "outputs": [],
   "source": [
    "our_gold_top100.to_csv('our.msmarco.gold.tsv',sep='\\t')"
   ]
  },
  {
   "cell_type": "markdown",
   "id": "576936ea-3f1d-4ac7-9249-a9b4960d8691",
   "metadata": {},
   "source": [
    "#### the data file\n",
    "\n",
    "- it's so big that it's smarter to use dask: https://docs.dask.org/en/stable/"
   ]
  },
  {
   "cell_type": "code",
   "execution_count": null,
   "id": "e3ad34c4-45f8-47cc-bcbd-37f10ab3405d",
   "metadata": {},
   "outputs": [],
   "source": [
    "df=dd.read_table('msmarco-docs.tsv',blocksize=100e6,header=None) #  partitions of 100MB\n",
    "df.columns=['docid','url','title','body']\n",
    "df.head()"
   ]
  },
  {
   "cell_type": "code",
   "execution_count": null,
   "id": "7982a03f-f966-4883-9a6f-0980a390a1db",
   "metadata": {},
   "outputs": [],
   "source": [
    "# can't get the number of rows quickly :s\n",
    "# very slow:\n",
    "# len(df.index)\n",
    "\n",
    "# faster:\n",
    "!wc -l msmarco-docs.tsv"
   ]
  },
  {
   "cell_type": "markdown",
   "id": "096ad493-1139-48c2-baeb-a29905d0bdd4",
   "metadata": {},
   "source": [
    "- big dataset with 3m rows!\n",
    "- we want the top 100 for our queries\n",
    "- this takes some time!"
   ]
  },
  {
   "cell_type": "code",
   "execution_count": null,
   "id": "4a4912c9-64e4-4c90-8dba-1fc3cfef013b",
   "metadata": {},
   "outputs": [],
   "source": [
    "def create_corpus(result):\n",
    "  unique_docid=result['docid'].unique()\n",
    "  condition=df['docid'].isin(unique_docid)\n",
    "  corpus=df[condition].reset_index(drop=True)\n",
    "  corpus=corpus.drop(columns='url')\n",
    "  print('Number of Rows=>',len(corpus))\n",
    "  return corpus\n",
    "\n",
    "our_docs=create_corpus(our_gold_top100)\n",
    "our_docs.head()"
   ]
  },
  {
   "cell_type": "code",
   "execution_count": null,
   "id": "b5d415e7-a773-46a7-83d5-9df501ed3d45",
   "metadata": {},
   "outputs": [],
   "source": [
    "our_docs.to_csv('our.msmarco.docs.tsv',sep='\\t', single_file=True)"
   ]
  },
  {
   "cell_type": "markdown",
   "id": "6ea2310d-0bbb-42c4-8189-c8606c00fc30",
   "metadata": {},
   "source": [
    "- this is still a big file: 92k documents"
   ]
  },
  {
   "cell_type": "markdown",
   "id": "5bc01012-818c-46ae-bc27-d789ce2e0063",
   "metadata": {},
   "source": [
    "# reading in our smaller files\n",
    "here we use the\n",
    "\n",
    "- !wget https://gerdes.fr/saclay/informationRetrieval/our_msmarco.zip\n",
    "- !unzip our_msmarco.zip"
   ]
  },
  {
   "cell_type": "code",
   "execution_count": 10,
   "id": "b3532319-bc8b-47ce-bf91-10f26cd0fe37",
   "metadata": {},
   "outputs": [
    {
     "data": {
      "text/html": [
       "<div>\n",
       "<style scoped>\n",
       "    .dataframe tbody tr th:only-of-type {\n",
       "        vertical-align: middle;\n",
       "    }\n",
       "\n",
       "    .dataframe tbody tr th {\n",
       "        vertical-align: top;\n",
       "    }\n",
       "\n",
       "    .dataframe thead th {\n",
       "        text-align: right;\n",
       "    }\n",
       "</style>\n",
       "<table border=\"1\" class=\"dataframe\">\n",
       "  <thead>\n",
       "    <tr style=\"text-align: right;\">\n",
       "      <th></th>\n",
       "      <th>qid</th>\n",
       "      <th>query</th>\n",
       "    </tr>\n",
       "  </thead>\n",
       "  <tbody>\n",
       "    <tr>\n",
       "      <th>0</th>\n",
       "      <td>687888</td>\n",
       "      <td>what is a jpe</td>\n",
       "    </tr>\n",
       "    <tr>\n",
       "      <th>1</th>\n",
       "      <td>480210</td>\n",
       "      <td>price for asphalt driveway</td>\n",
       "    </tr>\n",
       "    <tr>\n",
       "      <th>2</th>\n",
       "      <td>591004</td>\n",
       "      <td>what causes pressure skin bruising</td>\n",
       "    </tr>\n",
       "    <tr>\n",
       "      <th>3</th>\n",
       "      <td>260536</td>\n",
       "      <td>how long drive from flagstaff to grand canyon</td>\n",
       "    </tr>\n",
       "    <tr>\n",
       "      <th>4</th>\n",
       "      <td>39422</td>\n",
       "      <td>average number of bowel movements per day for ...</td>\n",
       "    </tr>\n",
       "    <tr>\n",
       "      <th>...</th>\n",
       "      <td>...</td>\n",
       "      <td>...</td>\n",
       "    </tr>\n",
       "    <tr>\n",
       "      <th>995</th>\n",
       "      <td>89597</td>\n",
       "      <td>cell voltage mv meaning</td>\n",
       "    </tr>\n",
       "    <tr>\n",
       "      <th>996</th>\n",
       "      <td>1167043</td>\n",
       "      <td>what an ip address</td>\n",
       "    </tr>\n",
       "    <tr>\n",
       "      <th>997</th>\n",
       "      <td>737304</td>\n",
       "      <td>what is daily max citizens atm</td>\n",
       "    </tr>\n",
       "    <tr>\n",
       "      <th>998</th>\n",
       "      <td>156934</td>\n",
       "      <td>do i need a florida commercial driver license</td>\n",
       "    </tr>\n",
       "    <tr>\n",
       "      <th>999</th>\n",
       "      <td>654329</td>\n",
       "      <td>what does tv on cameras stand for</td>\n",
       "    </tr>\n",
       "  </tbody>\n",
       "</table>\n",
       "<p>1000 rows × 2 columns</p>\n",
       "</div>"
      ],
      "text/plain": [
       "         qid                                              query\n",
       "0     687888                                      what is a jpe\n",
       "1     480210                         price for asphalt driveway\n",
       "2     591004                 what causes pressure skin bruising\n",
       "3     260536      how long drive from flagstaff to grand canyon\n",
       "4      39422  average number of bowel movements per day for ...\n",
       "..       ...                                                ...\n",
       "995    89597                            cell voltage mv meaning\n",
       "996  1167043                                 what an ip address\n",
       "997   737304                     what is daily max citizens atm\n",
       "998   156934      do i need a florida commercial driver license\n",
       "999   654329                  what does tv on cameras stand for\n",
       "\n",
       "[1000 rows x 2 columns]"
      ]
     },
     "execution_count": 10,
     "metadata": {},
     "output_type": "execute_result"
    },
    {
     "name": "stdout",
     "output_type": "stream",
     "text": [
      "time: 16.7 ms (started: 2025-03-27 09:12:42 +01:00)\n"
     ]
    }
   ],
   "source": [
    "queries = pd.read_csv('our.msmarco.queries.tsv',sep='\\t',usecols=[1,2])\n",
    "queries"
   ]
  },
  {
   "cell_type": "code",
   "execution_count": 11,
   "id": "ada037f1-1bd5-4a67-a2e9-b38adada382d",
   "metadata": {},
   "outputs": [
    {
     "data": {
      "text/html": [
       "<div>\n",
       "<style scoped>\n",
       "    .dataframe tbody tr th:only-of-type {\n",
       "        vertical-align: middle;\n",
       "    }\n",
       "\n",
       "    .dataframe tbody tr th {\n",
       "        vertical-align: top;\n",
       "    }\n",
       "\n",
       "    .dataframe thead th {\n",
       "        text-align: right;\n",
       "    }\n",
       "</style>\n",
       "<table border=\"1\" class=\"dataframe\">\n",
       "  <thead>\n",
       "    <tr style=\"text-align: right;\">\n",
       "      <th></th>\n",
       "      <th>qid</th>\n",
       "      <th>docid</th>\n",
       "      <th>rank</th>\n",
       "      <th>score</th>\n",
       "    </tr>\n",
       "  </thead>\n",
       "  <tbody>\n",
       "    <tr>\n",
       "      <th>0</th>\n",
       "      <td>310290</td>\n",
       "      <td>D579750</td>\n",
       "      <td>1</td>\n",
       "      <td>-5.11498</td>\n",
       "    </tr>\n",
       "    <tr>\n",
       "      <th>1</th>\n",
       "      <td>310290</td>\n",
       "      <td>D579754</td>\n",
       "      <td>2</td>\n",
       "      <td>-5.57703</td>\n",
       "    </tr>\n",
       "    <tr>\n",
       "      <th>2</th>\n",
       "      <td>310290</td>\n",
       "      <td>D2380815</td>\n",
       "      <td>3</td>\n",
       "      <td>-5.84852</td>\n",
       "    </tr>\n",
       "    <tr>\n",
       "      <th>3</th>\n",
       "      <td>310290</td>\n",
       "      <td>D822566</td>\n",
       "      <td>4</td>\n",
       "      <td>-5.95002</td>\n",
       "    </tr>\n",
       "    <tr>\n",
       "      <th>4</th>\n",
       "      <td>310290</td>\n",
       "      <td>D2249695</td>\n",
       "      <td>5</td>\n",
       "      <td>-6.08326</td>\n",
       "    </tr>\n",
       "    <tr>\n",
       "      <th>...</th>\n",
       "      <td>...</td>\n",
       "      <td>...</td>\n",
       "      <td>...</td>\n",
       "      <td>...</td>\n",
       "    </tr>\n",
       "    <tr>\n",
       "      <th>99995</th>\n",
       "      <td>257942</td>\n",
       "      <td>D253854</td>\n",
       "      <td>96</td>\n",
       "      <td>-6.32693</td>\n",
       "    </tr>\n",
       "    <tr>\n",
       "      <th>99996</th>\n",
       "      <td>257942</td>\n",
       "      <td>D3056621</td>\n",
       "      <td>97</td>\n",
       "      <td>-6.32837</td>\n",
       "    </tr>\n",
       "    <tr>\n",
       "      <th>99997</th>\n",
       "      <td>257942</td>\n",
       "      <td>D1323491</td>\n",
       "      <td>98</td>\n",
       "      <td>-6.32871</td>\n",
       "    </tr>\n",
       "    <tr>\n",
       "      <th>99998</th>\n",
       "      <td>257942</td>\n",
       "      <td>D2722485</td>\n",
       "      <td>99</td>\n",
       "      <td>-6.33100</td>\n",
       "    </tr>\n",
       "    <tr>\n",
       "      <th>99999</th>\n",
       "      <td>257942</td>\n",
       "      <td>D2339077</td>\n",
       "      <td>100</td>\n",
       "      <td>-6.33441</td>\n",
       "    </tr>\n",
       "  </tbody>\n",
       "</table>\n",
       "<p>100000 rows × 4 columns</p>\n",
       "</div>"
      ],
      "text/plain": [
       "          qid     docid  rank    score\n",
       "0      310290   D579750     1 -5.11498\n",
       "1      310290   D579754     2 -5.57703\n",
       "2      310290  D2380815     3 -5.84852\n",
       "3      310290   D822566     4 -5.95002\n",
       "4      310290  D2249695     5 -6.08326\n",
       "...       ...       ...   ...      ...\n",
       "99995  257942   D253854    96 -6.32693\n",
       "99996  257942  D3056621    97 -6.32837\n",
       "99997  257942  D1323491    98 -6.32871\n",
       "99998  257942  D2722485    99 -6.33100\n",
       "99999  257942  D2339077   100 -6.33441\n",
       "\n",
       "[100000 rows x 4 columns]"
      ]
     },
     "execution_count": 11,
     "metadata": {},
     "output_type": "execute_result"
    },
    {
     "name": "stdout",
     "output_type": "stream",
     "text": [
      "time: 98.3 ms (started: 2025-03-27 09:12:43 +01:00)\n"
     ]
    }
   ],
   "source": [
    "gold = pd.read_csv('our.msmarco.gold.tsv',sep='\\t',usecols=[1,3,4,5])\n",
    "gold"
   ]
  },
  {
   "cell_type": "code",
   "execution_count": 12,
   "id": "de5a006e-fb54-4539-9131-d3fe083a2739",
   "metadata": {},
   "outputs": [
    {
     "data": {
      "text/html": [
       "<div>\n",
       "<style scoped>\n",
       "    .dataframe tbody tr th:only-of-type {\n",
       "        vertical-align: middle;\n",
       "    }\n",
       "\n",
       "    .dataframe tbody tr th {\n",
       "        vertical-align: top;\n",
       "    }\n",
       "\n",
       "    .dataframe thead th {\n",
       "        text-align: right;\n",
       "    }\n",
       "</style>\n",
       "<table border=\"1\" class=\"dataframe\">\n",
       "  <thead>\n",
       "    <tr style=\"text-align: right;\">\n",
       "      <th></th>\n",
       "      <th>docid</th>\n",
       "      <th>title</th>\n",
       "      <th>body</th>\n",
       "    </tr>\n",
       "  </thead>\n",
       "  <tbody>\n",
       "    <tr>\n",
       "      <th>0</th>\n",
       "      <td>D2981241</td>\n",
       "      <td>What do you call a group of lions?</td>\n",
       "      <td>Lions Vocabulary of the English Language Word ...</td>\n",
       "    </tr>\n",
       "    <tr>\n",
       "      <th>1</th>\n",
       "      <td>D687756</td>\n",
       "      <td>.</td>\n",
       "      <td>The A Priori Argument ( also, Rationalization;...</td>\n",
       "    </tr>\n",
       "    <tr>\n",
       "      <th>2</th>\n",
       "      <td>D913099</td>\n",
       "      <td>Everything You Need To Learn How To Cook Veget...</td>\n",
       "      <td>Home &gt; How To Cook Vegetables Everything You N...</td>\n",
       "    </tr>\n",
       "    <tr>\n",
       "      <th>3</th>\n",
       "      <td>D328017</td>\n",
       "      <td>What is the difference between latitude, longi...</td>\n",
       "      <td>Longitude Latitude Geographic Coordinate Syste...</td>\n",
       "    </tr>\n",
       "    <tr>\n",
       "      <th>4</th>\n",
       "      <td>D1636347</td>\n",
       "      <td>When was the pulley invented?</td>\n",
       "      <td>Answers.com ® Wiki Answers ® Categories Techno...</td>\n",
       "    </tr>\n",
       "    <tr>\n",
       "      <th>...</th>\n",
       "      <td>...</td>\n",
       "      <td>...</td>\n",
       "      <td>...</td>\n",
       "    </tr>\n",
       "    <tr>\n",
       "      <th>92560</th>\n",
       "      <td>D3379210</td>\n",
       "      <td>Top 39 Doctor insights on: Can An Iud Cause Ha...</td>\n",
       "      <td>Top 39 Doctor insights on: Can An Iud Cause Ha...</td>\n",
       "    </tr>\n",
       "    <tr>\n",
       "      <th>92561</th>\n",
       "      <td>D3068739</td>\n",
       "      <td>How to get back your DirecTV cancellation fees</td>\n",
       "      <td>How to get back your Direc TV cancellation fee...</td>\n",
       "    </tr>\n",
       "    <tr>\n",
       "      <th>92562</th>\n",
       "      <td>D1590402</td>\n",
       "      <td>Certification FAQs</td>\n",
       "      <td>Fingerprinting 1. Where can I get fingerprinte...</td>\n",
       "    </tr>\n",
       "    <tr>\n",
       "      <th>92563</th>\n",
       "      <td>D2175490</td>\n",
       "      <td>Greenhouse gas emissions by Canadian economic ...</td>\n",
       "      <td>Access PDF (682 KB)In 2015, Canada's total gre...</td>\n",
       "    </tr>\n",
       "    <tr>\n",
       "      <th>92564</th>\n",
       "      <td>D2580062</td>\n",
       "      <td>QuickBooks Bill Pay</td>\n",
       "      <td>Quick Books Bill Pay Simplify your accounts pa...</td>\n",
       "    </tr>\n",
       "  </tbody>\n",
       "</table>\n",
       "<p>92565 rows × 3 columns</p>\n",
       "</div>"
      ],
      "text/plain": [
       "          docid                                              title  \\\n",
       "0      D2981241                 What do you call a group of lions?   \n",
       "1       D687756                                                  .   \n",
       "2       D913099  Everything You Need To Learn How To Cook Veget...   \n",
       "3       D328017  What is the difference between latitude, longi...   \n",
       "4      D1636347                      When was the pulley invented?   \n",
       "...         ...                                                ...   \n",
       "92560  D3379210  Top 39 Doctor insights on: Can An Iud Cause Ha...   \n",
       "92561  D3068739     How to get back your DirecTV cancellation fees   \n",
       "92562  D1590402                                 Certification FAQs   \n",
       "92563  D2175490  Greenhouse gas emissions by Canadian economic ...   \n",
       "92564  D2580062                                QuickBooks Bill Pay   \n",
       "\n",
       "                                                    body  \n",
       "0      Lions Vocabulary of the English Language Word ...  \n",
       "1      The A Priori Argument ( also, Rationalization;...  \n",
       "2      Home > How To Cook Vegetables Everything You N...  \n",
       "3      Longitude Latitude Geographic Coordinate Syste...  \n",
       "4      Answers.com ® Wiki Answers ® Categories Techno...  \n",
       "...                                                  ...  \n",
       "92560  Top 39 Doctor insights on: Can An Iud Cause Ha...  \n",
       "92561  How to get back your Direc TV cancellation fee...  \n",
       "92562  Fingerprinting 1. Where can I get fingerprinte...  \n",
       "92563  Access PDF (682 KB)In 2015, Canada's total gre...  \n",
       "92564  Quick Books Bill Pay Simplify your accounts pa...  \n",
       "\n",
       "[92565 rows x 3 columns]"
      ]
     },
     "execution_count": 12,
     "metadata": {},
     "output_type": "execute_result"
    },
    {
     "name": "stdout",
     "output_type": "stream",
     "text": [
      "time: 14.2 s (started: 2025-03-27 09:12:43 +01:00)\n"
     ]
    }
   ],
   "source": [
    "docs = pd.read_csv('our.msmarco.docs.tsv',sep='\\t',usecols=[1,2,3])\n",
    "docs"
   ]
  },
  {
   "cell_type": "code",
   "execution_count": 13,
   "id": "772a1caf-1c38-4fd8-b819-bbe5f5d287a2",
   "metadata": {},
   "outputs": [
    {
     "name": "stdout",
     "output_type": "stream",
     "text": [
      "Shape=> (500, 2)\n"
     ]
    },
    {
     "data": {
      "text/html": [
       "<div>\n",
       "<style scoped>\n",
       "    .dataframe tbody tr th:only-of-type {\n",
       "        vertical-align: middle;\n",
       "    }\n",
       "\n",
       "    .dataframe tbody tr th {\n",
       "        vertical-align: top;\n",
       "    }\n",
       "\n",
       "    .dataframe thead th {\n",
       "        text-align: right;\n",
       "    }\n",
       "</style>\n",
       "<table border=\"1\" class=\"dataframe\">\n",
       "  <thead>\n",
       "    <tr style=\"text-align: right;\">\n",
       "      <th></th>\n",
       "      <th>qid</th>\n",
       "      <th>query</th>\n",
       "    </tr>\n",
       "  </thead>\n",
       "  <tbody>\n",
       "    <tr>\n",
       "      <th>0</th>\n",
       "      <td>687888</td>\n",
       "      <td>what is a jpe</td>\n",
       "    </tr>\n",
       "    <tr>\n",
       "      <th>1</th>\n",
       "      <td>480210</td>\n",
       "      <td>price for asphalt driveway</td>\n",
       "    </tr>\n",
       "    <tr>\n",
       "      <th>2</th>\n",
       "      <td>591004</td>\n",
       "      <td>what causes pressure skin bruising</td>\n",
       "    </tr>\n",
       "    <tr>\n",
       "      <th>3</th>\n",
       "      <td>260536</td>\n",
       "      <td>how long drive from flagstaff to grand canyon</td>\n",
       "    </tr>\n",
       "    <tr>\n",
       "      <th>4</th>\n",
       "      <td>39422</td>\n",
       "      <td>average number of bowel movements per day for ...</td>\n",
       "    </tr>\n",
       "  </tbody>\n",
       "</table>\n",
       "</div>"
      ],
      "text/plain": [
       "      qid                                              query\n",
       "0  687888                                      what is a jpe\n",
       "1  480210                         price for asphalt driveway\n",
       "2  591004                 what causes pressure skin bruising\n",
       "3  260536      how long drive from flagstaff to grand canyon\n",
       "4   39422  average number of bowel movements per day for ..."
      ]
     },
     "metadata": {},
     "output_type": "display_data"
    },
    {
     "name": "stdout",
     "output_type": "stream",
     "text": [
      "Shape=> (500, 2)\n"
     ]
    },
    {
     "data": {
      "text/html": [
       "<div>\n",
       "<style scoped>\n",
       "    .dataframe tbody tr th:only-of-type {\n",
       "        vertical-align: middle;\n",
       "    }\n",
       "\n",
       "    .dataframe tbody tr th {\n",
       "        vertical-align: top;\n",
       "    }\n",
       "\n",
       "    .dataframe thead th {\n",
       "        text-align: right;\n",
       "    }\n",
       "</style>\n",
       "<table border=\"1\" class=\"dataframe\">\n",
       "  <thead>\n",
       "    <tr style=\"text-align: right;\">\n",
       "      <th></th>\n",
       "      <th>qid</th>\n",
       "      <th>query</th>\n",
       "    </tr>\n",
       "  </thead>\n",
       "  <tbody>\n",
       "    <tr>\n",
       "      <th>500</th>\n",
       "      <td>116364</td>\n",
       "      <td>decree verb definition</td>\n",
       "    </tr>\n",
       "    <tr>\n",
       "      <th>501</th>\n",
       "      <td>638813</td>\n",
       "      <td>what does hemiballistic mean</td>\n",
       "    </tr>\n",
       "    <tr>\n",
       "      <th>502</th>\n",
       "      <td>401631</td>\n",
       "      <td>is advil considered aspirin?</td>\n",
       "    </tr>\n",
       "    <tr>\n",
       "      <th>503</th>\n",
       "      <td>1050265</td>\n",
       "      <td>who sang the song midnight train to georgia</td>\n",
       "    </tr>\n",
       "    <tr>\n",
       "      <th>504</th>\n",
       "      <td>632336</td>\n",
       "      <td>what does aq mean in chemistry</td>\n",
       "    </tr>\n",
       "  </tbody>\n",
       "</table>\n",
       "</div>"
      ],
      "text/plain": [
       "         qid                                        query\n",
       "500   116364                       decree verb definition\n",
       "501   638813                 what does hemiballistic mean\n",
       "502   401631                 is advil considered aspirin?\n",
       "503  1050265  who sang the song midnight train to georgia\n",
       "504   632336               what does aq mean in chemistry"
      ]
     },
     "execution_count": 13,
     "metadata": {},
     "output_type": "execute_result"
    },
    {
     "name": "stdout",
     "output_type": "stream",
     "text": [
      "time: 18.7 ms (started: 2025-03-27 09:12:57 +01:00)\n"
     ]
    }
   ],
   "source": [
    "# Creating Training Set of Queries\n",
    "training_queries=queries.iloc[:500]\n",
    "print('Shape=>',training_queries.shape)\n",
    "display(training_queries.head())\n",
    "# Creating Testing Set of Queries\n",
    "testing_queries=queries.iloc[500:]\n",
    "print('Shape=>',testing_queries.shape)\n",
    "testing_queries.head()"
   ]
  },
  {
   "cell_type": "markdown",
   "id": "35de36db-e7e1-4eb4-9589-033a9cfd6d9c",
   "metadata": {},
   "source": [
    "## exploring the data"
   ]
  },
  {
   "cell_type": "markdown",
   "id": "13879e33-fe7e-4a72-9beb-26c6a47e28fc",
   "metadata": {},
   "source": [
    "### 🚧 todo: check whether there are NaN and take care of them"
   ]
  },
  {
   "cell_type": "code",
   "execution_count": 14,
   "id": "7db2e10b-572a-4bc8-bc49-1c85d5130ffa",
   "metadata": {},
   "outputs": [
    {
     "name": "stdout",
     "output_type": "stream",
     "text": [
      "qid      0\n",
      "query    0\n",
      "dtype: int64\n",
      "qid      0\n",
      "query    0\n",
      "dtype: int64\n",
      "time: 7.07 ms (started: 2025-03-27 09:12:57 +01:00)\n"
     ]
    },
    {
     "name": "stderr",
     "output_type": "stream",
     "text": [
      "/tmp/ipykernel_81145/331171769.py:2: SettingWithCopyWarning: \n",
      "A value is trying to be set on a copy of a slice from a DataFrame\n",
      "\n",
      "See the caveats in the documentation: https://pandas.pydata.org/pandas-docs/stable/user_guide/indexing.html#returning-a-view-versus-a-copy\n",
      "  training_queries.fillna('', inplace=True)\n"
     ]
    }
   ],
   "source": [
    "print(training_queries.isna().sum())\n",
    "training_queries.fillna('', inplace=True)\n",
    "print(training_queries.isna().sum())"
   ]
  },
  {
   "cell_type": "code",
   "execution_count": 15,
   "id": "a5ef8426-b88b-44fc-b4bf-a43931215ee4",
   "metadata": {},
   "outputs": [
    {
     "name": "stdout",
     "output_type": "stream",
     "text": [
      "qid      0\n",
      "query    0\n",
      "dtype: int64\n",
      "qid      0\n",
      "query    0\n",
      "dtype: int64\n",
      "time: 9.35 ms (started: 2025-03-27 09:12:57 +01:00)\n"
     ]
    },
    {
     "name": "stderr",
     "output_type": "stream",
     "text": [
      "/tmp/ipykernel_81145/3631909810.py:2: SettingWithCopyWarning: \n",
      "A value is trying to be set on a copy of a slice from a DataFrame\n",
      "\n",
      "See the caveats in the documentation: https://pandas.pydata.org/pandas-docs/stable/user_guide/indexing.html#returning-a-view-versus-a-copy\n",
      "  testing_queries.fillna('', inplace=True)\n"
     ]
    }
   ],
   "source": [
    "print(testing_queries.isna().sum())\n",
    "testing_queries.fillna('', inplace=True)\n",
    "print(testing_queries.isna().sum())"
   ]
  },
  {
   "cell_type": "markdown",
   "id": "a3ad0b40-55ff-4259-a612-0a5709cca349",
   "metadata": {},
   "source": [
    "### let's have a look at some random query:"
   ]
  },
  {
   "cell_type": "code",
   "execution_count": 16,
   "id": "ed9c9a83-c3dd-483c-a190-9bd4ba8119e5",
   "metadata": {},
   "outputs": [
    {
     "data": {
      "text/plain": [
       "qid                                      251898\n",
       "query    how long does getting a doctorate take\n",
       "Name: 111, dtype: object"
      ]
     },
     "execution_count": 16,
     "metadata": {},
     "output_type": "execute_result"
    },
    {
     "name": "stdout",
     "output_type": "stream",
     "text": [
      "time: 4.12 ms (started: 2025-03-27 09:12:57 +01:00)\n"
     ]
    }
   ],
   "source": [
    "queries.loc[111]"
   ]
  },
  {
   "cell_type": "code",
   "execution_count": 17,
   "id": "2fb82a23-84e5-4ba1-9f2e-38c6f8b4bae6",
   "metadata": {},
   "outputs": [
    {
     "data": {
      "text/html": [
       "<div>\n",
       "<style scoped>\n",
       "    .dataframe tbody tr th:only-of-type {\n",
       "        vertical-align: middle;\n",
       "    }\n",
       "\n",
       "    .dataframe tbody tr th {\n",
       "        vertical-align: top;\n",
       "    }\n",
       "\n",
       "    .dataframe thead th {\n",
       "        text-align: right;\n",
       "    }\n",
       "</style>\n",
       "<table border=\"1\" class=\"dataframe\">\n",
       "  <thead>\n",
       "    <tr style=\"text-align: right;\">\n",
       "      <th></th>\n",
       "      <th>qid</th>\n",
       "      <th>docid</th>\n",
       "      <th>rank</th>\n",
       "      <th>score</th>\n",
       "    </tr>\n",
       "  </thead>\n",
       "  <tbody>\n",
       "    <tr>\n",
       "      <th>36200</th>\n",
       "      <td>251898</td>\n",
       "      <td>D2865964</td>\n",
       "      <td>1</td>\n",
       "      <td>-4.74293</td>\n",
       "    </tr>\n",
       "    <tr>\n",
       "      <th>36201</th>\n",
       "      <td>251898</td>\n",
       "      <td>D3557816</td>\n",
       "      <td>2</td>\n",
       "      <td>-4.90695</td>\n",
       "    </tr>\n",
       "    <tr>\n",
       "      <th>36202</th>\n",
       "      <td>251898</td>\n",
       "      <td>D2723985</td>\n",
       "      <td>3</td>\n",
       "      <td>-4.95911</td>\n",
       "    </tr>\n",
       "    <tr>\n",
       "      <th>36203</th>\n",
       "      <td>251898</td>\n",
       "      <td>D1951655</td>\n",
       "      <td>4</td>\n",
       "      <td>-4.97272</td>\n",
       "    </tr>\n",
       "    <tr>\n",
       "      <th>36204</th>\n",
       "      <td>251898</td>\n",
       "      <td>D1709749</td>\n",
       "      <td>5</td>\n",
       "      <td>-5.02176</td>\n",
       "    </tr>\n",
       "    <tr>\n",
       "      <th>...</th>\n",
       "      <td>...</td>\n",
       "      <td>...</td>\n",
       "      <td>...</td>\n",
       "      <td>...</td>\n",
       "    </tr>\n",
       "    <tr>\n",
       "      <th>36295</th>\n",
       "      <td>251898</td>\n",
       "      <td>D2531901</td>\n",
       "      <td>96</td>\n",
       "      <td>-5.56896</td>\n",
       "    </tr>\n",
       "    <tr>\n",
       "      <th>36296</th>\n",
       "      <td>251898</td>\n",
       "      <td>D2956542</td>\n",
       "      <td>97</td>\n",
       "      <td>-5.57138</td>\n",
       "    </tr>\n",
       "    <tr>\n",
       "      <th>36297</th>\n",
       "      <td>251898</td>\n",
       "      <td>D301873</td>\n",
       "      <td>98</td>\n",
       "      <td>-5.57262</td>\n",
       "    </tr>\n",
       "    <tr>\n",
       "      <th>36298</th>\n",
       "      <td>251898</td>\n",
       "      <td>D2952336</td>\n",
       "      <td>99</td>\n",
       "      <td>-5.57504</td>\n",
       "    </tr>\n",
       "    <tr>\n",
       "      <th>36299</th>\n",
       "      <td>251898</td>\n",
       "      <td>D1805809</td>\n",
       "      <td>100</td>\n",
       "      <td>-5.57544</td>\n",
       "    </tr>\n",
       "  </tbody>\n",
       "</table>\n",
       "<p>100 rows × 4 columns</p>\n",
       "</div>"
      ],
      "text/plain": [
       "          qid     docid  rank    score\n",
       "36200  251898  D2865964     1 -4.74293\n",
       "36201  251898  D3557816     2 -4.90695\n",
       "36202  251898  D2723985     3 -4.95911\n",
       "36203  251898  D1951655     4 -4.97272\n",
       "36204  251898  D1709749     5 -5.02176\n",
       "...       ...       ...   ...      ...\n",
       "36295  251898  D2531901    96 -5.56896\n",
       "36296  251898  D2956542    97 -5.57138\n",
       "36297  251898   D301873    98 -5.57262\n",
       "36298  251898  D2952336    99 -5.57504\n",
       "36299  251898  D1805809   100 -5.57544\n",
       "\n",
       "[100 rows x 4 columns]"
      ]
     },
     "execution_count": 17,
     "metadata": {},
     "output_type": "execute_result"
    },
    {
     "name": "stdout",
     "output_type": "stream",
     "text": [
      "time: 12.6 ms (started: 2025-03-27 09:12:57 +01:00)\n"
     ]
    }
   ],
   "source": [
    "gold[gold.qid==251898]"
   ]
  },
  {
   "cell_type": "markdown",
   "id": "eef3095e-4e50-4b76-8a01-7a0009e2b157",
   "metadata": {},
   "source": [
    "### 🚧 todo: let's look at the top-ranked document for that query\n",
    "- title\n",
    "- body"
   ]
  },
  {
   "cell_type": "code",
   "execution_count": 18,
   "id": "ce01135d-c574-41a9-9127-368c8388a5e8",
   "metadata": {},
   "outputs": [
    {
     "name": "stdout",
     "output_type": "stream",
     "text": [
      "Title: How long does it take to get a post-doctoral degree?\n",
      "Body: Answers.com ® Wiki Answers ® Categories Jobs & Education Education College Degrees Graduate Degrees How long does it take to get a post-doctoral degree? Flag How long does it take to get a post-doctoral degree? Answer by Joe Ragusa Confidence votes 98.6KI am not aware of any such thing as a postdoctoral degree. You may be referring to postdoctoral research which may be required for obtaining a tenure-track faculty position, especially at research oriented institutions. Some have suggested that postdoctoral appointments - that were traditionally optional - have become mandatory as demand for tenure-track positions in academia has drastically increased over previous decades (Wikipedia). The length of time in this case depends on the type, content, scope, and depth of the research.2 people found this useful Was this answer useful? Yes Somewhat No Tyler Durden9988 1,326 Contributions How long does it take to get a doctoral degree? It totally depends on the actual degree and school but you can assume between three and five years as a general guideline. Medical degrees may take longer due to the internshi …How long does it take to get a doctorate degree in psychology? Answer 6-8 years Mark Swarthout 794,167 Contributions Contract attorney. When not working I teach karate, collect stamps, write books, and play the ukulele. How long does it take to earn a doctorate degree? It depends on the program and how hard you work. Most programs take 2 to 3 years, but it can take longer if you are not a full time student. Sheepgrape 1,482 Contributions How long does it take to get a doctorate degree in psycology? About six years if you go for a Psy. D. or Ph. D. in psychology. Joe Ragusa How long does it take to get a doctor of pharmacy degree? Answer . Pharmacy programs grant the degree of Doctor of Pharmacy (Pharm. D.), which requires at least 6 years of postsecondary study and the passing of a State board of ph …How long does it take to get a doctors degree?it takes 4 years dependig Joe Ragusa How long does it take to get a doctoral degree in business? A doctoral degree can take approximately three to four years after completion of a bachelors degree. Rxdoc1 907 Contributions How long does it take to get a doctorate degree in pharmaceuticals? Since 2000, all coleges of pharmacu have been required to offer only a single-level entry doctorate degree in Pharmacy which takes 6 years to complete. Internship …Joe Ragusa How long does it take to get a doctor of medicine degree? The common path to practicing as a physician requires 8 years of education beyond high school and 3 to 8 additional years of internship and residency. All States, the District …Joe Ragusa How long does it take to get a doctorates degree? It depends on what kind of doctorate. In general, a doctorate will take approximately eight years beyond high school completion. Grrlygirl 10 Contributions How long does it take to get a doctorate degree in economics? Assuming: You are starting with a bachelor's degree You are enrolled in a doctorate program in which the required graduate courses are built in You are a …Joe Ragusa How long does it take to get a doctorate degree after a MBA? It depends on the specific program of study. Still, the approximate time frame could be anywhere from two to four years. Once again this depends on the program of study, the c …Joe Ragusa Answered In College Degrees How long does it take to get a doctorates degree in psycology? It would take approximately four years post high school completion. However, it depends on how long it takes a student to complete the dissertation (original topic, with resea …Joe Ragusa Answered In Anesthesiologists How long does it take to get a anesthesiologist doctor degree? It will take four years for the bachelor's degree with completion of all prerequisite coursework, and four years of medical school. There will also be three or more years to c …Answered In Bachelors Degrees How long does it take to get a doctorate degree in general? Theoretically, it would take 4 years to get a bachelors degree, another two for your masters, and yet another 2 (or more) to get your doctorate or Ph D. That's a total of at le …Tyler Durden9988 1,326 Contributions Answered In Education How long does it take for a doctor degree? The answer to your question depends on what type of doctor you want to know about. Physicians go to medical school for four years and then may seek additional training in resi …Mark Swarthout 794,167 Contributions Contract attorney. When not working I teach karate, collect stamps, write books, and play the ukulele. Answered In Bachelors Degrees How long does it take to get a post-secondary degree? It depends on the focus and level. You can finish law school full time in three years. Most Masters programs could be done in two years. \n",
      "time: 14 ms (started: 2025-03-27 09:14:27 +01:00)\n"
     ]
    }
   ],
   "source": [
    "top_docid = gold[(gold.qid == 251898) & (gold['rank'] == 1)]['docid'].values[0]\n",
    "doc_info = docs[docs.docid == top_docid]\n",
    "\n",
    "print(\"Title:\", doc_info['title'].values[0])\n",
    "print(\"Body:\", doc_info['body'].values[0])"
   ]
  },
  {
   "cell_type": "markdown",
   "id": "402273c0-e851-43c4-a212-819d0a9b8b4c",
   "metadata": {},
   "source": [
    "### 🚧 todo: let's look at the second document\n",
    "- let's make a functioin to make that easier"
   ]
  },
  {
   "cell_type": "code",
   "execution_count": 19,
   "id": "ea7f2274-946f-4c18-b2ba-867283278e14",
   "metadata": {},
   "outputs": [
    {
     "data": {
      "text/plain": [
       "'How long does it take to get a degree in psychology?'"
      ]
     },
     "metadata": {},
     "output_type": "display_data"
    },
    {
     "data": {
      "text/plain": [
       "\"Answers.com ® Wiki Answers ® Categories Jobs & Education Education College Degrees Bachelors Degrees How long does it take to get a degree in psychology? Flag How long does it take to get a degree in psychology? Answer by Colette Fisher Stone Confidence votes 16To complete a bachelors degree, it can take anywhere from 124 -128 credits. This could take approximately four years of study, provided the student takes the program as prescribed by the institution. Viper1 I just finished my Bachelor's in Psychology. It actually takes anywhere from 180-195 credits, and does take four years if you are taking 2 classes a semester. If you take on a heavier class load, it is possible to graduate in 3 years.15 people found this useful Was this answer useful? Yes Somewhat No Joe Ragusa How long does it take to earn a bachelor's degree in forensic psychology? It usually takes about 4 years to receive a Bachelor's Degree Answer I might also add that it depends on entrance testing of basic skills, credit load per …Aliciagw 2 Contributions How long does it take to earn a master's degree in psychology? Answer If you are talking about a Masters in Counseling, this could be anything from 1 and a half to about 3 years, depending on wether you are working a full time job …How long does it take to get a degree in forensic psychology? Answer You'd need a 4-year college degree, a 3-year master's degree and a doctorate degree, which can take 2-3 years. How long does it take to get a doctorate degree in psychology? Answer 6-8 years Joe Ragusa How long does it take to get a bachelors degree in psychology? A bachelor's degree in most areas can require between 120 to 128 college credits particular to a specific program of study. This would be based on a college or university tha …How long will it take to get a Bachelor degree in Psychology? Normally, it takes 4 years to get a bachelors degree. Joe Ragusa How long does it take to obtain a masters degree in psychology? It depends where you go to school now a day but my father-in-law has been a Psychologist for approx. 36yrs and attended school for 7yrs and is always doing training of sorts a …Corinne La Shawn 4 Contributions How long does it take you to get your master's degree in psychology? In most cases, a masters degree in psychology takes approximately 2 years to complete, and a doctorate takes 4-6 years (that is, 2-4 years longer than a masters degree) …Justinbieberluvah 3 Contributions How long does it take to get a Ph. D in psychology after getting a bachelor's degree? Obtaining a Ph D in psychology usually requires 5 to 7 years of graduate study after the bachelor's degree is received. Usually, a dissertation is required, but a Psy D degree c …Joe Ragusa How long does it take to get a bachelor's degree in Psychology at University of Phoenix? Typically, the bachelors degree is designed as a four year program of study as a full-time student, provided the individual takes the degree as prescribed by the college or un …April Raine 12,929 Contributions A cat, a book, and a Slurpee - what else could I possibly need? How long does it take to earn a bachelors degree in psychology? Usually 4-5 years Sigmund99 2 Contributions How long does it take to get a bachelor of psychology degree? Typically four years, to take the general education requirements and then to major in psychology. Some can do it in fewer years than that, if they enter college with adv …Joe Ragusa Answered In Bachelors Degrees How long does it take to earn your masters degree in child psychology? A masters degree within this field of study typically takes approximately two to three years to complete, depending on the credit load carried each semester. . A masters deg …Dr Ruby 100 Contributions Answered In Business & Finance How long does it take to complete a degree in forensic psychology? Bachelor's = 4 years Master's = 2 more years Doctorate = 2+ more So, 8 total (usually). There is also a pre-doctoral internship and a post-doctoral rotation tha …Answered In College Degrees How long does it take to get a Ph D in psychology after having a masters degree?a long time Wingdude88 306 Contributions Answered In College Degrees How long does it takes to get a bachelor's degree in psychology? Bachelor's Degree usually = 4 years (8 semesters) of study. Des Elms 1,261 Contributions Answered In Education How long does it take to get a bachelors in psychology if you have a associates degree? Answer 1: A bachelors degree is a four-year degree containing 120 semester credit hours. An associates degree is a two-year degree containing 60 semester credit hours. Someone … \""
      ]
     },
     "metadata": {},
     "output_type": "display_data"
    },
    {
     "name": "stdout",
     "output_type": "stream",
     "text": [
      "time: 28.7 ms (started: 2025-03-27 09:15:33 +01:00)\n"
     ]
    }
   ],
   "source": [
    "def titleAndBody(qid, rank):\n",
    "    docid_row = gold[(gold.qid == qid) & (gold['rank'] == rank)]\n",
    "    if not docid_row.empty:\n",
    "        target_docid = docid_row['docid'].values[0]\n",
    "        doc_info = docs[docs.docid == target_docid]\n",
    "        if not doc_info.empty:\n",
    "            display(doc_info['title'].values[0])\n",
    "            display(doc_info['body'].values[0])\n",
    "        else:\n",
    "            print(f\"Document with docid {target_docid} not found.\")\n",
    "    else:\n",
    "        print(f\"No document found for qid {qid} and rank {rank}.\")\n",
    "\n",
    "titleAndBody(251898, 2)"
   ]
  },
  {
   "cell_type": "markdown",
   "id": "ff47ffef-d779-403b-8a7f-75cf0d0cee54",
   "metadata": {},
   "source": [
    "#### let's look at the 100th document"
   ]
  },
  {
   "cell_type": "code",
   "execution_count": 20,
   "id": "361e71c5-7b0b-4dbe-b8b5-4b8ade9a33cf",
   "metadata": {},
   "outputs": [
    {
     "data": {
      "text/plain": [
       "'.'"
      ]
     },
     "metadata": {},
     "output_type": "display_data"
    },
    {
     "data": {
      "text/plain": [
       "'Solutions Sang Level 1 (Contributor)61 Answers, 2 Followers\"What process does long distance mail go through...\"2 0 What process does long distance mail go through? I.e from your mail slot to.... Was this answer helpful? Yes | No Comment Reply Report This answer closely relates to: Calculate how long it will take for mail to be sent from one state to another Mechanicsburg pa to cazenovia ny how long to ship regular mail Whats the longest it take to recieve mail from another state Ellsworth Level 1 (Contributor)52 Answers, 1 Follower0 0 From cerritos ca to cleveland oh. Was this answer helpful? Yes | No Comment Reply Report This answer closely relates to: Mailed from kansas city mo on a friday when can i expect it in cleveland ohio Freida Level 1 (Contributor)13 Answers, 1 Follower1 1 How long does it take to get your state and fedurel tax back? Was this answer helpful? Yes | No Comment Reply Report This answer closely relates to: Approximately how long will it take for a package from wichita kansas get to little rock arkansas Letter from kanas to ny how long Approximately how long does it take a package from lafayette to reach raceland louisiana Lavonda Level 1 (Contributor)19 Answers, 1 Follower1 1 How long does it take to get mail from nevada lost veagos to pensacola. Was this answer helpful? Yes | No Comment Reply Report This answer closely relates to: N y to pensacola fl by mail package how maney days Mail went out from arsaw to florida how many days Mail from md to in mailed dec 5th Anonymous0 0 If somebody send a card in the mail on Monday when will I get it from florida to Lancaster ohio. Was this answer helpful? Yes | No Comment Reply Report This answer closely relates to: Mail from florida to ohio Mailing from iowa to florida how may days Mail something from iowa to ohio Suggested Solutions (10) What\\'s this? Avis Level 1 (Contributor)19 Answers, 1 Follower\"If you want it to be priority it will still take 2-3 days...\"5 0 1 day if it is within certain tri counties (60 mile radius). 2 days if it`s within the state (north-south-east-west). 3 days if it is within a remote area of the same state. If you want it to be priority it will still take 2-3 days. Otherwise across the country it could take 3-5 days. Not including weekends. And for packages 7-10 days. International could take up to almost two weeks if you are lucky. I always send things with a tracking number.source: How long does regular mail take with in the same state? Was this answer helpful? Yes | No Comment Reply Report This answer closely relates to: A letter from indianna to lancastr pa how many days deliver Indianapolis in to apex nc days for letter to arrive Mail from north carolina to ny state Alda Level 1 (Contributor)24 Answers, 1 Follower\"The mail sent within state may deliver within 24 hours or may take...\"0 0 It depends on what state you are living in or what state mail service are you precisely asking for. Within USA the states are independent bodies and have control on there own authorities. The mail sent within state may deliver within 24 hours or may take up to 3 days depending on the size, weight and the nature of that mail sent to be delivered within the state. (Sidq2_Jawad)source: How long does mail take to deliver in the same state? Was this answer helpful? Yes | No Comment Reply Report This answer closely relates to: A letter sent friday in austin texas is delivered when in vicksburg ms Mail delivery times from state to state Regular mail from pa to wa Lucio Level 1 (Contributor)31 Answers, 1 Follower0 0 I have sent a mass mailing of magazines within the same state off of e Bay & they arrived to the buyer in about 1 day!source: How long does media mail take to arrive in same state? Was this answer helpful? Yes | No Comment Reply Report This answer closely relates to: Mailing something from delaware to missouri Mailing time from state to state Carrol Level 1 (Contributor)51 Answers, 2 Followers\"You have to file the tax in the same state you have the property in...\"1 0 Yes, you have to file the tax in the same state you have the property in. (Sidq_james Anderson)source: I own a house in another state i receive rent do i need to file state tax return in for that state? Was this answer helpful? Yes | No Comment Reply Report Aileen Level 1 (Contributor)15 Answers, 1 Follower\"1-3 days in the us...\"0 0 1-3 days in the us! i had the same ? 2, then i asked the mail woman!source: How long does mail take within state? Was this answer helpful? Yes | No Comment Reply Report This answer closely relates to: Length of first class mail from peachtree city ga tonewton ks Mailed letter today will arrive Mailed on the 5th when will it arrive Trula Level 1 (Contributor)15 Answers, 1 Follower1 0 If it is coming by the US post office just kiss that letter goodbye.source: How long does it take to mail a letter within your state? Was this answer helpful? Yes | No Comment Reply Report This answer closely relates to: Average time it takes to get letter mailed from olathe ks to mesa az About how long does it take for a letter to come from overland park k s to los angeles ca Letter mailed from kansas city when can i expect to recieve it in alabama Georgene Level 1 (Contributor)20 Answers, 1 Follower0 0 How long does it take to receive mail from los angeles to chicago?source: How long does it take mail to be delivered from one state to another? Was this answer helpful? Yes | No Comment Reply Report This answer closely relates to: Mail time from state to state Mail time from state to state north carolina to kansas Expecting a letter from washigton to texas how long will take to get here Anonymous1 0 How long from mail from pa to get north carolina?source: How long does mail take to deliver from state to state? Was this answer helpful? Yes | No Someone said: about 5-7 days, depending on if you shipped first class Was this comment helpful? Yes | No Comment Reply Report This answer closely relates to: Wheres does mail go from edmeston ny to north carolina Mail time from washington state to virginia Regular mail from wichita kansas to city of industry ca Krystle Level 1 (Contributor)16 Answers, 1 Follower\"Expect 8 weeks...\"0 0 Expect 8 weeks. If you do Direct Deposit, figure on 7.source: How long does it take for irs checks to mail to another state? Was this answer helpful? Yes | No Comment Reply Report Lonnie Level 1 (Contributor)57 Answers, 1 Follower0 0 Ummm.. I suppose but why would you do that?source: Can cigarettes be mail from state to state through the usps? Was this answer helpful? Yes | No Comment Reply Report Add Your Answer How long does it take mail to arrive from state to state? How long does it take mail to arrive from Kansas City to Indianapolis Post to Facebook Post to Twitter Subscribe me Users who viewed this problem also viewed:karensayoung777Level 1 (Contributor)1 Answer\"Long will it take a package from missouri to west virginia if shipped economy...\"0 0How long will it take a package from missouri to west virginia if shipped economy mail? I am getting a package from Kansas City Missouri I live in Charmco West Virginia. How long will it take? Comment Reply Report This discussion closely relates to: Average mail time from kansas city mo to elkton md Package from denver colorado to missouri shipped out tuesday when will it arrive Mail from kansas city mo to media palandrmom121Level 1 (Contributor)1 Answer\"How long will it take a letter to arrive from phila...\"1 0How long will it take a letter to arrive from Phila., PA to Austin, TX? HOW LONG WILL IT TAKE A LETTER FROM PHILA., PA TO AUSTIN, TX?. 3-4 days on average Comment Reply Reportmvandyke Level 1 (Contributor)1 Answer0 0How long does it take for aletter mailed from kansas city kansas to get to des moines iowa? What is the usual time it takes for the post office to deliver mail from one state to another Comment Reply Report This discussion closely relates to: Usual time for package to travel from iowa to fl Regular mail little rock to des moines Mail time from montana to washingtonwiskers13579Level 1 (Contributor)1 Answer\"Mail to get from cleveland texas to peachtree georgia?~need to know how fast mail...\"0 0If a mail lady is driving, how long will it take for mail to get from cleveland texas to peachtree georgia? Need to know how fast mail gets from here to there Comment Reply Report This discussion closely relates to: Mail from alabama to kansas First class mail from missouri to pennsylvania Mail from sc to mouser967321Level 1 (Contributor)1 Answer0 0How how many days does it take mail to get from schererville indiana to norman oklahoma? Time for mail delivery from state to state? Comment Reply Reportuser1025927Level 1 (Contributor)1 Answer\"Va?~will a letter i mail on tuesday arrive by friday?... \"0 0How long does it take for a letter to go from Preston, GA to Herndon, VA? Will a letter I mail on Tuesday arrive by Friday? Comment Reply Report Can you help us by answering one of these related questions? If you live in one state and work in another state which is your state recidence? If i have medicaide in one state and go on vacation in another state can i use it in that state i am visiting? How long does it take to recieve your nc state refund check in the mail after the check has been written? How long does it take priority first class mail to arrive from ft lauderdale florida to baltimore md if mail today at 1259 pm? How long does it take for mail to arrive in mexico if sent through priority international mail? How long does it take for mail from england to arrive in melbourne royal mail? How long does it take for mail packet too arrive in the mail from the uk to chicago ill u s a? Where to mail pa state w2s? If i sell a investment property located in another state do i owe my home state capital gains? Can my wages be garnished for judgment in community property state if i move to common law state? We need your help! Please help us improve our content by removing questions that are essentially the same and merging them into this question. Please tell us which questions below are the same as this one: How long does it take mail to arrive from state to state?77% - How long does it take for mail to get arrive from washington state to maryland?84% - How long does it take \"standard mail\" to go from state to state?38% - How are out of state mail deliver long distance mail?68% - How long does nm take to mail state tax?79% - How long does it take to mail state to stare?58% - How long does u s priority mail take within same state?44% - How long d you have to live in the state of michigan before you are concidered a legal resident of that state?51% - How long withih same state priority mail?68% - About how long does it take for mail to go from michigan to washington state/?59% - How long will it take to receive mail in a differnt state? The following questions have been merged into this one. If you feel any of these questions have been included in error help us improve our content by splitting these questions into seperate discussions. Please unmerge any questions that are not the same as this one: How long does it take mail to arrive from state to state? How long does it take for mail to arrive in another state? -How long does it take for mail to arrive same state? -How long does it take for a letter to get from pensacola to kansas? How long does it take mail from columbia mo to get to westerly ri? How long does it take for a package to come from virginia to washington state? If i mailed something wednesday when will it arrive in des moines ia? How long does mail take from state to state? How long to get mail sent from arkansas to city of industry california? How long for standard mail from kansas city to montana? How long does it take to recive mail from kansas to florida? If you send mailed on saturday morning from toppenish wa to olympia wa when does it arrived? How long dos it take for a letter to come from kansas city to long island ny? If a letter was mailed to me from another state when will i recieve it? How long does it take to mail a letter from denver to des moines? How long for priority mail to arrive nc to nm? How many days does ut take a west virginia state tax check to get mailed? When will a letter arrive from houston texas if i mailed it wednesday to cullen loiusiana? How long does it take for a letter to get from kansas city missouri to san diego california? How long goes it takes for reguler mail to shipp from georgia to kansas? How long does it take to recieve mail from shelton wa to barre pa? How long should mail take to arrive from ca to md? How many days does it take for mail to arrive from georgia to indianapolis? How long does it take to recieve mail from denver colorodo to tupelo ms? How long mail fro california to washington? How long does it take to get from ladson sc to west virginia? How long does it take for a letter to get to kansas from virginia? How long does it take for letter to arrive to east rockaway ny from st petersberg fl? If i mail a letter in state on friday will it arrive on tuesday? How long should it take for mail to arrive from kansas? How many days does it take to get from nevada to pennsylvania? If i mail something in michigan on monday to a michigan address when will it arrive? How long to receive first class mail from washington d c to arkansas? If i sent a letter this morning from houston texas when will it arrive in vicksburg ms? If my card was mailed from copley ohio when would i receive it in melrose fl? How long does it take a package to get from lakeside arizona to port neches texas? '"
      ]
     },
     "metadata": {},
     "output_type": "display_data"
    },
    {
     "name": "stdout",
     "output_type": "stream",
     "text": [
      "time: 30.3 ms (started: 2025-03-27 09:15:37 +01:00)\n"
     ]
    }
   ],
   "source": [
    "titleAndBody(251898,99)"
   ]
  },
  {
   "attachments": {},
   "cell_type": "markdown",
   "id": "a6f133cb-33fc-4a44-b00a-dd5840bdcaeb",
   "metadata": {},
   "source": [
    "### 🚧 todo: try this with a few different queries to get a feel of the quality of the gold"
   ]
  },
  {
   "cell_type": "markdown",
   "id": "02e6d82b-f8f1-4f6c-bc85-5c6a886ae303",
   "metadata": {},
   "source": [
    "# doing our first baseline retrieval function\n",
    "\n",
    "- todo: \n",
    "    - build and fit a binary CountVectorizer on the **titles**\n",
    "    - play with and understand build_analyzer, build_tokenizer, and transform\n",
    "    - transform our query 111\n",
    "        - understand what happens with yet unseen words in the transform process\n",
    "    - find the docs with the most words in common\n",
    "    - write an evaluation function computing the top 10 precision p@10\n",
    "    - apply to our 500 queries\n"
   ]
  },
  {
   "cell_type": "code",
   "execution_count": 22,
   "id": "b2a9419e-a830-4cd4-a43a-173328fa9d48",
   "metadata": {},
   "outputs": [
    {
     "name": "stdout",
     "output_type": "stream",
     "text": [
      "we got 39559 features, for example ['sputtering' 'sputters' 'sputum' 'spy' 'spyware' 'sq']\n",
      "time: 740 ms (started: 2025-03-27 09:17:13 +01:00)\n"
     ]
    }
   ],
   "source": [
    "vectorizer = CountVectorizer(binary=True)\n",
    "# understand the options: \n",
    "# https://scikit-learn.org/stable/modules/generated/sklearn.feature_extraction.text.CountVectorizer.html\n",
    "X = vectorizer.fit_transform(docs['title'].fillna(''))\n",
    "print('we got',len(vectorizer.get_feature_names_out()),'features, for example',vectorizer.get_feature_names_out()[33333:33339])"
   ]
  },
  {
   "cell_type": "code",
   "execution_count": 23,
   "id": "1753a230-993a-4545-b21f-aa05e56723e8",
   "metadata": {},
   "outputs": [
    {
     "data": {
      "text/plain": [
       "'how long does getting a doctorate take'"
      ]
     },
     "execution_count": 23,
     "metadata": {},
     "output_type": "execute_result"
    },
    {
     "name": "stdout",
     "output_type": "stream",
     "text": [
      "time: 5.89 ms (started: 2025-03-27 09:17:15 +01:00)\n"
     ]
    }
   ],
   "source": [
    "queries.loc[111].query"
   ]
  },
  {
   "cell_type": "code",
   "execution_count": 24,
   "id": "9b1dacd6-49c2-44e7-8271-62bc68cd6ecf",
   "metadata": {},
   "outputs": [
    {
     "name": "stdout",
     "output_type": "stream",
     "text": [
      "\n",
      "Analyzer output for query 111:\n",
      "['how', 'long', 'does', 'getting', 'doctorate', 'take']\n",
      "time: 1.26 ms (started: 2025-03-27 09:17:32 +01:00)\n"
     ]
    }
   ],
   "source": [
    "query_111_text = queries.loc[111].query\n",
    "print(\"\\nAnalyzer output for query 111:\")\n",
    "analyzer = vectorizer.build_analyzer()\n",
    "print(analyzer(query_111_text))"
   ]
  },
  {
   "cell_type": "code",
   "execution_count": 25,
   "id": "a543574d-626e-4d60-9465-a89eca40896d",
   "metadata": {},
   "outputs": [
    {
     "name": "stdout",
     "output_type": "stream",
     "text": [
      "\n",
      "Tokenizer output for query 111:\n",
      "['how', 'long', 'does', 'getting', 'doctorate', 'take']\n",
      "time: 862 μs (started: 2025-03-27 09:17:46 +01:00)\n"
     ]
    }
   ],
   "source": [
    "print(\"\\nTokenizer output for query 111:\")\n",
    "tokenizer = vectorizer.build_tokenizer()\n",
    "print(tokenizer(query_111_text))"
   ]
  },
  {
   "cell_type": "code",
   "execution_count": 28,
   "id": "b2c79230-8787-4357-bd11-952451725a15",
   "metadata": {},
   "outputs": [
    {
     "name": "stdout",
     "output_type": "stream",
     "text": [
      "\n",
      "Transformed vector for query 111:\n"
     ]
    },
    {
     "data": {
      "text/plain": [
       "<Compressed Sparse Row sparse matrix of dtype 'int64'\n",
       "\twith 6 stored elements and shape (1, 39559)>"
      ]
     },
     "execution_count": 28,
     "metadata": {},
     "output_type": "execute_result"
    },
    {
     "name": "stdout",
     "output_type": "stream",
     "text": [
      "time: 4.87 ms (started: 2025-03-27 09:18:12 +01:00)\n"
     ]
    }
   ],
   "source": [
    "print(\"\\nTransformed vector for query 111:\")\n",
    "qv = vectorizer.transform([query_111_text])\n",
    "qv"
   ]
  },
  {
   "cell_type": "markdown",
   "id": "e30116df-0d90-4ca7-9111-e9a56e368f9b",
   "metadata": {},
   "source": [
    "### 🚧 todo:\n",
    "- understand what happens with yet unseen words in the transform process\n",
    "\n",
    "\n",
    "- think of the shape of X, what are the rows, what are the columns?\n",
    "- how to select the titles that have the words of our query?\n",
    "       - think of matrix multiplication and transposition"
   ]
  },
  {
   "cell_type": "code",
   "execution_count": 31,
   "id": "a4980c9b-340d-452f-9291-7c98fdbb29e7",
   "metadata": {},
   "outputs": [
    {
     "name": "stdout",
     "output_type": "stream",
     "text": [
      "Shape of X: (92565, 39559)\n",
      "Shape of qv: (1, 39559)\n",
      "\n",
      "Shape of the resulting overlap vector (xqv): (92565, 1)\n"
     ]
    },
    {
     "data": {
      "text/plain": [
       "<Compressed Sparse Row sparse matrix of dtype 'int64'\n",
       "\twith 12144 stored elements and shape (92565, 1)>"
      ]
     },
     "execution_count": 31,
     "metadata": {},
     "output_type": "execute_result"
    },
    {
     "name": "stdout",
     "output_type": "stream",
     "text": [
      "time: 14.2 ms (started: 2025-03-27 09:19:50 +01:00)\n"
     ]
    }
   ],
   "source": [
    "print(\"Shape of X:\", X.shape)\n",
    "\n",
    "print(\"Shape of qv:\", qv.shape)\n",
    "\n",
    "xqv = X.dot(qv.T)\n",
    "\n",
    "print(\"\\nShape of the resulting overlap vector (xqv):\", xqv.shape)\n",
    "\n",
    "xqv"
   ]
  },
  {
   "cell_type": "markdown",
   "id": "6fb69ccc-a0c1-4e22-a9c0-16acba58aa5c",
   "metadata": {},
   "source": [
    "### 🚧 todo: \n",
    "  - look at argmax and max, \n",
    "  - check the numpy \n",
    "      - flatnonzero function to find the best match\n",
    "      - the .A and the .flat functions\n",
    "  - show the best matching doc"
   ]
  },
  {
   "cell_type": "code",
   "execution_count": 33,
   "id": "17b73f58-dfe9-47d4-ae07-fba2031a2979",
   "metadata": {},
   "outputs": [
    {
     "name": "stdout",
     "output_type": "stream",
     "text": [
      "Maximum overlap score: 6\n",
      "Index of the best matching document: 11957\n",
      "\n",
      "Indices of documents with non-zero overlap: [ 2  7  8 26 27 30 45 53 77 81]... (showing first 10)\n",
      "\n",
      "Dense array representation shape: (92565, 1)\n",
      "\n",
      "First 10 scores using .flat:\n",
      "0 0 1 0 0 0 0 1 2 0 \n",
      "\n",
      "Best matching document:\n"
     ]
    },
    {
     "data": {
      "text/plain": [
       "docid                                             D2408424\n",
       "title    After getting my bachelors how long does it ta...\n",
       "body     Education & Reference Higher Education (Univer...\n",
       "Name: 11957, dtype: object"
      ]
     },
     "execution_count": 33,
     "metadata": {},
     "output_type": "execute_result"
    },
    {
     "name": "stdout",
     "output_type": "stream",
     "text": [
      "time: 10.5 ms (started: 2025-03-27 09:21:37 +01:00)\n"
     ]
    }
   ],
   "source": [
    "max_score = xqv.max()\n",
    "print(f\"Maximum overlap score: {max_score}\")\n",
    "\n",
    "best_match_index = xqv.argmax()\n",
    "print(f\"Index of the best matching document: {best_match_index}\")\n",
    "\n",
    "non_zero_indices = np.flatnonzero(xqv.toarray())\n",
    "print(f\"\\nIndices of documents with non-zero overlap: {non_zero_indices[:10]}... (showing first 10)\")\n",
    "\n",
    "dense_scores = xqv.toarray()\n",
    "print(f\"\\nDense array representation shape: {dense_scores.shape}\")\n",
    "\n",
    "print(\"\\nFirst 10 scores using .flat:\")\n",
    "count = 0\n",
    "for score in xqv.toarray().flat:\n",
    "    print(score, end=' ')\n",
    "    count += 1\n",
    "    if count >= 10:\n",
    "        break\n",
    "print(\"\\n\")\n",
    "\n",
    "print(\"Best matching document:\")\n",
    "docs.iloc[best_match_index]"
   ]
  },
  {
   "cell_type": "markdown",
   "id": "36f56fd4-49e6-4c94-a11e-119556a0b52f",
   "metadata": {},
   "source": [
    "### 🚧 todo: use argpartition to get the 10 best answers"
   ]
  },
  {
   "cell_type": "code",
   "execution_count": 34,
   "id": "07b4ee59-7084-43ac-aabd-bd813b45f6aa",
   "metadata": {},
   "outputs": [
    {
     "data": {
      "text/plain": [
       "array([25818, 25854, 71472, 61592, 83787, 66313,  3686, 91275, 43190,\n",
       "       11957])"
      ]
     },
     "execution_count": 34,
     "metadata": {},
     "output_type": "execute_result"
    },
    {
     "name": "stdout",
     "output_type": "stream",
     "text": [
      "time: 12.8 ms (started: 2025-03-27 09:23:33 +01:00)\n"
     ]
    }
   ],
   "source": [
    "scores_1d = xqv.toarray().flatten()\n",
    "num_elements_to_get = min(10, len(scores_1d))\n",
    "k_partition = -num_elements_to_get\n",
    "pred10i = np.argpartition(scores_1d, k_partition)[k_partition:]\n",
    "pred10i"
   ]
  },
  {
   "cell_type": "code",
   "execution_count": 35,
   "id": "6ef515f4-8e50-490a-912b-df737d740a96",
   "metadata": {},
   "outputs": [
    {
     "data": {
      "text/html": [
       "<div>\n",
       "<style scoped>\n",
       "    .dataframe tbody tr th:only-of-type {\n",
       "        vertical-align: middle;\n",
       "    }\n",
       "\n",
       "    .dataframe tbody tr th {\n",
       "        vertical-align: top;\n",
       "    }\n",
       "\n",
       "    .dataframe thead th {\n",
       "        text-align: right;\n",
       "    }\n",
       "</style>\n",
       "<table border=\"1\" class=\"dataframe\">\n",
       "  <thead>\n",
       "    <tr style=\"text-align: right;\">\n",
       "      <th></th>\n",
       "      <th>docid</th>\n",
       "      <th>title</th>\n",
       "      <th>body</th>\n",
       "    </tr>\n",
       "  </thead>\n",
       "  <tbody>\n",
       "    <tr>\n",
       "      <th>25818</th>\n",
       "      <td>D999043</td>\n",
       "      <td>How Long Does It Take for Opiates to Leave You...</td>\n",
       "      <td>How Long Does It Take for Opiates to Leave You...</td>\n",
       "    </tr>\n",
       "    <tr>\n",
       "      <th>25854</th>\n",
       "      <td>D2628339</td>\n",
       "      <td>How long does an immigration application take ...</td>\n",
       "      <td>Q&amp;AAsked in Indianapolis, IN | October 10, 200...</td>\n",
       "    </tr>\n",
       "    <tr>\n",
       "      <th>71472</th>\n",
       "      <td>D742857</td>\n",
       "      <td>How long does it take for bone to mature?</td>\n",
       "      <td>How long does it take for bone to mature? Bone...</td>\n",
       "    </tr>\n",
       "    <tr>\n",
       "      <th>61592</th>\n",
       "      <td>D1591998</td>\n",
       "      <td>How Long Does It Take to Unsuspend a License A...</td>\n",
       "      <td>Page 1 of 6 1 2 3 ... Last Results 1 to 10 of ...</td>\n",
       "    </tr>\n",
       "    <tr>\n",
       "      <th>83787</th>\n",
       "      <td>D1951655</td>\n",
       "      <td>How long does it take to get a Doctorate of Nu...</td>\n",
       "      <td>Answers.com ® Wiki Answers ® Categories Jobs &amp;...</td>\n",
       "    </tr>\n",
       "    <tr>\n",
       "      <th>66313</th>\n",
       "      <td>D2956542</td>\n",
       "      <td>How long does it take to finish a doctorate?</td>\n",
       "      <td>Education &amp; Reference Higher Education (Univer...</td>\n",
       "    </tr>\n",
       "    <tr>\n",
       "      <th>3686</th>\n",
       "      <td>D2111066</td>\n",
       "      <td>After getting a flu shot how long does it take...</td>\n",
       "      <td>Celticballa568 19 Contributions After getting ...</td>\n",
       "    </tr>\n",
       "    <tr>\n",
       "      <th>91275</th>\n",
       "      <td>D3090762</td>\n",
       "      <td>How Long Does It Take to Get a Doctorate in En...</td>\n",
       "      <td>Home » College How Long Does It Take to Get a ...</td>\n",
       "    </tr>\n",
       "    <tr>\n",
       "      <th>43190</th>\n",
       "      <td>D700799</td>\n",
       "      <td>Holidays By Country Â»Holidays By Religion Â»O...</td>\n",
       "      <td>Home &gt; Important Days &gt; Daylight Savings &gt; Day...</td>\n",
       "    </tr>\n",
       "    <tr>\n",
       "      <th>11957</th>\n",
       "      <td>D2408424</td>\n",
       "      <td>After getting my bachelors how long does it ta...</td>\n",
       "      <td>Education &amp; Reference Higher Education (Univer...</td>\n",
       "    </tr>\n",
       "  </tbody>\n",
       "</table>\n",
       "</div>"
      ],
      "text/plain": [
       "          docid                                              title  \\\n",
       "25818   D999043  How Long Does It Take for Opiates to Leave You...   \n",
       "25854  D2628339  How long does an immigration application take ...   \n",
       "71472   D742857          How long does it take for bone to mature?   \n",
       "61592  D1591998  How Long Does It Take to Unsuspend a License A...   \n",
       "83787  D1951655  How long does it take to get a Doctorate of Nu...   \n",
       "66313  D2956542       How long does it take to finish a doctorate?   \n",
       "3686   D2111066  After getting a flu shot how long does it take...   \n",
       "91275  D3090762  How Long Does It Take to Get a Doctorate in En...   \n",
       "43190   D700799  Holidays By Country Â»Holidays By Religion Â»O...   \n",
       "11957  D2408424  After getting my bachelors how long does it ta...   \n",
       "\n",
       "                                                    body  \n",
       "25818  How Long Does It Take for Opiates to Leave You...  \n",
       "25854  Q&AAsked in Indianapolis, IN | October 10, 200...  \n",
       "71472  How long does it take for bone to mature? Bone...  \n",
       "61592  Page 1 of 6 1 2 3 ... Last Results 1 to 10 of ...  \n",
       "83787  Answers.com ® Wiki Answers ® Categories Jobs &...  \n",
       "66313  Education & Reference Higher Education (Univer...  \n",
       "3686   Celticballa568 19 Contributions After getting ...  \n",
       "91275  Home » College How Long Does It Take to Get a ...  \n",
       "43190  Home > Important Days > Daylight Savings > Day...  \n",
       "11957  Education & Reference Higher Education (Univer...  "
      ]
     },
     "execution_count": 35,
     "metadata": {},
     "output_type": "execute_result"
    },
    {
     "name": "stdout",
     "output_type": "stream",
     "text": [
      "time: 13.2 ms (started: 2025-03-27 09:23:34 +01:00)\n"
     ]
    }
   ],
   "source": [
    "docs.loc[pred10i]"
   ]
  },
  {
   "cell_type": "code",
   "execution_count": 36,
   "id": "40f071cb-224f-4c77-9811-31e7be389ca8",
   "metadata": {},
   "outputs": [
    {
     "data": {
      "text/plain": [
       "25818     D999043\n",
       "25854    D2628339\n",
       "71472     D742857\n",
       "61592    D1591998\n",
       "83787    D1951655\n",
       "66313    D2956542\n",
       "3686     D2111066\n",
       "91275    D3090762\n",
       "43190     D700799\n",
       "11957    D2408424\n",
       "Name: docid, dtype: object"
      ]
     },
     "execution_count": 36,
     "metadata": {},
     "output_type": "execute_result"
    },
    {
     "name": "stdout",
     "output_type": "stream",
     "text": [
      "time: 9 ms (started: 2025-03-27 09:23:35 +01:00)\n"
     ]
    }
   ],
   "source": [
    "docs.loc[pred10i].docid"
   ]
  },
  {
   "cell_type": "code",
   "execution_count": 37,
   "id": "626f69aa-157f-44f9-bca0-9c03b3855a66",
   "metadata": {},
   "outputs": [
    {
     "data": {
      "text/plain": [
       "36200    D2865964\n",
       "36201    D3557816\n",
       "36202    D2723985\n",
       "36203    D1951655\n",
       "36204    D1709749\n",
       "           ...   \n",
       "36295    D2531901\n",
       "36296    D2956542\n",
       "36297     D301873\n",
       "36298    D2952336\n",
       "36299    D1805809\n",
       "Name: docid, Length: 100, dtype: object"
      ]
     },
     "execution_count": 37,
     "metadata": {},
     "output_type": "execute_result"
    },
    {
     "name": "stdout",
     "output_type": "stream",
     "text": [
      "time: 8.27 ms (started: 2025-03-27 09:23:35 +01:00)\n"
     ]
    }
   ],
   "source": [
    "gold[gold.qid==251898].docid"
   ]
  },
  {
   "cell_type": "markdown",
   "id": "39524ba6-1176-49b1-9e40-afd1a2b5e1bd",
   "metadata": {},
   "source": [
    "### 🚧 todo:\n",
    "- find the relevant documents that are in our top 10\n",
    "- user intersect1d\n",
    "- compute the precision p@10"
   ]
  },
  {
   "cell_type": "code",
   "execution_count": 39,
   "id": "667c20bf-9a1f-4159-af18-83bb2a81d965",
   "metadata": {},
   "outputs": [
    {
     "name": "stdout",
     "output_type": "stream",
     "text": [
      "Relevant documents found in top 10:\n",
      "['D1951655' 'D2408424' 'D2956542' 'D3090762']\n",
      "time: 4.55 ms (started: 2025-03-27 09:28:28 +01:00)\n"
     ]
    }
   ],
   "source": [
    "top_scores = scores_1d[pred10i]\n",
    "sorted_indices_within_top = np.argsort(top_scores)[::-1]\n",
    "\n",
    "pred10i_sorted = pred10i[sorted_indices_within_top]\n",
    "\n",
    "retrieved_docids = docs.iloc[pred10i_sorted]['docid'].values\n",
    "\n",
    "relevant_docids = gold[gold.qid == 251898]['docid'].values\n",
    "\n",
    "intersection = np.intersect1d(retrieved_docids, relevant_docids)\n",
    "print(\"Relevant documents found in top 10:\")\n",
    "print(intersection)"
   ]
  },
  {
   "cell_type": "code",
   "execution_count": 40,
   "id": "12a703c3-4de5-454d-8969-7b20ecbffe15",
   "metadata": {},
   "outputs": [
    {
     "name": "stdout",
     "output_type": "stream",
     "text": [
      "\n",
      "P@10:\n",
      "0.4\n",
      "time: 1.42 ms (started: 2025-03-27 09:28:54 +01:00)\n"
     ]
    }
   ],
   "source": [
    "num_retrieved = len(retrieved_docids)\n",
    "actual_k = min(10, num_retrieved)\n",
    "if actual_k > 0:\n",
    "    precision = len(intersection) / actual_k\n",
    "else:\n",
    "    precision = 0.0\n",
    "\n",
    "print(f\"\\nP@{actual_k}:\")\n",
    "print(precision)"
   ]
  },
  {
   "cell_type": "code",
   "execution_count": 41,
   "id": "b9fb0873-3a0d-4025-8992-88a190f69668",
   "metadata": {},
   "outputs": [
    {
     "data": {
      "text/plain": [
       "0.4"
      ]
     },
     "execution_count": 41,
     "metadata": {},
     "output_type": "execute_result"
    },
    {
     "name": "stdout",
     "output_type": "stream",
     "text": [
      "time: 20.3 ms (started: 2025-03-27 09:29:12 +01:00)\n"
     ]
    }
   ],
   "source": [
    "# 🚧 todo: build a function p@10 that gives the precision at 10\n",
    "def pAt10(qid):\n",
    "    query_info = queries[queries.qid == qid]\n",
    "    if query_info.empty:\n",
    "        print(f\"Query ID {qid} not found.\")\n",
    "        return 0.0\n",
    "    query_text = query_info['query'].values[0]\n",
    "    if not isinstance(query_text, str):\n",
    "        print(f\"Invalid query text for QID {qid}.\")\n",
    "        return 0.0\n",
    "\n",
    "    qv = vectorizer.transform([query_text])\n",
    "\n",
    "    scores = X.dot(qv.T).toarray().flatten()\n",
    "\n",
    "    num_docs_total = len(scores)\n",
    "    num_elements_to_get = min(10, num_docs_total)\n",
    "    if num_elements_to_get == 0:\n",
    "        return 0.0\n",
    "\n",
    "    k_partition = -num_elements_to_get\n",
    "    if num_elements_to_get >= 1:\n",
    "        try:\n",
    "            pred10i = np.argpartition(scores, k_partition)[k_partition:]\n",
    "            top_scores = scores[pred10i]\n",
    "            sorted_indices_within_top = np.argsort(top_scores)[::-1]\n",
    "            pred10i_sorted = pred10i[sorted_indices_within_top]\n",
    "        except ValueError:\n",
    "             if num_docs_total > 0:\n",
    "                 pred10i_sorted = np.argsort(scores)[::-1][:num_elements_to_get]\n",
    "             else:\n",
    "                 pred10i_sorted = np.array([], dtype=int)\n",
    "\n",
    "    else:\n",
    "        pred10i_sorted = np.array([], dtype=int)\n",
    "\n",
    "    if len(pred10i_sorted) == 0:\n",
    "        return 0.0\n",
    "\n",
    "    retrieved_docids = docs.iloc[pred10i_sorted]['docid'].values\n",
    "\n",
    "    relevant_docids = gold[gold.qid == qid]['docid'].values\n",
    "\n",
    "    intersection = np.intersect1d(retrieved_docids, relevant_docids)\n",
    "\n",
    "    actual_k = len(retrieved_docids)\n",
    "    if actual_k > 0:\n",
    "        precision = len(intersection) / actual_k\n",
    "    else:\n",
    "        precision = 0.0\n",
    "\n",
    "    return precision\n",
    "\n",
    "pAt10(251898)"
   ]
  },
  {
   "cell_type": "markdown",
   "id": "23227936-0403-49ec-8231-c273a628809c",
   "metadata": {},
   "source": [
    "### 🚧 todo:\n",
    "- take our 500 training queries qid\n",
    "- apply our function\n",
    "- compute the average"
   ]
  },
  {
   "cell_type": "code",
   "execution_count": 42,
   "id": "93540efe-a6aa-4e1b-9f18-cb1635c78480",
   "metadata": {},
   "outputs": [
    {
     "name": "stdout",
     "output_type": "stream",
     "text": [
      "time: 5.18 s (started: 2025-03-27 09:31:33 +01:00)\n"
     ]
    }
   ],
   "source": [
    "p10_scores = training_queries.qid.apply(pAt10)"
   ]
  },
  {
   "cell_type": "code",
   "execution_count": 43,
   "id": "154d615f-6e62-43d6-aba9-88ec14d77b8f",
   "metadata": {},
   "outputs": [
    {
     "data": {
      "text/plain": [
       "0    0.0\n",
       "1    0.4\n",
       "2    0.1\n",
       "3    0.7\n",
       "4    0.3\n",
       "Name: qid, dtype: float64"
      ]
     },
     "execution_count": 43,
     "metadata": {},
     "output_type": "execute_result"
    },
    {
     "name": "stdout",
     "output_type": "stream",
     "text": [
      "time: 3.8 ms (started: 2025-03-27 09:31:38 +01:00)\n"
     ]
    }
   ],
   "source": [
    "p10_scores.head()"
   ]
  },
  {
   "cell_type": "code",
   "execution_count": 44,
   "id": "0a29b6aa-a19b-4700-8fef-eb5d2e82ac28",
   "metadata": {},
   "outputs": [
    {
     "name": "stdout",
     "output_type": "stream",
     "text": [
      "\n",
      "Average P@10 over the 500 training queries: 0.3210\n",
      "time: 1.28 ms (started: 2025-03-27 09:31:39 +01:00)\n"
     ]
    }
   ],
   "source": [
    "average_p10 = p10_scores.mean()\n",
    "\n",
    "print(f\"\\nAverage P@10 over the {len(training_queries)} training queries: {average_p10:.4f}\")"
   ]
  },
  {
   "cell_type": "markdown",
   "id": "f3a482be-d400-4c9b-a122-3f9c62c2f365",
   "metadata": {},
   "source": [
    "- that looks like a baseline we can beat :)\n",
    "- what's the query we are doing best in?\n",
    "    - max?"
   ]
  },
  {
   "cell_type": "code",
   "execution_count": 45,
   "id": "25e9a7d0-c44b-4b9f-b9ec-52d6422b269b",
   "metadata": {},
   "outputs": [
    {
     "name": "stdout",
     "output_type": "stream",
     "text": [
      "Maximum P@10 score achieved: 1.0000\n",
      "Query ID with the highest P@10 score: 127412\n",
      "Query text: define standard operating procedure template\n",
      "time: 2.73 ms (started: 2025-03-27 09:32:00 +01:00)\n"
     ]
    }
   ],
   "source": [
    "max_p10_score = p10_scores.max()\n",
    "print(f\"Maximum P@10 score achieved: {max_p10_score:.4f}\")\n",
    "\n",
    "best_score_index = p10_scores.idxmax()\n",
    "\n",
    "best_performing_qid = training_queries.loc[best_score_index, 'qid']\n",
    "best_performing_query = training_queries.loc[best_score_index, 'query']\n",
    "\n",
    "print(f\"Query ID with the highest P@10 score: {best_performing_qid}\")\n",
    "print(f\"Query text: {best_performing_query}\")"
   ]
  },
  {
   "cell_type": "markdown",
   "id": "baaca9c0-a7e1-46b5-9dc2-91eab2bf3b3d",
   "metadata": {},
   "source": [
    "- oh, we have just been lucky before..."
   ]
  },
  {
   "cell_type": "markdown",
   "id": "72e2f986-f3f9-4b90-b8a8-31b1250531b7",
   "metadata": {},
   "source": [
    "## 🚧 todo:\n",
    "\n",
    "- redo the vectorization and evaluation on the whole text, not only the titles\n",
    "- try the non-binary CountVectorizer\n",
    "- go for tf-idf\n",
    "    - play with at least two options and re-evaluate\n",
    "- find other improvements. these may include:\n",
    "    - cleaning the text\n",
    "    - heuristically combining title and body matches\n",
    "    - looking at bigrams\n",
    "    - looking at terms (by means of a clean multi-word term list from wikipedia, see notebook 1)\n",
    "    - by removing stopwords (look at nltk or spacy to do that)\n",
    "    - trying an implementation of bm25 (slow with standard implementation, see last cell if you want to do it)\n",
    "  \n",
    "- do a grid search with a few promising parameters\n",
    "    - maybe get inspired by GridSearchCV and pipelines in https://scikit-learn.org/stable/auto_examples/model_selection/grid_search_text_feature_extraction.html#sphx-glr-auto-examples-model-selection-grid-search-text-feature-extraction-py\n",
    "        - you can also check the weel-written section \"Pipelines\" in this book: https://www.oreilly.com/library/view/applied-text-analysis/9781491963036/ch04.html\n",
    "    - make a nice visualization of the results\n",
    "    \n",
    "- interpret the complete results in 3 to 5 sentences.\n",
    "    - what strategy would do best if we switch our evaluation to p@100?\n",
    "\n",
    "- give some ideas for improving the results\n",
    "\n",
    "\n",
    "\n"
   ]
  },
  {
   "cell_type": "code",
   "execution_count": 46,
   "id": "39502d86-c7a8-4468-95b5-c0fe2e6c8db6",
   "metadata": {},
   "outputs": [
    {
     "name": "stderr",
     "output_type": "stream",
     "text": [
      "<>:12: SyntaxWarning: invalid escape sequence '\\w'\n",
      "<>:12: SyntaxWarning: invalid escape sequence '\\w'\n",
      "/tmp/ipykernel_81145/4213905724.py:12: SyntaxWarning: invalid escape sequence '\\w'\n",
      "  text = re.sub('\\w*\\d+\\w*', '', text)\n",
      "/tmp/ipykernel_81145/4213905724.py:6: FutureWarning: A value is trying to be set on a copy of a DataFrame or Series through chained assignment using an inplace method.\n",
      "The behavior will change in pandas 3.0. This inplace method will never work because the intermediate object on which we are setting values always behaves as a copy.\n",
      "\n",
      "For example, when doing 'df[col].method(value, inplace=True)', try using 'df.method({col: value}, inplace=True)' or df[col] = df[col].method(value) instead, to perform the operation inplace on the original object.\n",
      "\n",
      "\n",
      "  docs['body'].fillna('', inplace=True)\n",
      "/tmp/ipykernel_81145/4213905724.py:7: FutureWarning: A value is trying to be set on a copy of a DataFrame or Series through chained assignment using an inplace method.\n",
      "The behavior will change in pandas 3.0. This inplace method will never work because the intermediate object on which we are setting values always behaves as a copy.\n",
      "\n",
      "For example, when doing 'df[col].method(value, inplace=True)', try using 'df.method({col: value}, inplace=True)' or df[col] = df[col].method(value) instead, to perform the operation inplace on the original object.\n",
      "\n",
      "\n",
      "  docs['title'].fillna('', inplace=True)\n"
     ]
    },
    {
     "data": {
      "text/html": [
       "<div>\n",
       "<style scoped>\n",
       "    .dataframe tbody tr th:only-of-type {\n",
       "        vertical-align: middle;\n",
       "    }\n",
       "\n",
       "    .dataframe tbody tr th {\n",
       "        vertical-align: top;\n",
       "    }\n",
       "\n",
       "    .dataframe thead th {\n",
       "        text-align: right;\n",
       "    }\n",
       "</style>\n",
       "<table border=\"1\" class=\"dataframe\">\n",
       "  <thead>\n",
       "    <tr style=\"text-align: right;\">\n",
       "      <th></th>\n",
       "      <th>body</th>\n",
       "      <th>cleaned_body</th>\n",
       "    </tr>\n",
       "  </thead>\n",
       "  <tbody>\n",
       "    <tr>\n",
       "      <th>0</th>\n",
       "      <td>Lions Vocabulary of the English Language Word ...</td>\n",
       "      <td>lions vocabulary of the english language word ...</td>\n",
       "    </tr>\n",
       "    <tr>\n",
       "      <th>1</th>\n",
       "      <td>The A Priori Argument ( also, Rationalization;...</td>\n",
       "      <td>the a priori argument also rationalization dog...</td>\n",
       "    </tr>\n",
       "    <tr>\n",
       "      <th>2</th>\n",
       "      <td>Home &gt; How To Cook Vegetables Everything You N...</td>\n",
       "      <td>home how to cook vegetables everything you nee...</td>\n",
       "    </tr>\n",
       "    <tr>\n",
       "      <th>3</th>\n",
       "      <td>Longitude Latitude Geographic Coordinate Syste...</td>\n",
       "      <td>longitude latitude geographic coordinate syste...</td>\n",
       "    </tr>\n",
       "    <tr>\n",
       "      <th>4</th>\n",
       "      <td>Answers.com ® Wiki Answers ® Categories Techno...</td>\n",
       "      <td>answerscom wiki answers categories technology ...</td>\n",
       "    </tr>\n",
       "  </tbody>\n",
       "</table>\n",
       "</div>"
      ],
      "text/plain": [
       "                                                body  \\\n",
       "0  Lions Vocabulary of the English Language Word ...   \n",
       "1  The A Priori Argument ( also, Rationalization;...   \n",
       "2  Home > How To Cook Vegetables Everything You N...   \n",
       "3  Longitude Latitude Geographic Coordinate Syste...   \n",
       "4  Answers.com ® Wiki Answers ® Categories Techno...   \n",
       "\n",
       "                                        cleaned_body  \n",
       "0  lions vocabulary of the english language word ...  \n",
       "1  the a priori argument also rationalization dog...  \n",
       "2  home how to cook vegetables everything you nee...  \n",
       "3  longitude latitude geographic coordinate syste...  \n",
       "4  answerscom wiki answers categories technology ...  "
      ]
     },
     "execution_count": 46,
     "metadata": {},
     "output_type": "execute_result"
    },
    {
     "name": "stdout",
     "output_type": "stream",
     "text": [
      "time: 4min 27s (started: 2025-03-27 09:36:37 +01:00)\n"
     ]
    }
   ],
   "source": [
    "# Function for leaning text\n",
    "# remove words with numbers inside\n",
    "# replace new lines by space\n",
    "# remove urls\n",
    "# only keep ascii words\n",
    "docs['body'].fillna('', inplace=True)\n",
    "docs['title'].fillna('', inplace=True)\n",
    "\n",
    "def clean_text(text):\n",
    "    text = text.lower()\n",
    "    text = re.sub(r'http\\S+', '', text)\n",
    "    text = re.sub('\\w*\\d+\\w*', '', text)\n",
    "    text = re.sub('\\n', ' ', text)\n",
    "    text = re.sub(r'[^\\x00-\\x7F]+', ' ', text)\n",
    "    text = re.sub(r'[^\\w\\s]', '', text)\n",
    "    text = re.sub(r'\\s+', ' ', text).strip()\n",
    "    return text\n",
    "\n",
    "docs['cleaned_body'] = docs['body'].apply(lambda x: clean_text(x))\n",
    "docs[['body', 'cleaned_body']].head()"
   ]
  },
  {
   "cell_type": "code",
   "execution_count": 47,
   "id": "7cb42c1e-827f-48fe-8aa2-4d285625bbea",
   "metadata": {},
   "outputs": [
    {
     "name": "stdout",
     "output_type": "stream",
     "text": [
      "time: 2.91 ms (started: 2025-03-27 09:41:10 +01:00)\n"
     ]
    }
   ],
   "source": [
    "from sklearn.feature_extraction.text import TfidfVectorizer\n",
    "\n",
    "def calculate_average_p10(vectorizer, docs_corpus, docs_df, queries_df, gold_df, bm25_scorer=None):\n",
    "    print(f\"Fitting vectorizer: {vectorizer.__class__.__name__} with params: {vectorizer.get_params()}\")\n",
    "    X_docs = vectorizer.fit_transform(docs_corpus)\n",
    "    print(f\"Document matrix shape: {X_docs.shape}\")\n",
    "\n",
    "    total_p10 = 0\n",
    "    query_count = 0\n",
    "\n",
    "    if bm25_scorer:\n",
    "        print(\"Fitting BM25...\")\n",
    "        if not issubclass(type(vectorizer), CountVectorizer) or vectorizer.binary:\n",
    "             print(\"Warning: BM25 typically expects integer counts (non-binary CountVectorizer).\")\n",
    "        bm25_scorer.fit(X_docs)\n",
    "        print(\"BM25 fit complete.\")\n",
    "\n",
    "    for _, row in queries_df.iterrows():\n",
    "        qid = row['qid']\n",
    "        query_text = row['query']\n",
    "        if not isinstance(query_text, str) or not query_text:\n",
    "            continue\n",
    "\n",
    "        query_count += 1\n",
    "        query_vector = vectorizer.transform([query_text])\n",
    "\n",
    "        if bm25_scorer:\n",
    "             scores = bm25_scorer.predict(query_vector).flatten()\n",
    "        else:\n",
    "            scores = X_docs.dot(query_vector.T).toarray().flatten()\n",
    "\n",
    "\n",
    "        num_docs_total = len(scores)\n",
    "        num_elements_to_get = min(10, num_docs_total)\n",
    "\n",
    "        if num_elements_to_get == 0:\n",
    "            continue\n",
    "\n",
    "        try:\n",
    "            k_partition = -num_elements_to_get if num_elements_to_get > 0 else -1\n",
    "            if num_elements_to_get >= 1:\n",
    "                 pred10i = np.argpartition(scores, k_partition)[k_partition:]\n",
    "                 top_scores = scores[pred10i]\n",
    "                 sorted_indices_within_top = np.argsort(top_scores)[::-1]\n",
    "                 pred10i_sorted = pred10i[sorted_indices_within_top]\n",
    "            else:\n",
    "                 pred10i_sorted = np.array([], dtype=int)\n",
    "\n",
    "        except ValueError:\n",
    "             if num_docs_total > 0:\n",
    "                 pred10i_sorted = np.argsort(scores)[::-1][:num_elements_to_get]\n",
    "             else:\n",
    "                 pred10i_sorted = np.array([], dtype=int)\n",
    "\n",
    "\n",
    "        if len(pred10i_sorted) == 0:\n",
    "             p10 = 0.0\n",
    "        else:\n",
    "             retrieved_docids = docs_df.iloc[pred10i_sorted]['docid'].values\n",
    "             relevant_docids = gold_df[gold_df.qid == qid]['docid'].values\n",
    "             intersection = np.intersect1d(retrieved_docids, relevant_docids)\n",
    "             actual_k = len(retrieved_docids)\n",
    "             p10 = len(intersection) / actual_k if actual_k > 0 else 0.0\n",
    "\n",
    "        total_p10 += p10\n",
    "\n",
    "    average_p10 = total_p10 / query_count if query_count > 0 else 0.0\n",
    "    print(f\"Average P@10: {average_p10:.4f}\\n\")\n",
    "    return average_p10"
   ]
  },
  {
   "cell_type": "code",
   "execution_count": 48,
   "id": "369e905c-36cd-45c2-817b-4d9c24724be3",
   "metadata": {},
   "outputs": [
    {
     "name": "stdout",
     "output_type": "stream",
     "text": [
      "--- Evaluating on Cleaned Body Text ---\n",
      "Fitting vectorizer: CountVectorizer with params: {'analyzer': 'word', 'binary': True, 'decode_error': 'strict', 'dtype': <class 'numpy.int64'>, 'encoding': 'utf-8', 'input': 'content', 'lowercase': True, 'max_df': 1.0, 'max_features': None, 'min_df': 1, 'ngram_range': (1, 1), 'preprocessor': None, 'stop_words': None, 'strip_accents': None, 'token_pattern': '(?u)\\\\b\\\\w\\\\w+\\\\b', 'tokenizer': None, 'vocabulary': None}\n",
      "Document matrix shape: (92565, 1916456)\n",
      "Average P@10: 0.4774\n",
      "\n",
      "--- Evaluating Non-Binary CountVectorizer ---\n",
      "Fitting vectorizer: CountVectorizer with params: {'analyzer': 'word', 'binary': False, 'decode_error': 'strict', 'dtype': <class 'numpy.int64'>, 'encoding': 'utf-8', 'input': 'content', 'lowercase': True, 'max_df': 1.0, 'max_features': None, 'min_df': 1, 'ngram_range': (1, 1), 'preprocessor': None, 'stop_words': None, 'strip_accents': None, 'token_pattern': '(?u)\\\\b\\\\w\\\\w+\\\\b', 'tokenizer': None, 'vocabulary': None}\n",
      "Document matrix shape: (92565, 1916456)\n",
      "Average P@10: 0.0450\n",
      "\n",
      "--- Evaluating TF-IDF ---\n",
      "Fitting vectorizer: TfidfVectorizer with params: {'analyzer': 'word', 'binary': False, 'decode_error': 'strict', 'dtype': <class 'numpy.float64'>, 'encoding': 'utf-8', 'input': 'content', 'lowercase': True, 'max_df': 1.0, 'max_features': None, 'min_df': 1, 'ngram_range': (1, 1), 'norm': 'l2', 'preprocessor': None, 'smooth_idf': True, 'stop_words': None, 'strip_accents': None, 'sublinear_tf': False, 'token_pattern': '(?u)\\\\b\\\\w\\\\w+\\\\b', 'tokenizer': None, 'use_idf': True, 'vocabulary': None}\n",
      "Document matrix shape: (92565, 1916456)\n",
      "Average P@10: 0.8906\n",
      "\n",
      "--- Evaluating TF-IDF (No IDF) ---\n",
      "Fitting vectorizer: TfidfVectorizer with params: {'analyzer': 'word', 'binary': False, 'decode_error': 'strict', 'dtype': <class 'numpy.float64'>, 'encoding': 'utf-8', 'input': 'content', 'lowercase': True, 'max_df': 1.0, 'max_features': None, 'min_df': 1, 'ngram_range': (1, 1), 'norm': 'l2', 'preprocessor': None, 'smooth_idf': True, 'stop_words': None, 'strip_accents': None, 'sublinear_tf': False, 'token_pattern': '(?u)\\\\b\\\\w\\\\w+\\\\b', 'tokenizer': None, 'use_idf': False, 'vocabulary': None}\n",
      "Document matrix shape: (92565, 1916456)\n",
      "Average P@10: 0.4272\n",
      "\n",
      "--- Evaluating TF-IDF (L1 Norm) ---\n",
      "Fitting vectorizer: TfidfVectorizer with params: {'analyzer': 'word', 'binary': False, 'decode_error': 'strict', 'dtype': <class 'numpy.float64'>, 'encoding': 'utf-8', 'input': 'content', 'lowercase': True, 'max_df': 1.0, 'max_features': None, 'min_df': 1, 'ngram_range': (1, 1), 'norm': 'l1', 'preprocessor': None, 'smooth_idf': True, 'stop_words': None, 'strip_accents': None, 'sublinear_tf': False, 'token_pattern': '(?u)\\\\b\\\\w\\\\w+\\\\b', 'tokenizer': None, 'use_idf': True, 'vocabulary': None}\n",
      "Document matrix shape: (92565, 1916456)\n",
      "Average P@10: 0.7614\n",
      "\n",
      "time: 14min 55s (started: 2025-03-27 09:41:11 +01:00)\n"
     ]
    }
   ],
   "source": [
    "results = {}\n",
    "\n",
    "print(\"--- Evaluating on Cleaned Body Text ---\")\n",
    "vectorizer_body_bin_count = CountVectorizer(binary=True)\n",
    "results['body_binary_count'] = calculate_average_p10(vectorizer_body_bin_count, docs['cleaned_body'], docs, training_queries, gold)\n",
    "\n",
    "print(\"--- Evaluating Non-Binary CountVectorizer ---\")\n",
    "vectorizer_body_count = CountVectorizer(binary=False)\n",
    "results['body_count'] = calculate_average_p10(vectorizer_body_count, docs['cleaned_body'], docs, training_queries, gold)\n",
    "\n",
    "print(\"--- Evaluating TF-IDF ---\")\n",
    "vectorizer_tfidf = TfidfVectorizer()\n",
    "results['body_tfidf_default'] = calculate_average_p10(vectorizer_tfidf, docs['cleaned_body'], docs, training_queries, gold)\n",
    "\n",
    "print(\"--- Evaluating TF-IDF (No IDF) ---\")\n",
    "vectorizer_tf = TfidfVectorizer(use_idf=False)\n",
    "results['body_tf_only'] = calculate_average_p10(vectorizer_tf, docs['cleaned_body'], docs, training_queries, gold)\n",
    "\n",
    "print(\"--- Evaluating TF-IDF (L1 Norm) ---\")\n",
    "vectorizer_tfidf_l1 = TfidfVectorizer(norm='l1')\n",
    "results['body_tfidf_l1'] = calculate_average_p10(vectorizer_tfidf_l1, docs['cleaned_body'], docs, training_queries, gold)"
   ]
  },
  {
   "cell_type": "code",
   "execution_count": 49,
   "id": "4cc0ab9b-ff88-41e9-96c6-c21969303775",
   "metadata": {},
   "outputs": [
    {
     "name": "stdout",
     "output_type": "stream",
     "text": [
      "--- Evaluating TF-IDF + Stopwords ---\n",
      "Fitting vectorizer: TfidfVectorizer with params: {'analyzer': 'word', 'binary': False, 'decode_error': 'strict', 'dtype': <class 'numpy.float64'>, 'encoding': 'utf-8', 'input': 'content', 'lowercase': True, 'max_df': 1.0, 'max_features': None, 'min_df': 1, 'ngram_range': (1, 1), 'norm': 'l2', 'preprocessor': None, 'smooth_idf': True, 'stop_words': 'english', 'strip_accents': None, 'sublinear_tf': False, 'token_pattern': '(?u)\\\\b\\\\w\\\\w+\\\\b', 'tokenizer': None, 'use_idf': True, 'vocabulary': None}\n",
      "Document matrix shape: (92565, 1916140)\n",
      "Average P@10: 0.8822\n",
      "\n",
      "--- Evaluating TF-IDF + Stopwords + Bigrams ---\n",
      "Fitting vectorizer: TfidfVectorizer with params: {'analyzer': 'word', 'binary': False, 'decode_error': 'strict', 'dtype': <class 'numpy.float64'>, 'encoding': 'utf-8', 'input': 'content', 'lowercase': True, 'max_df': 1.0, 'max_features': None, 'min_df': 1, 'ngram_range': (1, 2), 'norm': 'l2', 'preprocessor': None, 'smooth_idf': True, 'stop_words': 'english', 'strip_accents': None, 'sublinear_tf': False, 'token_pattern': '(?u)\\\\b\\\\w\\\\w+\\\\b', 'tokenizer': None, 'use_idf': True, 'vocabulary': None}\n",
      "Document matrix shape: (92565, 37170309)\n",
      "Average P@10: 0.8778\n",
      "\n",
      "--- Evaluating Combined Title+Body + TF-IDF + Stopwords + Bigrams ---\n",
      "Fitting vectorizer: TfidfVectorizer with params: {'analyzer': 'word', 'binary': False, 'decode_error': 'strict', 'dtype': <class 'numpy.float64'>, 'encoding': 'utf-8', 'input': 'content', 'lowercase': True, 'max_df': 1.0, 'max_features': None, 'min_df': 1, 'ngram_range': (1, 2), 'norm': 'l2', 'preprocessor': None, 'smooth_idf': True, 'stop_words': 'english', 'strip_accents': None, 'sublinear_tf': False, 'token_pattern': '(?u)\\\\b\\\\w\\\\w+\\\\b', 'tokenizer': None, 'use_idf': True, 'vocabulary': None}\n",
      "Document matrix shape: (92565, 37228554)\n",
      "Average P@10: 0.8808\n",
      "\n",
      "time: 39min 42s (started: 2025-03-27 09:56:32 +01:00)\n"
     ]
    }
   ],
   "source": [
    "print(\"--- Evaluating TF-IDF + Stopwords ---\")\n",
    "vectorizer_tfidf_stop = TfidfVectorizer(stop_words='english')\n",
    "results['body_tfidf_stopwords'] = calculate_average_p10(vectorizer_tfidf_stop, docs['cleaned_body'], docs, training_queries, gold)\n",
    "\n",
    "print(\"--- Evaluating TF-IDF + Stopwords + Bigrams ---\")\n",
    "vectorizer_tfidf_stop_bigram = TfidfVectorizer(stop_words='english', ngram_range=(1, 2))\n",
    "results['body_tfidf_stopwords_bigrams'] = calculate_average_p10(vectorizer_tfidf_stop_bigram, docs['cleaned_body'], docs, training_queries, gold)\n",
    "\n",
    "print(\"--- Evaluating Combined Title+Body + TF-IDF + Stopwords + Bigrams ---\")\n",
    "docs['title_cleaned_body'] = docs['title'].fillna('') + ' ' + docs['cleaned_body']\n",
    "vectorizer_combined = TfidfVectorizer(stop_words='english', ngram_range=(1, 2))\n",
    "results['combined_tfidf_stopwords_bigrams'] = calculate_average_p10(vectorizer_combined, docs['title_cleaned_body'], docs, training_queries, gold)"
   ]
  },
  {
   "cell_type": "code",
   "execution_count": 70,
   "id": "37a47821-5f24-4e14-829d-cc7a0f448866",
   "metadata": {},
   "outputs": [
    {
     "name": "stdout",
     "output_type": "stream",
     "text": [
      "--- Evaluating BM25 ---\n",
      "Fitting vectorizer: CountVectorizer with params: {'analyzer': 'word', 'binary': False, 'decode_error': 'strict', 'dtype': <class 'numpy.int64'>, 'encoding': 'utf-8', 'input': 'content', 'lowercase': True, 'max_df': 1.0, 'max_features': None, 'min_df': 1, 'ngram_range': (1, 1), 'preprocessor': None, 'stop_words': 'english', 'strip_accents': None, 'token_pattern': '(?u)\\\\b\\\\w\\\\w+\\\\b', 'tokenizer': None, 'vocabulary': None}\n",
      "Document matrix shape: (92565, 1921836)\n",
      "Fitting BM25...\n",
      "BM25 fit complete.\n",
      "Average P@10: 0.9768\n",
      "\n",
      "time: 3min 16s (started: 2025-03-27 11:32:05 +01:00)\n"
     ]
    }
   ],
   "source": [
    "from sklearn.base import BaseEstimator, ClassifierMixin\n",
    "import gc\n",
    "import numpy as np\n",
    "import gc\n",
    "from sklearn.base import BaseEstimator, ClassifierMixin\n",
    "\n",
    "class BM25Score(BaseEstimator, ClassifierMixin):\n",
    "    def __init__(self, k1=1.5, b=0.75):\n",
    "        self.k1 = k1\n",
    "        self.b  = b\n",
    "\n",
    "    def fit(self, vectorized_docs, y=None):\n",
    "        self.vectorized_docs = vectorized_docs\n",
    "\n",
    "        self.n_d = self.vectorized_docs.sum(axis=1).reshape(-1, 1).A\n",
    "        self.avgdl = np.mean(self.n_d)\n",
    "        self.n_docs = self.vectorized_docs.shape[0]\n",
    "\n",
    "        self.nq = np.sum(self.vectorized_docs > 0, axis=0).reshape(1, -1)\n",
    "        self.idf = np.log(((self.n_docs - self.nq + 0.5) / (self.nq + 0.5)) + 1).A\n",
    "        \n",
    "        return self\n",
    "\n",
    "    def predict(self, vectorized_queries):\n",
    "        n_queries = vectorized_queries.shape[0]\n",
    "        batch_size = 50\n",
    "\n",
    "        final_scores = []\n",
    "        for batch_idx in range(int(n_queries / batch_size) + 1):\n",
    "            start_idx = batch_idx * batch_size\n",
    "            end_idx = min((batch_idx + 1) * batch_size, n_queries)\n",
    "            if start_idx >= end_idx:\n",
    "                break\n",
    "\n",
    "            batch_vectorized_queries = vectorized_queries[start_idx:end_idx]\n",
    "            idx_tokens = np.argwhere(batch_vectorized_queries.sum(axis=0) > 0).reshape(-1)\n",
    "\n",
    "            batch_vectorized_queries = batch_vectorized_queries[:, idx_tokens]\n",
    "            vectorized_docs_slice = self.vectorized_docs[:, idx_tokens].toarray()\n",
    "            idf_slice = self.idf[:, idx_tokens]\n",
    "\n",
    "            scores = idf_slice * (\n",
    "                (vectorized_docs_slice * (self.k1 + 1)) /\n",
    "                (\n",
    "                    vectorized_docs_slice + \n",
    "                    self.k1 * (1 - self.b + self.b * (self.n_d / self.avgdl))\n",
    "                )\n",
    "            )\n",
    "\n",
    "            final_scores.append((batch_vectorized_queries > 0).astype(np.int8) @ scores.T)\n",
    "\n",
    "            del vectorized_docs_slice\n",
    "            del scores\n",
    "            gc.collect()\n",
    "\n",
    "        return np.concatenate(final_scores, axis=0)\n",
    "    \n",
    "print(\"--- Evaluating BM25 ---\")\n",
    "vectorizer_bm25_base = CountVectorizer(stop_words='english', ngram_range=(1, 1))\n",
    "bm25_scorer = BM25Score(k1=1.5, b=0.75)\n",
    "results['combined_bm25_default'] = calculate_average_p10(vectorizer_bm25_base, docs['title_cleaned_body'], docs, training_queries, gold, bm25_scorer=bm25_scorer)"
   ]
  },
  {
   "cell_type": "code",
   "execution_count": 71,
   "id": "6eeb6fd2",
   "metadata": {},
   "outputs": [
    {
     "name": "stdout",
     "output_type": "stream",
     "text": [
      "--- Creating Data Subsamples ---\n",
      "Sampling 10000 documents and 100 queries...\n",
      "Using 10000 documents, 100 queries.\n",
      "Original gold entries for sampled queries: 10000\n",
      "Filtered gold entries (relevant docs also in docs_sample): 1057\n",
      "------------------------------\n",
      "\n",
      "--- Starting Manual Grid Search (Minimal - 2 Combinations on Sampled Data) ---\n",
      "TF-IDF Grid Combinations: 1\n",
      "\n",
      "Running config: TFIDF_title_cleaned_body_sw=True_ng=2\n",
      "Fitting vectorizer: TfidfVectorizer with params: {'analyzer': 'word', 'binary': False, 'decode_error': 'strict', 'dtype': <class 'numpy.float64'>, 'encoding': 'utf-8', 'input': 'content', 'lowercase': True, 'max_df': 1.0, 'max_features': None, 'min_df': 1, 'ngram_range': (1, 2), 'norm': 'l2', 'preprocessor': None, 'smooth_idf': True, 'stop_words': 'english', 'strip_accents': None, 'sublinear_tf': False, 'token_pattern': '(?u)\\\\b\\\\w\\\\w+\\\\b', 'tokenizer': None, 'use_idf': True, 'vocabulary': None}\n",
      "Document matrix shape: (10000, 7019891)\n",
      "Average P@10: 0.6240\n",
      "\n",
      "BM25 Grid Combinations: 1\n",
      "\n",
      "Running config: BM25_title_cleaned_body_sw=True_ng=1_k1=1.2_b=0.75\n",
      "Fitting vectorizer: CountVectorizer with params: {'analyzer': 'word', 'binary': False, 'decode_error': 'strict', 'dtype': <class 'numpy.int64'>, 'encoding': 'utf-8', 'input': 'content', 'lowercase': True, 'max_df': 1.0, 'max_features': None, 'min_df': 1, 'ngram_range': (1, 1), 'preprocessor': None, 'stop_words': 'english', 'strip_accents': None, 'token_pattern': '(?u)\\\\b\\\\w\\\\w+\\\\b', 'tokenizer': None, 'vocabulary': None}\n",
      "Document matrix shape: (10000, 425861)\n",
      "Fitting BM25...\n",
      "BM25 fit complete.\n",
      "Average P@10: 0.7580\n",
      "\n",
      "\n",
      "--- Grid Search Completed (on Sampled Data) in 85.36 seconds ---\n",
      "\n",
      "--- Minimal Grid Search Results (2 combinations on Sampled Data) ---\n"
     ]
    },
    {
     "data": {
      "text/html": [
       "<div>\n",
       "<style scoped>\n",
       "    .dataframe tbody tr th:only-of-type {\n",
       "        vertical-align: middle;\n",
       "    }\n",
       "\n",
       "    .dataframe tbody tr th {\n",
       "        vertical-align: top;\n",
       "    }\n",
       "\n",
       "    .dataframe thead th {\n",
       "        text-align: right;\n",
       "    }\n",
       "</style>\n",
       "<table border=\"1\" class=\"dataframe\">\n",
       "  <thead>\n",
       "    <tr style=\"text-align: right;\">\n",
       "      <th></th>\n",
       "      <th>vectorizer_type</th>\n",
       "      <th>corpus_field</th>\n",
       "      <th>stop_words</th>\n",
       "      <th>ngram_range</th>\n",
       "      <th>use_idf</th>\n",
       "      <th>norm</th>\n",
       "      <th>avg_p10</th>\n",
       "      <th>config_name</th>\n",
       "      <th>k1</th>\n",
       "      <th>b</th>\n",
       "    </tr>\n",
       "  </thead>\n",
       "  <tbody>\n",
       "    <tr>\n",
       "      <th>1</th>\n",
       "      <td>&lt;class 'sklearn.feature_extraction.text.CountV...</td>\n",
       "      <td>title_cleaned_body</td>\n",
       "      <td>english</td>\n",
       "      <td>(1, 1)</td>\n",
       "      <td>NaN</td>\n",
       "      <td>NaN</td>\n",
       "      <td>0.758</td>\n",
       "      <td>BM25_title_cleaned_body_sw=True_ng=1_k1=1.2_b=...</td>\n",
       "      <td>1.2</td>\n",
       "      <td>0.75</td>\n",
       "    </tr>\n",
       "    <tr>\n",
       "      <th>0</th>\n",
       "      <td>&lt;class 'sklearn.feature_extraction.text.TfidfV...</td>\n",
       "      <td>title_cleaned_body</td>\n",
       "      <td>english</td>\n",
       "      <td>(1, 2)</td>\n",
       "      <td>True</td>\n",
       "      <td>l2</td>\n",
       "      <td>0.624</td>\n",
       "      <td>TFIDF_title_cleaned_body_sw=True_ng=2</td>\n",
       "      <td>NaN</td>\n",
       "      <td>NaN</td>\n",
       "    </tr>\n",
       "  </tbody>\n",
       "</table>\n",
       "</div>"
      ],
      "text/plain": [
       "                                     vectorizer_type        corpus_field  \\\n",
       "1  <class 'sklearn.feature_extraction.text.CountV...  title_cleaned_body   \n",
       "0  <class 'sklearn.feature_extraction.text.TfidfV...  title_cleaned_body   \n",
       "\n",
       "  stop_words ngram_range use_idf norm  avg_p10  \\\n",
       "1    english      (1, 1)     NaN  NaN    0.758   \n",
       "0    english      (1, 2)    True   l2    0.624   \n",
       "\n",
       "                                         config_name   k1     b  \n",
       "1  BM25_title_cleaned_body_sw=True_ng=1_k1=1.2_b=...  1.2  0.75  \n",
       "0              TFIDF_title_cleaned_body_sw=True_ng=2  NaN   NaN  "
      ]
     },
     "metadata": {},
     "output_type": "display_data"
    },
    {
     "data": {
      "image/png": "[encoded data removed]",
      "text/plain": [
       "<Figure size 800x400 with 1 Axes>"
      ]
     },
     "metadata": {},
     "output_type": "display_data"
    },
    {
     "name": "stdout",
     "output_type": "stream",
     "text": [
      "time: 1min 25s (started: 2025-03-27 11:36:14 +01:00)\n"
     ]
    }
   ],
   "source": [
    "import itertools\n",
    "import pandas as pd\n",
    "import matplotlib.pyplot as plt\n",
    "import time\n",
    "from sklearn.feature_extraction.text import TfidfVectorizer, CountVectorizer\n",
    "\n",
    "DOC_SAMPLE_SIZE = 10000\n",
    "QUERY_SAMPLE_SIZE = 100\n",
    "RANDOM_STATE = 42\n",
    "\n",
    "print(f\"--- Creating Data Subsamples ---\")\n",
    "print(f\"Sampling {DOC_SAMPLE_SIZE} documents and {QUERY_SAMPLE_SIZE} queries...\")\n",
    "\n",
    "if DOC_SAMPLE_SIZE >= len(docs):\n",
    "    print(\"Warning: DOC_SAMPLE_SIZE is >= total documents. Using all documents.\")\n",
    "    docs_sample = docs.copy()\n",
    "else:\n",
    "    docs_sample = docs.sample(n=DOC_SAMPLE_SIZE, random_state=RANDOM_STATE)\n",
    "\n",
    "if QUERY_SAMPLE_SIZE >= len(training_queries):\n",
    "    print(\"Warning: QUERY_SAMPLE_SIZE is >= total training queries. Using all training queries.\")\n",
    "    queries_sample = training_queries.copy()\n",
    "else:\n",
    "    queries_sample = training_queries.sample(n=QUERY_SAMPLE_SIZE, random_state=RANDOM_STATE)\n",
    "\n",
    "gold_sample = gold[gold['qid'].isin(queries_sample['qid'])]\n",
    "\n",
    "relevant_docids_in_sample = gold_sample[gold_sample['docid'].isin(docs_sample['docid'])]\n",
    "gold_sample_filtered = gold_sample[gold_sample['docid'].isin(docs_sample['docid'])]\n",
    "\n",
    "print(f\"Using {len(docs_sample)} documents, {len(queries_sample)} queries.\")\n",
    "print(f\"Original gold entries for sampled queries: {len(gold_sample)}\")\n",
    "print(f\"Filtered gold entries (relevant docs also in docs_sample): {len(gold_sample_filtered)}\")\n",
    "print(\"-\" * 30)\n",
    "\n",
    "\n",
    "print(\"\\n--- Starting Manual Grid Search (Minimal - 2 Combinations on Sampled Data) ---\")\n",
    "start_time = time.time()\n",
    "\n",
    "tfidf_params = {\n",
    "    'vectorizer_type': TfidfVectorizer,\n",
    "    'corpus_field': 'title_cleaned_body',\n",
    "    'stop_words': 'english',\n",
    "    'ngram_range': (1, 2),\n",
    "    'use_idf': True,\n",
    "    'norm': 'l2'\n",
    "}\n",
    "\n",
    "bm25_params = {\n",
    "    'vectorizer_type': CountVectorizer,\n",
    "    'corpus_field': 'title_cleaned_body',\n",
    "    'stop_words': 'english',\n",
    "    'ngram_range': (1, 1),\n",
    "    'k1': 1.2,\n",
    "    'b': 0.75\n",
    "}\n",
    "\n",
    "grid_results = []\n",
    "\n",
    "print(f\"TF-IDF Grid Combinations: 1\")\n",
    "params_tfidf_run = tfidf_params.copy()\n",
    "\n",
    "vectorizer_class = params_tfidf_run['vectorizer_type']\n",
    "corpus_to_use = docs_sample[params_tfidf_run['corpus_field']]\n",
    "\n",
    "vectorizer_instance = vectorizer_class(\n",
    "    stop_words=params_tfidf_run['stop_words'],\n",
    "    ngram_range=params_tfidf_run['ngram_range'],\n",
    "    use_idf=params_tfidf_run['use_idf'],\n",
    "    norm=params_tfidf_run['norm']\n",
    ")\n",
    "\n",
    "config_name_tfidf = f\"TFIDF_{params_tfidf_run['corpus_field']}_sw={params_tfidf_run['stop_words'] is not None}_ng={params_tfidf_run['ngram_range'][1]}\"\n",
    "print(f\"\\nRunning config: {config_name_tfidf}\")\n",
    "\n",
    "avg_p10_tfidf = calculate_average_p10(\n",
    "    vectorizer_instance,\n",
    "    corpus_to_use,\n",
    "    docs_sample,\n",
    "    queries_sample,\n",
    "    gold_sample_filtered\n",
    ")\n",
    "params_tfidf_run['avg_p10'] = avg_p10_tfidf\n",
    "params_tfidf_run['config_name'] = config_name_tfidf\n",
    "grid_results.append(params_tfidf_run)\n",
    "\n",
    "print(f\"BM25 Grid Combinations: 1\")\n",
    "params_bm25_run = bm25_params.copy()\n",
    "\n",
    "vectorizer_class_bm25 = params_bm25_run['vectorizer_type']\n",
    "corpus_to_use_bm25 = docs_sample[params_bm25_run['corpus_field']]\n",
    "\n",
    "vectorizer_instance_bm25 = vectorizer_class_bm25(\n",
    "    stop_words=params_bm25_run['stop_words'],\n",
    "    ngram_range=params_bm25_run['ngram_range'],\n",
    "    binary=False\n",
    ")\n",
    "\n",
    "bm25_scorer_instance = BM25Score(k1=params_bm25_run['k1'], b=params_bm25_run['b'])\n",
    "\n",
    "config_name_bm25 = f\"BM25_{params_bm25_run['corpus_field']}_sw={params_bm25_run['stop_words'] is not None}_ng={params_bm25_run['ngram_range'][1]}_k1={params_bm25_run['k1']}_b={params_bm25_run['b']}\"\n",
    "print(f\"\\nRunning config: {config_name_bm25}\")\n",
    "\n",
    "avg_p10_bm25 = calculate_average_p10(\n",
    "    vectorizer_instance_bm25,\n",
    "    corpus_to_use_bm25,\n",
    "    docs_sample,\n",
    "    queries_sample,\n",
    "    gold_sample_filtered,\n",
    "    bm25_scorer=bm25_scorer_instance\n",
    ")\n",
    "params_bm25_run['avg_p10'] = avg_p10_bm25\n",
    "params_bm25_run['config_name'] = config_name_bm25\n",
    "grid_results.append(params_bm25_run)\n",
    "\n",
    "end_time = time.time()\n",
    "print(f\"\\n--- Grid Search Completed (on Sampled Data) in {end_time - start_time:.2f} seconds ---\")\n",
    "\n",
    "grid_results_df = pd.DataFrame(grid_results)\n",
    "grid_results_df = grid_results_df.sort_values(by='avg_p10', ascending=False)\n",
    "\n",
    "print(\"\\n--- Minimal Grid Search Results (2 combinations on Sampled Data) ---\")\n",
    "display(grid_results_df)\n",
    "\n",
    "if not grid_results_df.empty:\n",
    "    plt.figure(figsize=(8, 4))\n",
    "    df_plot = grid_results_df.sort_values(by='avg_p10', ascending=True)\n",
    "    plt.barh(df_plot['config_name'], df_plot['avg_p10'])\n",
    "    plt.xlabel('Average Precision@10 (on Sampled Data)')\n",
    "    plt.title('Minimal Grid Search Results (2 Combinations on Sampled Data)')\n",
    "    plt.tight_layout()\n",
    "    plt.show()"
   ]
  },
  {
   "cell_type": "code",
   "execution_count": 72,
   "id": "feca3d41",
   "metadata": {},
   "outputs": [
    {
     "data": {
      "image/png": "[encoded data removed]",
      "text/plain": [
       "<Figure size 1000x600 with 1 Axes>"
      ]
     },
     "metadata": {},
     "output_type": "display_data"
    },
    {
     "name": "stdout",
     "output_type": "stream",
     "text": [
      "time: 157 ms (started: 2025-03-27 11:37:44 +01:00)\n"
     ]
    }
   ],
   "source": [
    "plt.figure(figsize=(10, 6))\n",
    "df_plot = grid_results_df.sort_values(by='avg_p10', ascending=True)\n",
    "\n",
    "plt.barh(df_plot['config_name'], df_plot['avg_p10'])\n",
    "plt.xlabel('Average Precision@10')\n",
    "plt.title('Reduced Grid Search Results for P@10')\n",
    "plt.tight_layout()\n",
    "plt.show()"
   ]
  },
  {
   "cell_type": "markdown",
   "id": "1b1432ce",
   "metadata": {},
   "source": [
    "Interpretation (reduced grid):\n",
    "\n",
    "Even with reduced parameters, combining title and body text generally outperformed using only the body. For TF-IDF, including bigrams provided a slight edge over unigrams alone. BM25, when applied to the combined text with tuned parameters (e.g., specific k1/b values like 1.2/0.65 or 1.8/0.75), remained competitive or superior to the TF-IDF approaches tested here. If switching to P@100, the BM25 and TF-IDF methods using combined text and bigrams are still expected to perform relatively well due to better recall characteristics compared to simpler methods. Further tuning of BM25 parameters or exploring query expansion could still yield improvements.\n",
    "\n",
    "Ideas for improving results:\n",
    "\n",
    "1. Advanced Text Cleaning/Preprocessing (Stemming/Lemmatization)\n",
    "2. More Extensive BM25 Parameter Tuning (if time permits)\n",
    "3. Query Expansion (Synonyms, Pseudo-Relevance Feedback)\n",
    "4. Dense Retrieval (Sentence-BERT, DPR)\n",
    "5. Hybrid Approach / Learning to Rank (LTR)\n",
    "6. Leverage Document Structure (Section Weighting)"
   ]
  }
 ],
 "metadata": {
  "kernelspec": {
   "display_name": "Python 3 (ipykernel)",
   "language": "python",
   "name": "python3"
  },
  "language_info": {
   "codemirror_mode": {
    "name": "ipython",
    "version": 3
   },
   "file_extension": ".py",
   "mimetype": "text/x-python",
   "name": "python",
   "nbconvert_exporter": "python",
   "pygments_lexer": "ipython3",
   "version": "3.12.3"
  }
 },
 "nbformat": 4,
 "nbformat_minor": 5
}
