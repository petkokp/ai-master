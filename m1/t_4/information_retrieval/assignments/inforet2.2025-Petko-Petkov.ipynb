{
 "cells": [
  {
   "cell_type": "markdown",
   "id": "32e02f0b-7db2-4aa4-897c-55c388331127",
   "metadata": {},
   "source": [
    "# inforet 2"
   ]
  },
  {
   "cell_type": "code",
   "execution_count": null,
   "id": "c2e54178-39dc-4056-b037-9b486a7bdaa2",
   "metadata": {},
   "outputs": [],
   "source": [
    "# no time to lose:\n",
    "!wget https://gerdes.fr/saclay/inforet/our_msmarco.zip\n",
    "!unzip our_msmarco.zip\n",
    "# this will be big: 1.2gb!\n",
    "# you will get three files "
   ]
  },
  {
   "cell_type": "code",
   "execution_count": null,
   "id": "6fdbacdd-e2f1-487c-843c-8ec3c674b426",
   "metadata": {},
   "outputs": [],
   "source": []
  },
  {
   "cell_type": "markdown",
   "id": "bb23fdcb-8fee-4f3a-b33f-555bbb3f5513",
   "metadata": {},
   "source": [
    "## ↓ go down to the section \"reading in our smaller files\"\n"
   ]
  },
  {
   "cell_type": "code",
   "execution_count": null,
   "id": "374aee63-9d24-4f05-9a7f-c47c4d60bdb9",
   "metadata": {},
   "outputs": [],
   "source": []
  },
  {
   "cell_type": "code",
   "execution_count": null,
   "id": "cf60877b-7250-493a-93aa-b41d8c3b91e1",
   "metadata": {},
   "outputs": [],
   "source": [
    "# this turns on the autotimer, so that every cell has a timing information below\n",
    "try:\n",
    "    %load_ext autotime\n",
    "except:\n",
    "    !pip install ipython-autotime\n",
    "    %load_ext autotime\n",
    "# stop using:\n",
    "# %unload_ext autotime\n",
    "!pip install sklearn"
   ]
  },
  {
   "cell_type": "code",
   "execution_count": 1,
   "id": "ff253cc3-8b08-490c-b946-3e6ff3104da0",
   "metadata": {},
   "outputs": [
    {
     "name": "stdout",
     "output_type": "stream",
     "text": [
      "Requirement already satisfied: scikit-learn in ./env/lib/python3.12/site-packages (1.6.1)\n",
      "Requirement already satisfied: numpy>=1.19.5 in ./env/lib/python3.12/site-packages (from scikit-learn) (2.2.3)\n",
      "Requirement already satisfied: scipy>=1.6.0 in ./env/lib/python3.12/site-packages (from scikit-learn) (1.15.2)\n",
      "Requirement already satisfied: joblib>=1.2.0 in ./env/lib/python3.12/site-packages (from scikit-learn) (1.4.2)\n",
      "Requirement already satisfied: threadpoolctl>=3.1.0 in ./env/lib/python3.12/site-packages (from scikit-learn) (3.5.0)\n"
     ]
    }
   ],
   "source": [
    "!pip install scikit-learn\n",
    "import re\n",
    "import numpy as np\n",
    "import matplotlib.pyplot as plt\n",
    "import pandas as pd\n",
    "import seaborn as sns\n",
    "from collections import Counter\n",
    "from tqdm.notebook import tqdm\n",
    "from sklearn.feature_extraction.text import CountVectorizer\n",
    "import dask.dataframe as dd"
   ]
  },
  {
   "cell_type": "markdown",
   "id": "c2323687-17ad-497d-ae5f-6f38ad388d4f",
   "metadata": {},
   "source": [
    "## our dataset\n",
    "\n",
    "- \"TREC stands for the Text Retrieval Conference. Started in 1992 it is a series of workshops that focus on supporting research within the information retrieval community. It provides the infrastructure necessary for large-scale evaluation of text retrieval methodologies. Every year these workshops are organized, which are centered around a set of tracks. These tracks encourage new researches in the area of information retrieval.\"\n",
    "- TREC 2019 Deep Learning Track https://microsoft.github.io/msmarco/TREC-Deep-Learning-2019\n",
    "- data from MS-Marco https://microsoft.github.io/msmarco/\n",
    "- The dataset contains  367k queries and a corpus of 3.2 million documents. \n",
    "___\n",
    "- if you want to reproduce my selection or get a bigger set, uncomment and execute\n"
   ]
  },
  {
   "cell_type": "code",
   "execution_count": null,
   "id": "0574215f-73a5-4d1a-96b3-ba4dc8314f12",
   "metadata": {},
   "outputs": [],
   "source": [
    "#!wget https://msmarco.blob.core.windows.net/msmarcoranking/msmarco-docs.tsv.gz\n",
    "#!wget https://msmarco.blob.core.windows.net/msmarcoranking/msmarco-doctrain-queries.tsv.gz\n",
    "#!wget https://msmarco.blob.core.windows.net/msmarcoranking/msmarco-doctrain-top100.gz\n",
    "\t\n",
    "#!gzip -d msmarco-docs.tsv.gz\n",
    "#!gzip -d msmarco-doctrain-queries.tsv.gz\n",
    "#!gzip -d msmarco-doctrain-top100.gz\n"
   ]
  },
  {
   "attachments": {},
   "cell_type": "markdown",
   "id": "58b288fe-2788-4f9f-983e-07816431ea12",
   "metadata": {},
   "source": [
    "## skip to the section \"reading in our smaller files\"\n",
    "\n",
    "come back here if you want to understand how to reduce the dataset or you want to build your own dataset"
   ]
  },
  {
   "cell_type": "markdown",
   "id": "961fd674-6b24-43da-9d92-19e589506666",
   "metadata": {},
   "source": [
    "- we have three datasets:\n",
    "    \n",
    "    1. the queries: msmarco-doctrain-queries.tsv\n",
    "    2. the gold: msmarco-doctrain-top100.tsv is a table containing query_id, doc_id and rank\n",
    "    3. the actual documents: msmarco-docs.tsv 21GB of text! doc_id, url, title, text"
   ]
  },
  {
   "cell_type": "code",
   "execution_count": null,
   "id": "98275be5-2f98-486d-80ae-0d775f1dcbd6",
   "metadata": {},
   "outputs": [],
   "source": [
    "all_queries=pd.read_table('msmarco-doctrain-queries.tsv',header=None)\n",
    "all_queries.columns=['qid','query']\n",
    "print('Shape=>',all_queries.shape)\n",
    "all_queries.head()"
   ]
  },
  {
   "cell_type": "markdown",
   "id": "38bbe076-dd9d-4d97-bfba-31269a20ab86",
   "metadata": {},
   "source": [
    "#### reducing the dataset\n",
    "- here we take 1000 queries. \n",
    "- if this is too big for your computer, use this code to build smaller version, starting with the already reduced 1000 query set that we've downloaded before\n"
   ]
  },
  {
   "cell_type": "code",
   "execution_count": null,
   "id": "710fa4f5-ca4e-4fae-b295-b35e08e6e942",
   "metadata": {},
   "outputs": [],
   "source": [
    "our_queries=all_queries.sample(n=1000,random_state=42).reset_index(drop=True)\n",
    "print('Shape=>',our_queries.shape)\n",
    "our_queries.head()"
   ]
  },
  {
   "cell_type": "code",
   "execution_count": null,
   "id": "6e734ee2-9ce4-4c7d-9062-2f1a71d62e91",
   "metadata": {},
   "outputs": [],
   "source": [
    "our_queries.to_csv('our.msmarco.queries.tsv',sep='\\t')"
   ]
  },
  {
   "cell_type": "markdown",
   "id": "f4f44a4f-81d3-4994-8806-07c656e814af",
   "metadata": {},
   "source": [
    "#### the gold file\n",
    "- 36m lines!"
   ]
  },
  {
   "cell_type": "code",
   "execution_count": null,
   "id": "f97d1b2a-4fe3-4209-b75a-47f904dd9515",
   "metadata": {},
   "outputs": [],
   "source": [
    "gold_top100=pd.read_table('msmarco-doctrain-top100',delimiter=' ',header=None)\n",
    "gold_top100.columns=['qid','Q0','docid','rank','score','runstring']\n",
    "print('Shape=>',gold_top100.shape)\n",
    "display(gold_top100.head())\n",
    "# Reducing train_top100 for training\n",
    "our_gold_top100=train_top100[gold_top100['qid'].isin(our_queries['qid'].unique())].reset_index(drop=True)\n",
    "print('Shape=>',our_gold_top100.shape)\n",
    "our_gold_top100.head()"
   ]
  },
  {
   "cell_type": "code",
   "execution_count": null,
   "id": "ab90450d-6564-4e49-a2ae-397f618a90fb",
   "metadata": {},
   "outputs": [],
   "source": [
    "our_gold_top100.to_csv('our.msmarco.gold.tsv',sep='\\t')"
   ]
  },
  {
   "cell_type": "markdown",
   "id": "576936ea-3f1d-4ac7-9249-a9b4960d8691",
   "metadata": {},
   "source": [
    "#### the data file\n",
    "\n",
    "- it's so big that it's smarter to use dask: https://docs.dask.org/en/stable/"
   ]
  },
  {
   "cell_type": "code",
   "execution_count": null,
   "id": "e3ad34c4-45f8-47cc-bcbd-37f10ab3405d",
   "metadata": {},
   "outputs": [],
   "source": [
    "df=dd.read_table('msmarco-docs.tsv',blocksize=100e6,header=None) #  partitions of 100MB\n",
    "df.columns=['docid','url','title','body']\n",
    "df.head()"
   ]
  },
  {
   "cell_type": "code",
   "execution_count": null,
   "id": "7982a03f-f966-4883-9a6f-0980a390a1db",
   "metadata": {},
   "outputs": [],
   "source": [
    "# can't get the number of rows quickly :s\n",
    "# very slow:\n",
    "# len(df.index)\n",
    "\n",
    "# faster:\n",
    "!wc -l msmarco-docs.tsv"
   ]
  },
  {
   "cell_type": "markdown",
   "id": "096ad493-1139-48c2-baeb-a29905d0bdd4",
   "metadata": {},
   "source": [
    "- big dataset with 3m rows!\n",
    "- we want the top 100 for our queries\n",
    "- this takes some time!"
   ]
  },
  {
   "cell_type": "code",
   "execution_count": null,
   "id": "4a4912c9-64e4-4c90-8dba-1fc3cfef013b",
   "metadata": {},
   "outputs": [],
   "source": [
    "def create_corpus(result):\n",
    "  unique_docid=result['docid'].unique()\n",
    "  condition=df['docid'].isin(unique_docid)\n",
    "  corpus=df[condition].reset_index(drop=True)\n",
    "  corpus=corpus.drop(columns='url')\n",
    "  print('Number of Rows=>',len(corpus))\n",
    "  return corpus\n",
    "\n",
    "our_docs=create_corpus(our_gold_top100)\n",
    "our_docs.head()"
   ]
  },
  {
   "cell_type": "code",
   "execution_count": null,
   "id": "b5d415e7-a773-46a7-83d5-9df501ed3d45",
   "metadata": {},
   "outputs": [],
   "source": [
    "our_docs.to_csv('our.msmarco.docs.tsv',sep='\\t', single_file=True)"
   ]
  },
  {
   "cell_type": "markdown",
   "id": "6ea2310d-0bbb-42c4-8189-c8606c00fc30",
   "metadata": {},
   "source": [
    "- this is still a big file: 92k documents"
   ]
  },
  {
   "cell_type": "markdown",
   "id": "5bc01012-818c-46ae-bc27-d789ce2e0063",
   "metadata": {},
   "source": [
    "# reading in our smaller files\n",
    "here we use the\n",
    "\n",
    "- !wget https://gerdes.fr/saclay/informationRetrieval/our_msmarco.zip\n",
    "- !unzip our_msmarco.zip"
   ]
  },
  {
   "cell_type": "code",
   "execution_count": 2,
   "id": "b3532319-bc8b-47ce-bf91-10f26cd0fe37",
   "metadata": {},
   "outputs": [
    {
     "data": {
      "text/html": [
       "<div>\n",
       "<style scoped>\n",
       "    .dataframe tbody tr th:only-of-type {\n",
       "        vertical-align: middle;\n",
       "    }\n",
       "\n",
       "    .dataframe tbody tr th {\n",
       "        vertical-align: top;\n",
       "    }\n",
       "\n",
       "    .dataframe thead th {\n",
       "        text-align: right;\n",
       "    }\n",
       "</style>\n",
       "<table border=\"1\" class=\"dataframe\">\n",
       "  <thead>\n",
       "    <tr style=\"text-align: right;\">\n",
       "      <th></th>\n",
       "      <th>qid</th>\n",
       "      <th>query</th>\n",
       "    </tr>\n",
       "  </thead>\n",
       "  <tbody>\n",
       "    <tr>\n",
       "      <th>0</th>\n",
       "      <td>687888</td>\n",
       "      <td>what is a jpe</td>\n",
       "    </tr>\n",
       "    <tr>\n",
       "      <th>1</th>\n",
       "      <td>480210</td>\n",
       "      <td>price for asphalt driveway</td>\n",
       "    </tr>\n",
       "    <tr>\n",
       "      <th>2</th>\n",
       "      <td>591004</td>\n",
       "      <td>what causes pressure skin bruising</td>\n",
       "    </tr>\n",
       "    <tr>\n",
       "      <th>3</th>\n",
       "      <td>260536</td>\n",
       "      <td>how long drive from flagstaff to grand canyon</td>\n",
       "    </tr>\n",
       "    <tr>\n",
       "      <th>4</th>\n",
       "      <td>39422</td>\n",
       "      <td>average number of bowel movements per day for ...</td>\n",
       "    </tr>\n",
       "    <tr>\n",
       "      <th>...</th>\n",
       "      <td>...</td>\n",
       "      <td>...</td>\n",
       "    </tr>\n",
       "    <tr>\n",
       "      <th>995</th>\n",
       "      <td>89597</td>\n",
       "      <td>cell voltage mv meaning</td>\n",
       "    </tr>\n",
       "    <tr>\n",
       "      <th>996</th>\n",
       "      <td>1167043</td>\n",
       "      <td>what an ip address</td>\n",
       "    </tr>\n",
       "    <tr>\n",
       "      <th>997</th>\n",
       "      <td>737304</td>\n",
       "      <td>what is daily max citizens atm</td>\n",
       "    </tr>\n",
       "    <tr>\n",
       "      <th>998</th>\n",
       "      <td>156934</td>\n",
       "      <td>do i need a florida commercial driver license</td>\n",
       "    </tr>\n",
       "    <tr>\n",
       "      <th>999</th>\n",
       "      <td>654329</td>\n",
       "      <td>what does tv on cameras stand for</td>\n",
       "    </tr>\n",
       "  </tbody>\n",
       "</table>\n",
       "<p>1000 rows × 2 columns</p>\n",
       "</div>"
      ],
      "text/plain": [
       "         qid                                              query\n",
       "0     687888                                      what is a jpe\n",
       "1     480210                         price for asphalt driveway\n",
       "2     591004                 what causes pressure skin bruising\n",
       "3     260536      how long drive from flagstaff to grand canyon\n",
       "4      39422  average number of bowel movements per day for ...\n",
       "..       ...                                                ...\n",
       "995    89597                            cell voltage mv meaning\n",
       "996  1167043                                 what an ip address\n",
       "997   737304                     what is daily max citizens atm\n",
       "998   156934      do i need a florida commercial driver license\n",
       "999   654329                  what does tv on cameras stand for\n",
       "\n",
       "[1000 rows x 2 columns]"
      ]
     },
     "execution_count": 2,
     "metadata": {},
     "output_type": "execute_result"
    }
   ],
   "source": [
    "queries = pd.read_csv('our.msmarco.queries.tsv',sep='\\t',usecols=[1,2])\n",
    "queries"
   ]
  },
  {
   "cell_type": "code",
   "execution_count": 3,
   "id": "ada037f1-1bd5-4a67-a2e9-b38adada382d",
   "metadata": {},
   "outputs": [
    {
     "data": {
      "text/html": [
       "<div>\n",
       "<style scoped>\n",
       "    .dataframe tbody tr th:only-of-type {\n",
       "        vertical-align: middle;\n",
       "    }\n",
       "\n",
       "    .dataframe tbody tr th {\n",
       "        vertical-align: top;\n",
       "    }\n",
       "\n",
       "    .dataframe thead th {\n",
       "        text-align: right;\n",
       "    }\n",
       "</style>\n",
       "<table border=\"1\" class=\"dataframe\">\n",
       "  <thead>\n",
       "    <tr style=\"text-align: right;\">\n",
       "      <th></th>\n",
       "      <th>qid</th>\n",
       "      <th>docid</th>\n",
       "      <th>rank</th>\n",
       "      <th>score</th>\n",
       "    </tr>\n",
       "  </thead>\n",
       "  <tbody>\n",
       "    <tr>\n",
       "      <th>0</th>\n",
       "      <td>310290</td>\n",
       "      <td>D579750</td>\n",
       "      <td>1</td>\n",
       "      <td>-5.11498</td>\n",
       "    </tr>\n",
       "    <tr>\n",
       "      <th>1</th>\n",
       "      <td>310290</td>\n",
       "      <td>D579754</td>\n",
       "      <td>2</td>\n",
       "      <td>-5.57703</td>\n",
       "    </tr>\n",
       "    <tr>\n",
       "      <th>2</th>\n",
       "      <td>310290</td>\n",
       "      <td>D2380815</td>\n",
       "      <td>3</td>\n",
       "      <td>-5.84852</td>\n",
       "    </tr>\n",
       "    <tr>\n",
       "      <th>3</th>\n",
       "      <td>310290</td>\n",
       "      <td>D822566</td>\n",
       "      <td>4</td>\n",
       "      <td>-5.95002</td>\n",
       "    </tr>\n",
       "    <tr>\n",
       "      <th>4</th>\n",
       "      <td>310290</td>\n",
       "      <td>D2249695</td>\n",
       "      <td>5</td>\n",
       "      <td>-6.08326</td>\n",
       "    </tr>\n",
       "    <tr>\n",
       "      <th>...</th>\n",
       "      <td>...</td>\n",
       "      <td>...</td>\n",
       "      <td>...</td>\n",
       "      <td>...</td>\n",
       "    </tr>\n",
       "    <tr>\n",
       "      <th>99995</th>\n",
       "      <td>257942</td>\n",
       "      <td>D253854</td>\n",
       "      <td>96</td>\n",
       "      <td>-6.32693</td>\n",
       "    </tr>\n",
       "    <tr>\n",
       "      <th>99996</th>\n",
       "      <td>257942</td>\n",
       "      <td>D3056621</td>\n",
       "      <td>97</td>\n",
       "      <td>-6.32837</td>\n",
       "    </tr>\n",
       "    <tr>\n",
       "      <th>99997</th>\n",
       "      <td>257942</td>\n",
       "      <td>D1323491</td>\n",
       "      <td>98</td>\n",
       "      <td>-6.32871</td>\n",
       "    </tr>\n",
       "    <tr>\n",
       "      <th>99998</th>\n",
       "      <td>257942</td>\n",
       "      <td>D2722485</td>\n",
       "      <td>99</td>\n",
       "      <td>-6.33100</td>\n",
       "    </tr>\n",
       "    <tr>\n",
       "      <th>99999</th>\n",
       "      <td>257942</td>\n",
       "      <td>D2339077</td>\n",
       "      <td>100</td>\n",
       "      <td>-6.33441</td>\n",
       "    </tr>\n",
       "  </tbody>\n",
       "</table>\n",
       "<p>100000 rows × 4 columns</p>\n",
       "</div>"
      ],
      "text/plain": [
       "          qid     docid  rank    score\n",
       "0      310290   D579750     1 -5.11498\n",
       "1      310290   D579754     2 -5.57703\n",
       "2      310290  D2380815     3 -5.84852\n",
       "3      310290   D822566     4 -5.95002\n",
       "4      310290  D2249695     5 -6.08326\n",
       "...       ...       ...   ...      ...\n",
       "99995  257942   D253854    96 -6.32693\n",
       "99996  257942  D3056621    97 -6.32837\n",
       "99997  257942  D1323491    98 -6.32871\n",
       "99998  257942  D2722485    99 -6.33100\n",
       "99999  257942  D2339077   100 -6.33441\n",
       "\n",
       "[100000 rows x 4 columns]"
      ]
     },
     "execution_count": 3,
     "metadata": {},
     "output_type": "execute_result"
    }
   ],
   "source": [
    "gold = pd.read_csv('our.msmarco.gold.tsv',sep='\\t',usecols=[1,3,4,5])\n",
    "gold"
   ]
  },
  {
   "cell_type": "code",
   "execution_count": 4,
   "id": "de5a006e-fb54-4539-9131-d3fe083a2739",
   "metadata": {},
   "outputs": [
    {
     "data": {
      "text/html": [
       "<div>\n",
       "<style scoped>\n",
       "    .dataframe tbody tr th:only-of-type {\n",
       "        vertical-align: middle;\n",
       "    }\n",
       "\n",
       "    .dataframe tbody tr th {\n",
       "        vertical-align: top;\n",
       "    }\n",
       "\n",
       "    .dataframe thead th {\n",
       "        text-align: right;\n",
       "    }\n",
       "</style>\n",
       "<table border=\"1\" class=\"dataframe\">\n",
       "  <thead>\n",
       "    <tr style=\"text-align: right;\">\n",
       "      <th></th>\n",
       "      <th>docid</th>\n",
       "      <th>title</th>\n",
       "      <th>body</th>\n",
       "    </tr>\n",
       "  </thead>\n",
       "  <tbody>\n",
       "    <tr>\n",
       "      <th>0</th>\n",
       "      <td>D2981241</td>\n",
       "      <td>What do you call a group of lions?</td>\n",
       "      <td>Lions Vocabulary of the English Language Word ...</td>\n",
       "    </tr>\n",
       "    <tr>\n",
       "      <th>1</th>\n",
       "      <td>D687756</td>\n",
       "      <td>.</td>\n",
       "      <td>The A Priori Argument ( also, Rationalization;...</td>\n",
       "    </tr>\n",
       "    <tr>\n",
       "      <th>2</th>\n",
       "      <td>D913099</td>\n",
       "      <td>Everything You Need To Learn How To Cook Veget...</td>\n",
       "      <td>Home &gt; How To Cook Vegetables Everything You N...</td>\n",
       "    </tr>\n",
       "    <tr>\n",
       "      <th>3</th>\n",
       "      <td>D328017</td>\n",
       "      <td>What is the difference between latitude, longi...</td>\n",
       "      <td>Longitude Latitude Geographic Coordinate Syste...</td>\n",
       "    </tr>\n",
       "    <tr>\n",
       "      <th>4</th>\n",
       "      <td>D1636347</td>\n",
       "      <td>When was the pulley invented?</td>\n",
       "      <td>Answers.com ® Wiki Answers ® Categories Techno...</td>\n",
       "    </tr>\n",
       "    <tr>\n",
       "      <th>...</th>\n",
       "      <td>...</td>\n",
       "      <td>...</td>\n",
       "      <td>...</td>\n",
       "    </tr>\n",
       "    <tr>\n",
       "      <th>92560</th>\n",
       "      <td>D3379210</td>\n",
       "      <td>Top 39 Doctor insights on: Can An Iud Cause Ha...</td>\n",
       "      <td>Top 39 Doctor insights on: Can An Iud Cause Ha...</td>\n",
       "    </tr>\n",
       "    <tr>\n",
       "      <th>92561</th>\n",
       "      <td>D3068739</td>\n",
       "      <td>How to get back your DirecTV cancellation fees</td>\n",
       "      <td>How to get back your Direc TV cancellation fee...</td>\n",
       "    </tr>\n",
       "    <tr>\n",
       "      <th>92562</th>\n",
       "      <td>D1590402</td>\n",
       "      <td>Certification FAQs</td>\n",
       "      <td>Fingerprinting 1. Where can I get fingerprinte...</td>\n",
       "    </tr>\n",
       "    <tr>\n",
       "      <th>92563</th>\n",
       "      <td>D2175490</td>\n",
       "      <td>Greenhouse gas emissions by Canadian economic ...</td>\n",
       "      <td>Access PDF (682 KB)In 2015, Canada's total gre...</td>\n",
       "    </tr>\n",
       "    <tr>\n",
       "      <th>92564</th>\n",
       "      <td>D2580062</td>\n",
       "      <td>QuickBooks Bill Pay</td>\n",
       "      <td>Quick Books Bill Pay Simplify your accounts pa...</td>\n",
       "    </tr>\n",
       "  </tbody>\n",
       "</table>\n",
       "<p>92565 rows × 3 columns</p>\n",
       "</div>"
      ],
      "text/plain": [
       "          docid                                              title  \\\n",
       "0      D2981241                 What do you call a group of lions?   \n",
       "1       D687756                                                  .   \n",
       "2       D913099  Everything You Need To Learn How To Cook Veget...   \n",
       "3       D328017  What is the difference between latitude, longi...   \n",
       "4      D1636347                      When was the pulley invented?   \n",
       "...         ...                                                ...   \n",
       "92560  D3379210  Top 39 Doctor insights on: Can An Iud Cause Ha...   \n",
       "92561  D3068739     How to get back your DirecTV cancellation fees   \n",
       "92562  D1590402                                 Certification FAQs   \n",
       "92563  D2175490  Greenhouse gas emissions by Canadian economic ...   \n",
       "92564  D2580062                                QuickBooks Bill Pay   \n",
       "\n",
       "                                                    body  \n",
       "0      Lions Vocabulary of the English Language Word ...  \n",
       "1      The A Priori Argument ( also, Rationalization;...  \n",
       "2      Home > How To Cook Vegetables Everything You N...  \n",
       "3      Longitude Latitude Geographic Coordinate Syste...  \n",
       "4      Answers.com ® Wiki Answers ® Categories Techno...  \n",
       "...                                                  ...  \n",
       "92560  Top 39 Doctor insights on: Can An Iud Cause Ha...  \n",
       "92561  How to get back your Direc TV cancellation fee...  \n",
       "92562  Fingerprinting 1. Where can I get fingerprinte...  \n",
       "92563  Access PDF (682 KB)In 2015, Canada's total gre...  \n",
       "92564  Quick Books Bill Pay Simplify your accounts pa...  \n",
       "\n",
       "[92565 rows x 3 columns]"
      ]
     },
     "execution_count": 4,
     "metadata": {},
     "output_type": "execute_result"
    }
   ],
   "source": [
    "docs = pd.read_csv('our.msmarco.docs.tsv',sep='\\t',usecols=[1,2,3])\n",
    "docs"
   ]
  },
  {
   "cell_type": "code",
   "execution_count": 5,
   "id": "772a1caf-1c38-4fd8-b819-bbe5f5d287a2",
   "metadata": {},
   "outputs": [
    {
     "name": "stdout",
     "output_type": "stream",
     "text": [
      "Shape=> (500, 2)\n"
     ]
    },
    {
     "data": {
      "text/html": [
       "<div>\n",
       "<style scoped>\n",
       "    .dataframe tbody tr th:only-of-type {\n",
       "        vertical-align: middle;\n",
       "    }\n",
       "\n",
       "    .dataframe tbody tr th {\n",
       "        vertical-align: top;\n",
       "    }\n",
       "\n",
       "    .dataframe thead th {\n",
       "        text-align: right;\n",
       "    }\n",
       "</style>\n",
       "<table border=\"1\" class=\"dataframe\">\n",
       "  <thead>\n",
       "    <tr style=\"text-align: right;\">\n",
       "      <th></th>\n",
       "      <th>qid</th>\n",
       "      <th>query</th>\n",
       "    </tr>\n",
       "  </thead>\n",
       "  <tbody>\n",
       "    <tr>\n",
       "      <th>0</th>\n",
       "      <td>687888</td>\n",
       "      <td>what is a jpe</td>\n",
       "    </tr>\n",
       "    <tr>\n",
       "      <th>1</th>\n",
       "      <td>480210</td>\n",
       "      <td>price for asphalt driveway</td>\n",
       "    </tr>\n",
       "    <tr>\n",
       "      <th>2</th>\n",
       "      <td>591004</td>\n",
       "      <td>what causes pressure skin bruising</td>\n",
       "    </tr>\n",
       "    <tr>\n",
       "      <th>3</th>\n",
       "      <td>260536</td>\n",
       "      <td>how long drive from flagstaff to grand canyon</td>\n",
       "    </tr>\n",
       "    <tr>\n",
       "      <th>4</th>\n",
       "      <td>39422</td>\n",
       "      <td>average number of bowel movements per day for ...</td>\n",
       "    </tr>\n",
       "  </tbody>\n",
       "</table>\n",
       "</div>"
      ],
      "text/plain": [
       "      qid                                              query\n",
       "0  687888                                      what is a jpe\n",
       "1  480210                         price for asphalt driveway\n",
       "2  591004                 what causes pressure skin bruising\n",
       "3  260536      how long drive from flagstaff to grand canyon\n",
       "4   39422  average number of bowel movements per day for ..."
      ]
     },
     "metadata": {},
     "output_type": "display_data"
    },
    {
     "name": "stdout",
     "output_type": "stream",
     "text": [
      "Shape=> (500, 2)\n"
     ]
    },
    {
     "data": {
      "text/html": [
       "<div>\n",
       "<style scoped>\n",
       "    .dataframe tbody tr th:only-of-type {\n",
       "        vertical-align: middle;\n",
       "    }\n",
       "\n",
       "    .dataframe tbody tr th {\n",
       "        vertical-align: top;\n",
       "    }\n",
       "\n",
       "    .dataframe thead th {\n",
       "        text-align: right;\n",
       "    }\n",
       "</style>\n",
       "<table border=\"1\" class=\"dataframe\">\n",
       "  <thead>\n",
       "    <tr style=\"text-align: right;\">\n",
       "      <th></th>\n",
       "      <th>qid</th>\n",
       "      <th>query</th>\n",
       "    </tr>\n",
       "  </thead>\n",
       "  <tbody>\n",
       "    <tr>\n",
       "      <th>500</th>\n",
       "      <td>116364</td>\n",
       "      <td>decree verb definition</td>\n",
       "    </tr>\n",
       "    <tr>\n",
       "      <th>501</th>\n",
       "      <td>638813</td>\n",
       "      <td>what does hemiballistic mean</td>\n",
       "    </tr>\n",
       "    <tr>\n",
       "      <th>502</th>\n",
       "      <td>401631</td>\n",
       "      <td>is advil considered aspirin?</td>\n",
       "    </tr>\n",
       "    <tr>\n",
       "      <th>503</th>\n",
       "      <td>1050265</td>\n",
       "      <td>who sang the song midnight train to georgia</td>\n",
       "    </tr>\n",
       "    <tr>\n",
       "      <th>504</th>\n",
       "      <td>632336</td>\n",
       "      <td>what does aq mean in chemistry</td>\n",
       "    </tr>\n",
       "  </tbody>\n",
       "</table>\n",
       "</div>"
      ],
      "text/plain": [
       "         qid                                        query\n",
       "500   116364                       decree verb definition\n",
       "501   638813                 what does hemiballistic mean\n",
       "502   401631                 is advil considered aspirin?\n",
       "503  1050265  who sang the song midnight train to georgia\n",
       "504   632336               what does aq mean in chemistry"
      ]
     },
     "execution_count": 5,
     "metadata": {},
     "output_type": "execute_result"
    }
   ],
   "source": [
    "training_queries=queries.iloc[:500]\n",
    "print('Shape=>',training_queries.shape)\n",
    "display(training_queries.head())\n",
    "testing_queries=queries.iloc[500:]\n",
    "print('Shape=>',testing_queries.shape)\n",
    "testing_queries.head()"
   ]
  },
  {
   "cell_type": "markdown",
   "id": "35de36db-e7e1-4eb4-9589-033a9cfd6d9c",
   "metadata": {},
   "source": [
    "## exploring the data"
   ]
  },
  {
   "cell_type": "markdown",
   "id": "13879e33-fe7e-4a72-9beb-26c6a47e28fc",
   "metadata": {},
   "source": [
    "### 🚧 todo: check whether there are NaN and take care of them"
   ]
  },
  {
   "cell_type": "code",
   "execution_count": 6,
   "id": "7db2e10b-572a-4bc8-bc49-1c85d5130ffa",
   "metadata": {},
   "outputs": [
    {
     "name": "stdout",
     "output_type": "stream",
     "text": [
      "queries NaN:  qid      0\n",
      "query    0\n",
      "dtype: int64\n",
      "gold NaN:  qid      0\n",
      "docid    0\n",
      "rank     0\n",
      "score    0\n",
      "dtype: int64\n",
      "docs NaN:  docid      0\n",
      "title    372\n",
      "body       3\n",
      "dtype: int64\n"
     ]
    }
   ],
   "source": [
    "print(\"queries NaN: \", queries.isna().sum())\n",
    "print(\"gold NaN: \", gold.isna().sum())\n",
    "print(\"docs NaN: \", docs.isna().sum())"
   ]
  },
  {
   "cell_type": "code",
   "execution_count": 7,
   "id": "a5ef8426-b88b-44fc-b4bf-a43931215ee4",
   "metadata": {},
   "outputs": [],
   "source": [
    "queries = queries.fillna('')\n",
    "gold = gold.fillna({'docid': '', 'rank': 0, 'score': 0})\n",
    "docs = docs.fillna({'title': '', 'body': ''})"
   ]
  },
  {
   "cell_type": "markdown",
   "id": "a3ad0b40-55ff-4259-a612-0a5709cca349",
   "metadata": {},
   "source": [
    "### let's have a look at some random query:"
   ]
  },
  {
   "cell_type": "code",
   "execution_count": 8,
   "id": "ed9c9a83-c3dd-483c-a190-9bd4ba8119e5",
   "metadata": {},
   "outputs": [
    {
     "data": {
      "text/plain": [
       "qid                                      251898\n",
       "query    how long does getting a doctorate take\n",
       "Name: 111, dtype: object"
      ]
     },
     "execution_count": 8,
     "metadata": {},
     "output_type": "execute_result"
    }
   ],
   "source": [
    "queries.loc[111]"
   ]
  },
  {
   "cell_type": "code",
   "execution_count": 9,
   "id": "2fb82a23-84e5-4ba1-9f2e-38c6f8b4bae6",
   "metadata": {},
   "outputs": [
    {
     "data": {
      "text/html": [
       "<div>\n",
       "<style scoped>\n",
       "    .dataframe tbody tr th:only-of-type {\n",
       "        vertical-align: middle;\n",
       "    }\n",
       "\n",
       "    .dataframe tbody tr th {\n",
       "        vertical-align: top;\n",
       "    }\n",
       "\n",
       "    .dataframe thead th {\n",
       "        text-align: right;\n",
       "    }\n",
       "</style>\n",
       "<table border=\"1\" class=\"dataframe\">\n",
       "  <thead>\n",
       "    <tr style=\"text-align: right;\">\n",
       "      <th></th>\n",
       "      <th>qid</th>\n",
       "      <th>docid</th>\n",
       "      <th>rank</th>\n",
       "      <th>score</th>\n",
       "    </tr>\n",
       "  </thead>\n",
       "  <tbody>\n",
       "    <tr>\n",
       "      <th>36200</th>\n",
       "      <td>251898</td>\n",
       "      <td>D2865964</td>\n",
       "      <td>1</td>\n",
       "      <td>-4.74293</td>\n",
       "    </tr>\n",
       "    <tr>\n",
       "      <th>36201</th>\n",
       "      <td>251898</td>\n",
       "      <td>D3557816</td>\n",
       "      <td>2</td>\n",
       "      <td>-4.90695</td>\n",
       "    </tr>\n",
       "    <tr>\n",
       "      <th>36202</th>\n",
       "      <td>251898</td>\n",
       "      <td>D2723985</td>\n",
       "      <td>3</td>\n",
       "      <td>-4.95911</td>\n",
       "    </tr>\n",
       "    <tr>\n",
       "      <th>36203</th>\n",
       "      <td>251898</td>\n",
       "      <td>D1951655</td>\n",
       "      <td>4</td>\n",
       "      <td>-4.97272</td>\n",
       "    </tr>\n",
       "    <tr>\n",
       "      <th>36204</th>\n",
       "      <td>251898</td>\n",
       "      <td>D1709749</td>\n",
       "      <td>5</td>\n",
       "      <td>-5.02176</td>\n",
       "    </tr>\n",
       "    <tr>\n",
       "      <th>...</th>\n",
       "      <td>...</td>\n",
       "      <td>...</td>\n",
       "      <td>...</td>\n",
       "      <td>...</td>\n",
       "    </tr>\n",
       "    <tr>\n",
       "      <th>36295</th>\n",
       "      <td>251898</td>\n",
       "      <td>D2531901</td>\n",
       "      <td>96</td>\n",
       "      <td>-5.56896</td>\n",
       "    </tr>\n",
       "    <tr>\n",
       "      <th>36296</th>\n",
       "      <td>251898</td>\n",
       "      <td>D2956542</td>\n",
       "      <td>97</td>\n",
       "      <td>-5.57138</td>\n",
       "    </tr>\n",
       "    <tr>\n",
       "      <th>36297</th>\n",
       "      <td>251898</td>\n",
       "      <td>D301873</td>\n",
       "      <td>98</td>\n",
       "      <td>-5.57262</td>\n",
       "    </tr>\n",
       "    <tr>\n",
       "      <th>36298</th>\n",
       "      <td>251898</td>\n",
       "      <td>D2952336</td>\n",
       "      <td>99</td>\n",
       "      <td>-5.57504</td>\n",
       "    </tr>\n",
       "    <tr>\n",
       "      <th>36299</th>\n",
       "      <td>251898</td>\n",
       "      <td>D1805809</td>\n",
       "      <td>100</td>\n",
       "      <td>-5.57544</td>\n",
       "    </tr>\n",
       "  </tbody>\n",
       "</table>\n",
       "<p>100 rows × 4 columns</p>\n",
       "</div>"
      ],
      "text/plain": [
       "          qid     docid  rank    score\n",
       "36200  251898  D2865964     1 -4.74293\n",
       "36201  251898  D3557816     2 -4.90695\n",
       "36202  251898  D2723985     3 -4.95911\n",
       "36203  251898  D1951655     4 -4.97272\n",
       "36204  251898  D1709749     5 -5.02176\n",
       "...       ...       ...   ...      ...\n",
       "36295  251898  D2531901    96 -5.56896\n",
       "36296  251898  D2956542    97 -5.57138\n",
       "36297  251898   D301873    98 -5.57262\n",
       "36298  251898  D2952336    99 -5.57504\n",
       "36299  251898  D1805809   100 -5.57544\n",
       "\n",
       "[100 rows x 4 columns]"
      ]
     },
     "execution_count": 9,
     "metadata": {},
     "output_type": "execute_result"
    }
   ],
   "source": [
    "gold[gold.qid==251898]"
   ]
  },
  {
   "cell_type": "markdown",
   "id": "eef3095e-4e50-4b76-8a01-7a0009e2b157",
   "metadata": {},
   "source": [
    "### 🚧 todo: let's look at the top-ranked document for that query\n",
    "- title\n",
    "- body"
   ]
  },
  {
   "cell_type": "code",
   "execution_count": 10,
   "id": "ce01135d-c574-41a9-9127-368c8388a5e8",
   "metadata": {},
   "outputs": [
    {
     "name": "stdout",
     "output_type": "stream",
     "text": [
      "Title: How long does it take to get a post-doctoral degree?\n",
      "Body: Answers.com ® Wiki Answers ® Categories Jobs & Education Education College Degrees Graduate Degrees How long does it take to get a post-doctoral degree? Flag How long does it take to get a post-doctoral degree? Answer by Joe Ragusa Confidence votes 98.6KI am not aware of any such thing as a postdoctoral degree. You may be referring to postdoctoral research which may be required for obtaining a tenure-track faculty position, especially at research oriented institutions. Some have suggested that postdoctoral appointments - that were traditionally optional - have become mandatory as demand for tenure-track positions in academia has drastically increased over previous decades (Wikipedia). The length of time in this case depends on the type, content, scope, and depth of the research.2 people found this useful Was this answer useful? Yes Somewhat No Tyler Durden9988 1,326 Contributions How long does it take to get a doctoral degree? It totally depends on the actual degree and school but you can assume between three and five years as a general guideline. Medical degrees may take longer due to the internshi …How long does it take to get a doctorate degree in psychology? Answer 6-8 years Mark Swarthout 794,167 Contributions Contract attorney. When not working I teach karate, collect stamps, write books, and play the ukulele. How long does it take to earn a doctorate degree? It depends on the program and how hard you work. Most programs take 2 to 3 years, but it can take longer if you are not a full time student. Sheepgrape 1,482 Contributions How long does it take to get a doctorate degree in psycology? About six years if you go for a Psy. D. or Ph. D. in psychology. Joe Ragusa How long does it take to get a doctor of pharmacy degree? Answer . Pharmacy programs grant the degree of Doctor of Pharmacy (Pharm. D.), which requires at least 6 years of postsecondary study and the passing of a State board of ph …How long does it take to get a doctors degree?it takes 4 years dependig Joe Ragusa How long does it take to get a doctoral degree in business? A doctoral degree can take approximately three to four years after completion of a bachelors degree. Rxdoc1 907 Contributions How long does it take to get a doctorate degree in pharmaceuticals? Since 2000, all coleges of pharmacu have been required to offer only a single-level entry doctorate degree in Pharmacy which takes 6 years to complete. Internship …Joe Ragusa How long does it take to get a doctor of medicine degree? The common path to practicing as a physician requires 8 years of education beyond high school and 3 to 8 additional years of internship and residency. All States, the District …Joe Ragusa How long does it take to get a doctorates degree? It depends on what kind of doctorate. In general, a doctorate will take approximately eight years beyond high school completion. Grrlygirl 10 Contributions How long does it take to get a doctorate degree in economics? Assuming: You are starting with a bachelor's degree You are enrolled in a doctorate program in which the required graduate courses are built in You are a …Joe Ragusa How long does it take to get a doctorate degree after a MBA? It depends on the specific program of study. Still, the approximate time frame could be anywhere from two to four years. Once again this depends on the program of study, the c …Joe Ragusa Answered In College Degrees How long does it take to get a doctorates degree in psycology? It would take approximately four years post high school completion. However, it depends on how long it takes a student to complete the dissertation (original topic, with resea …Joe Ragusa Answered In Anesthesiologists How long does it take to get a anesthesiologist doctor degree? It will take four years for the bachelor's degree with completion of all prerequisite coursework, and four years of medical school. There will also be three or more years to c …Answered In Bachelors Degrees How long does it take to get a doctorate degree in general? Theoretically, it would take 4 years to get a bachelors degree, another two for your masters, and yet another 2 (or more) to get your doctorate or Ph D. That's a total of at le …Tyler Durden9988 1,326 Contributions Answered In Education How long does it take for a doctor degree? The answer to your question depends on what type of doctor you want to know about. Physicians go to medical school for four years and then may seek additional training in resi …Mark Swarthout 794,167 Contributions Contract attorney. When not working I teach karate, collect stamps, write books, and play the ukulele. Answered In Bachelors Degrees How long does it take to get a post-secondary degree? It depends on the focus and level. You can finish law school full time in three years. Most Masters programs could be done in two years. \n"
     ]
    }
   ],
   "source": [
    "top_doc = docs[docs['docid'] == gold[gold['qid'] == 251898]['docid'].values[0]]\n",
    "title = top_doc['title'].values[0]\n",
    "body = top_doc['body'].values[0]\n",
    "\n",
    "print(\"Title:\", title)\n",
    "print(\"Body:\", body)"
   ]
  },
  {
   "cell_type": "markdown",
   "id": "402273c0-e851-43c4-a212-819d0a9b8b4c",
   "metadata": {},
   "source": [
    "### 🚧 todo: let's look at the second document\n",
    "- let's make a functioin to make that easier"
   ]
  },
  {
   "cell_type": "code",
   "execution_count": 11,
   "id": "ea7f2274-946f-4c18-b2ba-867283278e14",
   "metadata": {},
   "outputs": [
    {
     "data": {
      "text/plain": [
       "'How long does it take to get a degree in psychology?'"
      ]
     },
     "metadata": {},
     "output_type": "display_data"
    },
    {
     "data": {
      "text/plain": [
       "\"Answers.com ® Wiki Answers ® Categories Jobs & Education Education College Degrees Bachelors Degrees How long does it take to get a degree in psychology? Flag How long does it take to get a degree in psychology? Answer by Colette Fisher Stone Confidence votes 16To complete a bachelors degree, it can take anywhere from 124 -128 credits. This could take approximately four years of study, provided the student takes the program as prescribed by the institution. Viper1 I just finished my Bachelor's in Psychology. It actually takes anywhere from 180-195 credits, and does take four years if you are taking 2 classes a semester. If you take on a heavier class load, it is possible to graduate in 3 years.15 people found this useful Was this answer useful? Yes Somewhat No Joe Ragusa How long does it take to earn a bachelor's degree in forensic psychology? It usually takes about 4 years to receive a Bachelor's Degree Answer I might also add that it depends on entrance testing of basic skills, credit load per …Aliciagw 2 Contributions How long does it take to earn a master's degree in psychology? Answer If you are talking about a Masters in Counseling, this could be anything from 1 and a half to about 3 years, depending on wether you are working a full time job …How long does it take to get a degree in forensic psychology? Answer You'd need a 4-year college degree, a 3-year master's degree and a doctorate degree, which can take 2-3 years. How long does it take to get a doctorate degree in psychology? Answer 6-8 years Joe Ragusa How long does it take to get a bachelors degree in psychology? A bachelor's degree in most areas can require between 120 to 128 college credits particular to a specific program of study. This would be based on a college or university tha …How long will it take to get a Bachelor degree in Psychology? Normally, it takes 4 years to get a bachelors degree. Joe Ragusa How long does it take to obtain a masters degree in psychology? It depends where you go to school now a day but my father-in-law has been a Psychologist for approx. 36yrs and attended school for 7yrs and is always doing training of sorts a …Corinne La Shawn 4 Contributions How long does it take you to get your master's degree in psychology? In most cases, a masters degree in psychology takes approximately 2 years to complete, and a doctorate takes 4-6 years (that is, 2-4 years longer than a masters degree) …Justinbieberluvah 3 Contributions How long does it take to get a Ph. D in psychology after getting a bachelor's degree? Obtaining a Ph D in psychology usually requires 5 to 7 years of graduate study after the bachelor's degree is received. Usually, a dissertation is required, but a Psy D degree c …Joe Ragusa How long does it take to get a bachelor's degree in Psychology at University of Phoenix? Typically, the bachelors degree is designed as a four year program of study as a full-time student, provided the individual takes the degree as prescribed by the college or un …April Raine 12,929 Contributions A cat, a book, and a Slurpee - what else could I possibly need? How long does it take to earn a bachelors degree in psychology? Usually 4-5 years Sigmund99 2 Contributions How long does it take to get a bachelor of psychology degree? Typically four years, to take the general education requirements and then to major in psychology. Some can do it in fewer years than that, if they enter college with adv …Joe Ragusa Answered In Bachelors Degrees How long does it take to earn your masters degree in child psychology? A masters degree within this field of study typically takes approximately two to three years to complete, depending on the credit load carried each semester. . A masters deg …Dr Ruby 100 Contributions Answered In Business & Finance How long does it take to complete a degree in forensic psychology? Bachelor's = 4 years Master's = 2 more years Doctorate = 2+ more So, 8 total (usually). There is also a pre-doctoral internship and a post-doctoral rotation tha …Answered In College Degrees How long does it take to get a Ph D in psychology after having a masters degree?a long time Wingdude88 306 Contributions Answered In College Degrees How long does it takes to get a bachelor's degree in psychology? Bachelor's Degree usually = 4 years (8 semesters) of study. Des Elms 1,261 Contributions Answered In Education How long does it take to get a bachelors in psychology if you have a associates degree? Answer 1: A bachelors degree is a four-year degree containing 120 semester credit hours. An associates degree is a two-year degree containing 60 semester credit hours. Someone … \""
      ]
     },
     "metadata": {},
     "output_type": "display_data"
    }
   ],
   "source": [
    "def titleAndBody(qid, rank):\n",
    "    doc_id = gold[(gold['qid'] == qid) & (gold['rank'] == rank)]['docid'].values[0]\n",
    "    doc = docs[docs['docid'] == doc_id]\n",
    "    display(doc['title'].values[0])\n",
    "    display(doc['body'].values[0])\n",
    "\n",
    "titleAndBody(251898, 2)"
   ]
  },
  {
   "cell_type": "markdown",
   "id": "ff47ffef-d779-403b-8a7f-75cf0d0cee54",
   "metadata": {},
   "source": [
    "#### let's look at the 100th document"
   ]
  },
  {
   "cell_type": "code",
   "execution_count": 12,
   "id": "361e71c5-7b0b-4dbe-b8b5-4b8ade9a33cf",
   "metadata": {},
   "outputs": [
    {
     "data": {
      "text/plain": [
       "'.'"
      ]
     },
     "metadata": {},
     "output_type": "display_data"
    },
    {
     "data": {
      "text/plain": [
       "'Solutions Sang Level 1 (Contributor)61 Answers, 2 Followers\"What process does long distance mail go through...\"2 0 What process does long distance mail go through? I.e from your mail slot to.... Was this answer helpful? Yes | No Comment Reply Report This answer closely relates to: Calculate how long it will take for mail to be sent from one state to another Mechanicsburg pa to cazenovia ny how long to ship regular mail Whats the longest it take to recieve mail from another state Ellsworth Level 1 (Contributor)52 Answers, 1 Follower0 0 From cerritos ca to cleveland oh. Was this answer helpful? Yes | No Comment Reply Report This answer closely relates to: Mailed from kansas city mo on a friday when can i expect it in cleveland ohio Freida Level 1 (Contributor)13 Answers, 1 Follower1 1 How long does it take to get your state and fedurel tax back? Was this answer helpful? Yes | No Comment Reply Report This answer closely relates to: Approximately how long will it take for a package from wichita kansas get to little rock arkansas Letter from kanas to ny how long Approximately how long does it take a package from lafayette to reach raceland louisiana Lavonda Level 1 (Contributor)19 Answers, 1 Follower1 1 How long does it take to get mail from nevada lost veagos to pensacola. Was this answer helpful? Yes | No Comment Reply Report This answer closely relates to: N y to pensacola fl by mail package how maney days Mail went out from arsaw to florida how many days Mail from md to in mailed dec 5th Anonymous0 0 If somebody send a card in the mail on Monday when will I get it from florida to Lancaster ohio. Was this answer helpful? Yes | No Comment Reply Report This answer closely relates to: Mail from florida to ohio Mailing from iowa to florida how may days Mail something from iowa to ohio Suggested Solutions (10) What\\'s this? Avis Level 1 (Contributor)19 Answers, 1 Follower\"If you want it to be priority it will still take 2-3 days...\"5 0 1 day if it is within certain tri counties (60 mile radius). 2 days if it`s within the state (north-south-east-west). 3 days if it is within a remote area of the same state. If you want it to be priority it will still take 2-3 days. Otherwise across the country it could take 3-5 days. Not including weekends. And for packages 7-10 days. International could take up to almost two weeks if you are lucky. I always send things with a tracking number.source: How long does regular mail take with in the same state? Was this answer helpful? Yes | No Comment Reply Report This answer closely relates to: A letter from indianna to lancastr pa how many days deliver Indianapolis in to apex nc days for letter to arrive Mail from north carolina to ny state Alda Level 1 (Contributor)24 Answers, 1 Follower\"The mail sent within state may deliver within 24 hours or may take...\"0 0 It depends on what state you are living in or what state mail service are you precisely asking for. Within USA the states are independent bodies and have control on there own authorities. The mail sent within state may deliver within 24 hours or may take up to 3 days depending on the size, weight and the nature of that mail sent to be delivered within the state. (Sidq2_Jawad)source: How long does mail take to deliver in the same state? Was this answer helpful? Yes | No Comment Reply Report This answer closely relates to: A letter sent friday in austin texas is delivered when in vicksburg ms Mail delivery times from state to state Regular mail from pa to wa Lucio Level 1 (Contributor)31 Answers, 1 Follower0 0 I have sent a mass mailing of magazines within the same state off of e Bay & they arrived to the buyer in about 1 day!source: How long does media mail take to arrive in same state? Was this answer helpful? Yes | No Comment Reply Report This answer closely relates to: Mailing something from delaware to missouri Mailing time from state to state Carrol Level 1 (Contributor)51 Answers, 2 Followers\"You have to file the tax in the same state you have the property in...\"1 0 Yes, you have to file the tax in the same state you have the property in. (Sidq_james Anderson)source: I own a house in another state i receive rent do i need to file state tax return in for that state? Was this answer helpful? Yes | No Comment Reply Report Aileen Level 1 (Contributor)15 Answers, 1 Follower\"1-3 days in the us...\"0 0 1-3 days in the us! i had the same ? 2, then i asked the mail woman!source: How long does mail take within state? Was this answer helpful? Yes | No Comment Reply Report This answer closely relates to: Length of first class mail from peachtree city ga tonewton ks Mailed letter today will arrive Mailed on the 5th when will it arrive Trula Level 1 (Contributor)15 Answers, 1 Follower1 0 If it is coming by the US post office just kiss that letter goodbye.source: How long does it take to mail a letter within your state? Was this answer helpful? Yes | No Comment Reply Report This answer closely relates to: Average time it takes to get letter mailed from olathe ks to mesa az About how long does it take for a letter to come from overland park k s to los angeles ca Letter mailed from kansas city when can i expect to recieve it in alabama Georgene Level 1 (Contributor)20 Answers, 1 Follower0 0 How long does it take to receive mail from los angeles to chicago?source: How long does it take mail to be delivered from one state to another? Was this answer helpful? Yes | No Comment Reply Report This answer closely relates to: Mail time from state to state Mail time from state to state north carolina to kansas Expecting a letter from washigton to texas how long will take to get here Anonymous1 0 How long from mail from pa to get north carolina?source: How long does mail take to deliver from state to state? Was this answer helpful? Yes | No Someone said: about 5-7 days, depending on if you shipped first class Was this comment helpful? Yes | No Comment Reply Report This answer closely relates to: Wheres does mail go from edmeston ny to north carolina Mail time from washington state to virginia Regular mail from wichita kansas to city of industry ca Krystle Level 1 (Contributor)16 Answers, 1 Follower\"Expect 8 weeks...\"0 0 Expect 8 weeks. If you do Direct Deposit, figure on 7.source: How long does it take for irs checks to mail to another state? Was this answer helpful? Yes | No Comment Reply Report Lonnie Level 1 (Contributor)57 Answers, 1 Follower0 0 Ummm.. I suppose but why would you do that?source: Can cigarettes be mail from state to state through the usps? Was this answer helpful? Yes | No Comment Reply Report Add Your Answer How long does it take mail to arrive from state to state? How long does it take mail to arrive from Kansas City to Indianapolis Post to Facebook Post to Twitter Subscribe me Users who viewed this problem also viewed:karensayoung777Level 1 (Contributor)1 Answer\"Long will it take a package from missouri to west virginia if shipped economy...\"0 0How long will it take a package from missouri to west virginia if shipped economy mail? I am getting a package from Kansas City Missouri I live in Charmco West Virginia. How long will it take? Comment Reply Report This discussion closely relates to: Average mail time from kansas city mo to elkton md Package from denver colorado to missouri shipped out tuesday when will it arrive Mail from kansas city mo to media palandrmom121Level 1 (Contributor)1 Answer\"How long will it take a letter to arrive from phila...\"1 0How long will it take a letter to arrive from Phila., PA to Austin, TX? HOW LONG WILL IT TAKE A LETTER FROM PHILA., PA TO AUSTIN, TX?. 3-4 days on average Comment Reply Reportmvandyke Level 1 (Contributor)1 Answer0 0How long does it take for aletter mailed from kansas city kansas to get to des moines iowa? What is the usual time it takes for the post office to deliver mail from one state to another Comment Reply Report This discussion closely relates to: Usual time for package to travel from iowa to fl Regular mail little rock to des moines Mail time from montana to washingtonwiskers13579Level 1 (Contributor)1 Answer\"Mail to get from cleveland texas to peachtree georgia?~need to know how fast mail...\"0 0If a mail lady is driving, how long will it take for mail to get from cleveland texas to peachtree georgia? Need to know how fast mail gets from here to there Comment Reply Report This discussion closely relates to: Mail from alabama to kansas First class mail from missouri to pennsylvania Mail from sc to mouser967321Level 1 (Contributor)1 Answer0 0How how many days does it take mail to get from schererville indiana to norman oklahoma? Time for mail delivery from state to state? Comment Reply Reportuser1025927Level 1 (Contributor)1 Answer\"Va?~will a letter i mail on tuesday arrive by friday?... \"0 0How long does it take for a letter to go from Preston, GA to Herndon, VA? Will a letter I mail on Tuesday arrive by Friday? Comment Reply Report Can you help us by answering one of these related questions? If you live in one state and work in another state which is your state recidence? If i have medicaide in one state and go on vacation in another state can i use it in that state i am visiting? How long does it take to recieve your nc state refund check in the mail after the check has been written? How long does it take priority first class mail to arrive from ft lauderdale florida to baltimore md if mail today at 1259 pm? How long does it take for mail to arrive in mexico if sent through priority international mail? How long does it take for mail from england to arrive in melbourne royal mail? How long does it take for mail packet too arrive in the mail from the uk to chicago ill u s a? Where to mail pa state w2s? If i sell a investment property located in another state do i owe my home state capital gains? Can my wages be garnished for judgment in community property state if i move to common law state? We need your help! Please help us improve our content by removing questions that are essentially the same and merging them into this question. Please tell us which questions below are the same as this one: How long does it take mail to arrive from state to state?77% - How long does it take for mail to get arrive from washington state to maryland?84% - How long does it take \"standard mail\" to go from state to state?38% - How are out of state mail deliver long distance mail?68% - How long does nm take to mail state tax?79% - How long does it take to mail state to stare?58% - How long does u s priority mail take within same state?44% - How long d you have to live in the state of michigan before you are concidered a legal resident of that state?51% - How long withih same state priority mail?68% - About how long does it take for mail to go from michigan to washington state/?59% - How long will it take to receive mail in a differnt state? The following questions have been merged into this one. If you feel any of these questions have been included in error help us improve our content by splitting these questions into seperate discussions. Please unmerge any questions that are not the same as this one: How long does it take mail to arrive from state to state? How long does it take for mail to arrive in another state? -How long does it take for mail to arrive same state? -How long does it take for a letter to get from pensacola to kansas? How long does it take mail from columbia mo to get to westerly ri? How long does it take for a package to come from virginia to washington state? If i mailed something wednesday when will it arrive in des moines ia? How long does mail take from state to state? How long to get mail sent from arkansas to city of industry california? How long for standard mail from kansas city to montana? How long does it take to recive mail from kansas to florida? If you send mailed on saturday morning from toppenish wa to olympia wa when does it arrived? How long dos it take for a letter to come from kansas city to long island ny? If a letter was mailed to me from another state when will i recieve it? How long does it take to mail a letter from denver to des moines? How long for priority mail to arrive nc to nm? How many days does ut take a west virginia state tax check to get mailed? When will a letter arrive from houston texas if i mailed it wednesday to cullen loiusiana? How long does it take for a letter to get from kansas city missouri to san diego california? How long goes it takes for reguler mail to shipp from georgia to kansas? How long does it take to recieve mail from shelton wa to barre pa? How long should mail take to arrive from ca to md? How many days does it take for mail to arrive from georgia to indianapolis? How long does it take to recieve mail from denver colorodo to tupelo ms? How long mail fro california to washington? How long does it take to get from ladson sc to west virginia? How long does it take for a letter to get to kansas from virginia? How long does it take for letter to arrive to east rockaway ny from st petersberg fl? If i mail a letter in state on friday will it arrive on tuesday? How long should it take for mail to arrive from kansas? How many days does it take to get from nevada to pennsylvania? If i mail something in michigan on monday to a michigan address when will it arrive? How long to receive first class mail from washington d c to arkansas? If i sent a letter this morning from houston texas when will it arrive in vicksburg ms? If my card was mailed from copley ohio when would i receive it in melrose fl? How long does it take a package to get from lakeside arizona to port neches texas? '"
      ]
     },
     "metadata": {},
     "output_type": "display_data"
    }
   ],
   "source": [
    "titleAndBody(251898,99)"
   ]
  },
  {
   "attachments": {},
   "cell_type": "markdown",
   "id": "a6f133cb-33fc-4a44-b00a-dd5840bdcaeb",
   "metadata": {},
   "source": [
    "### 🚧 todo: try this with a few different queries to get a feel of the quality of the gold"
   ]
  },
  {
   "cell_type": "markdown",
   "id": "02e6d82b-f8f1-4f6c-bc85-5c6a886ae303",
   "metadata": {},
   "source": [
    "# doing our first baseline retrieval function\n",
    "\n",
    "- todo: \n",
    "    - build and fit a binary CountVectorizer on the **titles**\n",
    "    - play with and understand build_analyzer, build_tokenizer, and transform\n",
    "    - transform our query 111\n",
    "        - understand what happens with yet unseen words in the transform process\n",
    "    - find the docs with the most words in common\n",
    "    - write an evaluation function computing the top 10 precision p@10\n",
    "    - apply to our 500 queries\n"
   ]
  },
  {
   "cell_type": "code",
   "execution_count": 13,
   "id": "b2a9419e-a830-4cd4-a43a-173328fa9d48",
   "metadata": {},
   "outputs": [
    {
     "name": "stdout",
     "output_type": "stream",
     "text": [
      "we got 39559 features, for example ['sputtering' 'sputters' 'sputum' 'spy' 'spyware' 'sq']\n"
     ]
    }
   ],
   "source": [
    "vectorizer = CountVectorizer(binary=True)\n",
    "# understand the options: \n",
    "# https://scikit-learn.org/stable/modules/generated/sklearn.feature_extraction.text.CountVectorizer.html\n",
    "X = vectorizer.fit_transform(docs['title'])\n",
    "print('we got',len(vectorizer.get_feature_names_out()),'features, for example',vectorizer.get_feature_names_out()[33333:33339])"
   ]
  },
  {
   "cell_type": "code",
   "execution_count": 14,
   "id": "1753a230-993a-4545-b21f-aa05e56723e8",
   "metadata": {},
   "outputs": [
    {
     "data": {
      "text/plain": [
       "'how long does getting a doctorate take'"
      ]
     },
     "execution_count": 14,
     "metadata": {},
     "output_type": "execute_result"
    }
   ],
   "source": [
    "queries.loc[111].query"
   ]
  },
  {
   "cell_type": "code",
   "execution_count": 15,
   "id": "9b1dacd6-49c2-44e7-8271-62bc68cd6ecf",
   "metadata": {},
   "outputs": [
    {
     "data": {
      "text/plain": [
       "['how', 'long', 'does', 'getting', 'doctorate', 'take']"
      ]
     },
     "execution_count": 15,
     "metadata": {},
     "output_type": "execute_result"
    }
   ],
   "source": [
    "vectorizer.build_analyzer()(queries.loc[111].query)"
   ]
  },
  {
   "cell_type": "code",
   "execution_count": 16,
   "id": "a543574d-626e-4d60-9465-a89eca40896d",
   "metadata": {},
   "outputs": [
    {
     "data": {
      "text/plain": [
       "['how', 'long', 'does', 'getting', 'doctorate', 'take']"
      ]
     },
     "execution_count": 16,
     "metadata": {},
     "output_type": "execute_result"
    }
   ],
   "source": [
    "vectorizer.build_tokenizer()(queries.loc[111].query)"
   ]
  },
  {
   "cell_type": "code",
   "execution_count": 17,
   "id": "b2c79230-8787-4357-bd11-952451725a15",
   "metadata": {},
   "outputs": [
    {
     "data": {
      "text/plain": [
       "<Compressed Sparse Row sparse matrix of dtype 'int64'\n",
       "\twith 6 stored elements and shape (1, 39559)>"
      ]
     },
     "execution_count": 17,
     "metadata": {},
     "output_type": "execute_result"
    }
   ],
   "source": [
    "qv = vectorizer.transform([queries.loc[111].query])\n",
    "qv"
   ]
  },
  {
   "cell_type": "markdown",
   "id": "e30116df-0d90-4ca7-9111-e9a56e368f9b",
   "metadata": {},
   "source": [
    "### 🚧 todo:\n",
    "- understand what happens with yet unseen words in the transform process\n",
    "\n",
    "\n",
    "- think of the shape of X, what are the rows, what are the columns?\n",
    "- how to select the titles that have the words of our query?\n",
    "       - think of matrix multiplication and transposition"
   ]
  },
  {
   "cell_type": "code",
   "execution_count": 18,
   "id": "a4980c9b-340d-452f-9291-7c98fdbb29e7",
   "metadata": {},
   "outputs": [
    {
     "name": "stdout",
     "output_type": "stream",
     "text": [
      "<Compressed Sparse Row sparse matrix of dtype 'int64'\n",
      "\twith 6 stored elements and shape (1, 39559)>\n",
      "  Coords\tValues\n",
      "  (0, 11436)\t1\n",
      "  (0, 11455)\t1\n",
      "  (0, 15527)\t1\n",
      "  (0, 17619)\t1\n",
      "  (0, 21318)\t1\n",
      "  (0, 34651)\t1\n"
     ]
    }
   ],
   "source": [
    "xqv = vectorizer.transform([queries.loc[111].query])\n",
    "print(xqv)"
   ]
  },
  {
   "cell_type": "markdown",
   "id": "6fb69ccc-a0c1-4e22-a9c0-16acba58aa5c",
   "metadata": {},
   "source": [
    "### 🚧 todo: \n",
    "  - look at argmax and max, \n",
    "  - check the numpy \n",
    "      - flatnonzero function to find the best match\n",
    "      - the .A and the .flat functions\n",
    "  - show the best matching doc"
   ]
  },
  {
   "cell_type": "code",
   "execution_count": 19,
   "id": "26263922-fb98-421c-bcfd-66824fbfc510",
   "metadata": {},
   "outputs": [
    {
     "name": "stdout",
     "output_type": "stream",
     "text": [
      "Best match index: 11957, Score: 6\n",
      "Best match from flatnonzero: 11957\n",
      "Best match from flat: 11957, Score: 6\n",
      "\n",
      "Best matching document:\n",
      "Title: After getting my bachelors how long does it take to get a doctorate?\n",
      "Body: Education & Reference Higher Education (University +)After getting my bachelors how long does it take to get a doctorate? In my last year of my bachelors degree in psychology and I want to get a doctorate. But I have no idea how long it would take. And is it better to get a masters a doctorate? Follow 6 answers Answers Relevance Rating Newest Oldest Best Answer: It generally takes 2 years to complete a master's and after that I would say at least 3-4 to complete a Ph. D. although many doctorates take much longer than that: sometimes up to 6-8 years. Unless you're trying to get into a unique medical field, such as virology or epidemiology etc., or to work/teach at the college level, then a master's degree will suffice for the most part. In fact, some colleges employ professors who hold a Masters degree and don't have a doctorate. also fyi, for every 100 Ph. D.'s rewarded to a person, there are fewer than 10 collegiate job openings :). Hope that helped :)dvd_clapp · 10 years ago0 1 Comment Asker's rating Many universities allow BA/BS holders to matriculate directly into a doctoral program. Watch out though, some offer the Ph D, while others have the Psy D. The credential is different. The former is more theoretical and research oriented, while the latter is more clinical. I used to work at a college that had AAS and BA degrees. We enrolled students into the AAS, then graduated them and enrolled them into the BA. The AAS was not enough to get a job in the field. They got out of synch really fast. My story here is not for grad school, but honestly, the same principle applies. When you are considering ang graduate degree, take the time to really discuss your plans and goals with not only the admissions person, but the faculty and department chair. They wiill be able to guide you best. Good luck with your search for information. Anonymous · 10 years ago0 0 Comment It takes anywhere from four to eight years. I got mine in four years. You usually have two to three years of classes, a written exam after the second year (mine was two days long), an oral exam after the third year and then you write your dissertation. The dissertation is the big unknown. I wrote mine in two years, but I know people who took much longer. If you are doing clinical psychology, it could take longer, because you may need to do clinical training. Someone suggested getting a Master's first. I do not recommend this unless you can't get into a good program. The better schools do not accept terminal master's students. Source (s): University Professor Ranto · 10 years ago0 0 Comment I would recommend getting a Masters first, then doctorate. I have my Masters in Education and it took me less than two years. It was just a bunch of classes and a thesis. For a doctorate you have to have a research plan and more classes and tons of work and the Masters will really prepare you for the hard work that earning a doctorate entails. Good luck!Maddog Mommy · 10 years ago0 1 Comment It depends on so many things, like what your research is going to be on and how picky your advisors are. 4-6 years is about normal. Secondly, a doctorate is for people who want to be scholars and actively research for the rest of their careers. masters is less research oriented, and is better suited for people who want \"real world\" hands on experience rather than just doing academic research. Good luck. You could probably contact the schools that you are applying to and ask them how long thier students take on average to complete the degrees. Each school will be different. Anonymous · 10 years ago1 0 Commentnicely many outstanding minds will say that by way of fact there are extra human beings interior the rustic who've faith in an more suitable ability it is extra probable that individuals who have faith in God are maximum individuals in maximum categories. faith in God has no longer something to do with coaching or point of intelligence. It relies upon on the way you have been raised and assorted different information superhighway hosting aspects. Many knowledgeable human beings and individuals who're seen clever selection in religious and non secular ideals. Intelligence does not make a guy or woman question Gods existence, it is something it is residing interior the inquiring suggestions.kyllonen · 1 year ago0 0 Comment Maybe you would like to learn more about one of these? Need an electronic signature? Need Home Equity Loan Options? Looking for a new chandelier? Portfolio Management Options \n"
     ]
    }
   ],
   "source": [
    "scores = (X @ xqv.T)\n",
    "\n",
    "best_idx = scores.argmax()\n",
    "best_score = scores.max()\n",
    "print(f\"Best match index: {best_idx}, Score: {best_score}\")\n",
    "\n",
    "nonzero_indices = np.flatnonzero(scores.toarray())\n",
    "best_idx_flat = nonzero_indices[scores.toarray()[nonzero_indices].argmax()]\n",
    "print(f\"Best match from flatnonzero: {best_idx_flat}\")\n",
    "\n",
    "scores_dense = scores.toarray()\n",
    "max_score_flat = max(scores_dense.flat)\n",
    "best_idx_flat2 = np.argmax(scores_dense)\n",
    "print(f\"Best match from flat: {best_idx_flat2}, Score: {max_score_flat}\")\n",
    "\n",
    "best_doc = docs.loc[best_idx]\n",
    "print(\"\\nBest matching document:\")\n",
    "print(f\"Title: {best_doc['title']}\")\n",
    "print(f\"Body: {best_doc['body']}\")"
   ]
  },
  {
   "cell_type": "markdown",
   "id": "36f56fd4-49e6-4c94-a11e-119556a0b52f",
   "metadata": {},
   "source": [
    "### 🚧 todo: use argpartition to get the 10 best answers"
   ]
  },
  {
   "cell_type": "code",
   "execution_count": 20,
   "id": "07b4ee59-7084-43ac-aabd-bd813b45f6aa",
   "metadata": {},
   "outputs": [
    {
     "name": "stdout",
     "output_type": "stream",
     "text": [
      "Top 10 matching document indices: [11957 43190 91275  3686 66313 83787 61592 71472 25854 25818]\n",
      "Their scores: [6 5 5 5 5 5 4 4 4 4]\n",
      "\n",
      "Top 10 matching documents:\n",
      "Index: 11957, Score: 6\n",
      "Title: After getting my bachelors how long does it take to get a doctorate?\n",
      "Body: Education & Reference Higher Education (University +)After getting my bachelors how long does it tak...\n",
      "\n",
      "Index: 43190, Score: 5\n",
      "Title: Holidays By Country Â»Holidays By Religion Â»Other Events Â»Calendar Builder Email Reminders12 Popular NowNational Pizza Day 2017The Masters 2016Marine Corps Marathon 2016PAX Prime 2016Ash Wednesday 2016National Boyfriend Day 2016Teacher Appreciation Week 2016DragonCon 2016Comic Con 2016Winter Solstice 2016Daytona 500 2016Chinese New Year 2016Ramadan 2016Columbus Day 2016Oktoberfest 2016Stagecoach Festival 2016Electric Daisy Carnival 2016Summer Solstice 2016Victoria Day 2016Thanksgiving 2016Memorial Day 2016Labor Day 2016Election Day 2016Independence Day 2016Coachella 2016Christmas 2016Daylight Savings 2016SXSW 2016Home > Important Days > Daylight Savings > Daylight Savings 2014When is Daylight Savings in 2014?Spring Forward: The clocks are set ahead one hour during Spring Forward. In 2014, this occurs on Sunday, March 9th.Fall Back: The clocks are set back one hour during Fall Back. In 2014, this occurs on Sunday, November 2nd.What is Daylight Savings?Daylight Savings Time, or DST, in 2014 begins on the second Sunday of March and ends on the first Sunday of November. In March, clocks are moved forward one hour from 2am standard time to 3am DST, and in November, clocks are moved back one hour from 2am DST to 1am standard time. The phrase \"spring forward, fall back\" is a helpful reminder of these time changes.12 Calendar BuilderFULL YEARMONTHAmerican HolidaysAustralian HolidaysCanadian HolidaysChinese HolidaysUK HolidaysBuddhist HolidaysChristian HolidaysHindu HolidaysJewish HolidaysMuslim HolidaysIndian HolidaysGerman HolidaysNew Zealand HolidaysMalaysia HolidaysFrench HolidaysMexican HolidaysEmail RemindersAmerican HolidaysAustralian HolidaysCanadian HolidaysChinese HolidaysUK HolidaysBuddhist HolidaysChristian HolidaysHindu HolidaysJewish HolidaysMuslim HolidaysIndian HolidaysGerman HolidaysNew Zealand HolidaysMalaysia HolidaysFrench HolidaysMexican HolidaysWhen are other Important Days in 2014?Christmas In July 2014Half Christmas 2014Daylight Savings 2014Earth Day 2014New Years 2014Arbor Day 2014World Water Day 2014Summer Solstice 2014Full Moon 2014National Ugly Christmas Sweater Day 2014Winter Solstice 2014International Talk Like A Pirate Day 2014International Bacon Day 2014World Water Day 2014Harvest Moon 2014Blood Moon 2014National Grandparents Day 2014National Dog Day 2014Folsom Street Fair 2014National Day of Prayer 2014Boss' Day 2014National Cat Day 2014National Boyfriend Day 2014Sweetest Day 2014Constitution Day 2014Son and Daughter Day 2014Nobel Prizes 2014International Beer Day 2014London Fashion Week 2014New York Fashion Week 2014Victoria's Secret Fashion Show 201412 What Do You Think About Daylight Savings 2014?Nickname:*Kizin says: November 6, 2014In Arizona, we don't recognize Daylight Savings Time...just like we don't recognize the entire US Constitution. You see, in Arizona, we don't even want time to change at all. It would be best if the Confederates had won the war.Anonymous1207 says: November 2, 2014I disagree with all of you. Daylight savings time has been in this country since Benjamin Franklin and is in an odd way, a historical monument to his life and the things he did for the country. If we do away with this, what else from that time era, or even before then, do you think the government will try to do away with?? There is no \"more perfect union\" to be found in we, the people of today. You're all to busy complaining about your lives and how inconvinient one simple adjustment is twice a year -.- I used to be proud to be an American. Then I realized how many others have lost their own sense of national pride. Shooting fire works once a year doesn't make you a patriot. And complaining about an idea brought upon by one of our founding fathers, an idea that -whether you realize it or not - has played a role in shaping our history seems more of a government ploy of today to try to erase our history from our youth so we no longer question them. Never before in the history of the United States of America have the people let the government get away with so much. And now you all are playing right into their hands. Good job, America. Good job -.-farmery#1 says: October 29, 2014Farmers don't care what time it is; we don't work in an office. Get up with the sun.Eryk says: October 26, 2014I believe that DST is pointless. It is an idea whose time has come and gone. Shifting the clocks doesn't save anything. All it does is disrupt everyone's life twice a year. People, farmers included, are quite capable of adjusting their schedules as needed without any help from the government. Standard time year round would work just fine for me.Realfarmer says: October 24, 2014They didn't start dst for farmers, we get up with the sun and work way after dark so don't blame us.Beth Garrett says: October 20, 2014I think we should NOT have daylight savings time. I think there are problems for school children and for drivers who don't get enough sleep when the change is made in the spring. Also, when daylight is later in the evening, it is hard for people to get settled down and get to bed - especially school children. I don't think the savings warrant it.Maggie May says: October 19, 2014Just change it permanently thirty minutes...then you can be thirty minutes glad or thirty minutes sad if we can't stay on Standard Time.Nursey says: October 5, 2014I work with people who don't understand time. It is hard to adjust their meals, bedtimes etc. I don't care which way they go just don't change my clock twice a year!!GADAVE says: October 2, 2014Enough already....time to do away with DST.Rumpus says: September 28, 2014Get rid of DST, keep standard time. DST is just another way of trying to fool oneself that by doing so we are saving something. When lies are repeated over and over again then it will be accepted as truth. Do we want to make this \"The American Way\"?Grammy says: September 22, 2014It is no longer necessary we should split the time in half, turn the clocks back 1/2 hour in nov and then never have to change them again!! I lived in Arizona for 6 years we did not change the clocks! I do not like having my kids go to school in the dark nor do I like them coming home in the dark there are to many crazies out there, the 1/2 hour (then never change again) would remedy some of the problem as it would be light both in the morning and the evening!instead of pitch black at one or the other due to time changes!farmerkings says: September 19, 2014Yes it is for farming that's why we have itmvm says: September 18, 2014It is outdated, and unnecessary... keep the time the same all year long.Savannah says: September 4, 2014I din't like it. It is not logical and should be done away with. i agree with a previous comment about changing our lives and not the clocks, but I also don't understand why we don't just add an extra two hours to our work days and have three day weekends, an extra two hours is nothing compared to having to drag out of bed, get dressed, take children to daycafre, fight morning traffic just because we are stuck in the 18th century. It's the 21st century and progress is nowhere to be seen.Stick with Standard says: August 25, 2014Daylight Saving Time is ridiculous. It's an outdated, unnecessary tribute to government meddling in yet another part of our lives. Nobody should be 'forced' to adjust sleep or work habits to adapt twice a year to an archaic tradition. Leave it on Standard and leave it alone.Bumpus says: July 24, 2014I LOVE spring forward but HATE fall back. I guess you can't have one without the other, though.Finnoah says: May 26, 2014I live in Arizona so this doesn't affect me except that my parents live on the East coast and during the summer months as I'm getting off work, they're going to bed so sometimes I catch them sleep talking to me. (:Rainesy. says: April 4, 2014I HATE IT, NORMAL PEOPLE LIKE NORMAL TIME.Azriel says: March 9, 2014Hate it. It does nothing good for the people and only screws up their biological clock and also more people are fired for being late to work during this time period.In Arizona, they do not do the daylight savings time switch. Smart move I say. Too bad for the rest of us.wakeup says: March 9, 2014Society as a whole saves a lot with daylight savings. A city, county, state, nation saves enormous amounts in electricity costs in the morning and at night. Stop complaining and be more adaptable. It's the key to survival.hatesdst says: March 9, 2014I hate DST. Why can't the will of US citizens determine if we have DST.Brombsby says: March 7, 2014Just to be clear it is not \"Savings\" but \"Saving\". \"Savings\" is what you get at your local grocery store!HAMBONE says: March 7, 2014SILLY I LIKE SUNPet lover says: March 7, 2014I believe it is for farming purposes#Mickey Mouse says: March 7, 2014I don't like it!!!!!!!!!!!!!!!!!!!!!!!!!!!!!!!!!!!!!!!!!!!!!!!!!!!!!!!hmm says: March 6, 2014We set up one hour on Saturday at 2 am rightjojo says: March 5, 2014yes i'm with jimntherock move 30 min then leave it aloneret4lif says: March 5, 2014I absolute hate it. Its like being in jet lag for 9 months. It takes me several months to get kinda adjusted to DST. Study's show that it doesn't accomplish anything least of all energy usage. I still turn my lights on at about the same time even in DST. So where is the savings. I would like to just go to normal time and stay there. We would save so much in lost productivity, health, and probably energy.Lisa says: March 3, 2014Love iteab says: March 2, 2014Just pick one and leave it alone!Amieux says: March 1, 2014Why can't we just leave the clocks on Standard Time and adjust our lives accordingly? Changing the clocks is an idea that has seen it's day. Time for a change, America!!!!!!!!!!!! Let's Standardize!!!!!!peaceful says: February 26, 2014I think it is a bad idea, just leave the time the same all year we have enough disturbances to deal with and now they are starting earlier and ending later...do not like it at alltired says: February 25, 2014Like the old Indian said \"only the government would think that by cutting one foot off a blanket and sewing it on the other end that you'd get a longer blanket\". How true.mndy says: February 25, 2014It is bad for the health, I detest it. It should be brought back like years ago when we had to vote for it.Canada says: February 25, 2014need to leave DS alone. no more changing clocks it bothersome and annoyingdeb says: February 24, 2014It is to give us daylight later in the summer. Does it really benefit anyone?? Kids have to go to bed in the daylight. Farmers still have the same hours of light. Probably not much benefit to anyone.Woody says: February 24, 2014Leave the clocks on daylight savings time all year around, don't fall back for the winter, it is better to stay light as long a possible throughout the whole year.Moderntimesdoesn't needthis. says: February 15, 2014I moved to Indiana for my four years of college - and there was no changing of the clocks. I loved it! It made so much sense and was so easy. Then I moved back to the East coast. Daylight savings in just wrong.Marty says: February 8, 2014I see absolutely no reason for having to change the clock twice a year. No one gains a thing.ms.angelize says: January 3, 2014JUST LET IT BE!!!! Would Love for the sun to still be up when you get off work, it is rejuvenating !!! Please leave the time alone...Darla says: December 19, 2013I got in car accident because of it . Loosing an hrs makes a huge difference. It takes me weeks to ajust. Its stupid and it suckstoofoo says: November 2, 2013I don't know too many fans of daylight savings. I vote that we abolish it and stay on the same time year around.Texasgardner says: October 31, 2013I love daylight saving time, even as a retired person. On standard time, it is dark by 6:00 p.m. and you feel like it's time to go to bed. It makes it more difficult to go shopping in the dark. I feel safer going to stores during the daylight hours. I wish Texas would stay on daylight saving time year round. In south Texas, we have very few days that are cold and it's great to have those extra evening hours to be out. I think I'm going to leave my clocks on daylight saving time this winter and just subtract one hour when looking at them. I don't go to that many places with a set time anyway.jimntherock says: October 5, 2013I wish we could just settle for a 30 minute adjustment one time and forget it from there.DrivesMeNuts says: October 4, 2013DST is not only unnecessary, it reaks havoc on health, and is also costly when you analyze it. It should be stopped; who is making money off of it so as to keep saying we must have it?Yoda says: October 1, 2013Matters, it does not, early or late... Golfer seeks evening sun, he does... Upon early light, others depend... Golfer, selfish he is...  An equilibrium benefits both, in compromise... Like the Force, overwhelming one cannot be...Golfer needs daylight in winter says: September 8, 2013I wish we could leave the time alone. Set it to where it never gets dark before 7:00 in the winter which would be leave it like it is now. Never fall back. Then leave it alone.. The only reason we do this is for daylight in the morning. We do not need daylight in the morning, we are just going to school or work what does it matter if it don't get light out until 8 or 9 am.LadyDi says: March 3, 2013Absolutely ridiculous! My body clock is much harder to reset than my digital clocks. Why can't we just leave the clocks alone? If people want a different summer schedule, change your work hours.\n",
      "Body: Home > Important Days > Daylight Savings > Daylight Savings 2014When is Daylight Savings in 2014? Sp...\n",
      "\n",
      "Index: 91275, Score: 5\n",
      "Title: How Long Does It Take to Get a Doctorate in English?\n",
      "Body: Home » College How Long Does It Take to Get a Doctorate in English? By Tom King The Short Answer Whi...\n",
      "\n",
      "Index: 3686, Score: 5\n",
      "Title: After getting a flu shot how long does it take to develop antibodies agaist the flu?\n",
      "Body: Celticballa568 19 Contributions After getting a flu shot how long does it take to develop antibodies...\n",
      "\n",
      "Index: 66313, Score: 5\n",
      "Title: How long does it take to finish a doctorate?\n",
      "Body: Education & Reference Higher Education (University +)How long does it take to finish a doctorate?gen...\n",
      "\n",
      "Index: 83787, Score: 5\n",
      "Title: How long does it take to get a Doctorate of Nursing Practice DNP?\n",
      "Body: Answers.com ® Wiki Answers ® Categories Jobs & Education Education Academic Majors How long does it ...\n",
      "\n",
      "Index: 61592, Score: 4\n",
      "Title: How Long Does It Take to Unsuspend a License After Failure to Appear\n",
      "Body: Page 1 of 6 1 2 3 ... Last Results 1 to 10 of 51How Long Does It Take to Unsuspend a License After F...\n",
      "\n",
      "Index: 71472, Score: 4\n",
      "Title: How long does it take for bone to mature?\n",
      "Body: How long does it take for bone to mature? Bone maturing can depend on a range of things. It could be...\n",
      "\n",
      "Index: 25854, Score: 4\n",
      "Title: How long does an immigration application take to process from time submitted to swearing in for citizenship\n",
      "Body: Q&AAsked in Indianapolis, IN | October 10, 2008 Save How long does an immigration application take t...\n",
      "\n",
      "Index: 25818, Score: 4\n",
      "Title: How Long Does It Take for Opiates to Leave Your System?\n",
      "Body: How Long Does It Take for Opiates to Leave Your System? It’s a question that anyone considering trea...\n",
      "\n"
     ]
    }
   ],
   "source": [
    "scores = (X @ xqv.T)\n",
    "scores_dense = scores.toarray().flatten()\n",
    "\n",
    "pred10i = np.argpartition(scores_dense, -10)[-10:]\n",
    "pred10i = pred10i[np.argsort(scores_dense[pred10i])[::-1]]\n",
    "\n",
    "print(\"Top 10 matching document indices:\", pred10i)\n",
    "print(\"Their scores:\", scores_dense[pred10i])\n",
    "\n",
    "print(\"\\nTop 10 matching documents:\")\n",
    "for idx in pred10i:\n",
    "    doc = docs.loc[idx]\n",
    "    print(f\"Index: {idx}, Score: {scores_dense[idx]}\")\n",
    "    print(f\"Title: {doc['title']}\")\n",
    "    print(f\"Body: {doc['body'][:100]}...\")\n",
    "    print()"
   ]
  },
  {
   "cell_type": "code",
   "execution_count": 21,
   "id": "6ef515f4-8e50-490a-912b-df737d740a96",
   "metadata": {},
   "outputs": [
    {
     "data": {
      "text/html": [
       "<div>\n",
       "<style scoped>\n",
       "    .dataframe tbody tr th:only-of-type {\n",
       "        vertical-align: middle;\n",
       "    }\n",
       "\n",
       "    .dataframe tbody tr th {\n",
       "        vertical-align: top;\n",
       "    }\n",
       "\n",
       "    .dataframe thead th {\n",
       "        text-align: right;\n",
       "    }\n",
       "</style>\n",
       "<table border=\"1\" class=\"dataframe\">\n",
       "  <thead>\n",
       "    <tr style=\"text-align: right;\">\n",
       "      <th></th>\n",
       "      <th>docid</th>\n",
       "      <th>title</th>\n",
       "      <th>body</th>\n",
       "    </tr>\n",
       "  </thead>\n",
       "  <tbody>\n",
       "    <tr>\n",
       "      <th>11957</th>\n",
       "      <td>D2408424</td>\n",
       "      <td>After getting my bachelors how long does it ta...</td>\n",
       "      <td>Education &amp; Reference Higher Education (Univer...</td>\n",
       "    </tr>\n",
       "    <tr>\n",
       "      <th>43190</th>\n",
       "      <td>D700799</td>\n",
       "      <td>Holidays By Country Â»Holidays By Religion Â»O...</td>\n",
       "      <td>Home &gt; Important Days &gt; Daylight Savings &gt; Day...</td>\n",
       "    </tr>\n",
       "    <tr>\n",
       "      <th>91275</th>\n",
       "      <td>D3090762</td>\n",
       "      <td>How Long Does It Take to Get a Doctorate in En...</td>\n",
       "      <td>Home » College How Long Does It Take to Get a ...</td>\n",
       "    </tr>\n",
       "    <tr>\n",
       "      <th>3686</th>\n",
       "      <td>D2111066</td>\n",
       "      <td>After getting a flu shot how long does it take...</td>\n",
       "      <td>Celticballa568 19 Contributions After getting ...</td>\n",
       "    </tr>\n",
       "    <tr>\n",
       "      <th>66313</th>\n",
       "      <td>D2956542</td>\n",
       "      <td>How long does it take to finish a doctorate?</td>\n",
       "      <td>Education &amp; Reference Higher Education (Univer...</td>\n",
       "    </tr>\n",
       "    <tr>\n",
       "      <th>83787</th>\n",
       "      <td>D1951655</td>\n",
       "      <td>How long does it take to get a Doctorate of Nu...</td>\n",
       "      <td>Answers.com ® Wiki Answers ® Categories Jobs &amp;...</td>\n",
       "    </tr>\n",
       "    <tr>\n",
       "      <th>61592</th>\n",
       "      <td>D1591998</td>\n",
       "      <td>How Long Does It Take to Unsuspend a License A...</td>\n",
       "      <td>Page 1 of 6 1 2 3 ... Last Results 1 to 10 of ...</td>\n",
       "    </tr>\n",
       "    <tr>\n",
       "      <th>71472</th>\n",
       "      <td>D742857</td>\n",
       "      <td>How long does it take for bone to mature?</td>\n",
       "      <td>How long does it take for bone to mature? Bone...</td>\n",
       "    </tr>\n",
       "    <tr>\n",
       "      <th>25854</th>\n",
       "      <td>D2628339</td>\n",
       "      <td>How long does an immigration application take ...</td>\n",
       "      <td>Q&amp;AAsked in Indianapolis, IN | October 10, 200...</td>\n",
       "    </tr>\n",
       "    <tr>\n",
       "      <th>25818</th>\n",
       "      <td>D999043</td>\n",
       "      <td>How Long Does It Take for Opiates to Leave You...</td>\n",
       "      <td>How Long Does It Take for Opiates to Leave You...</td>\n",
       "    </tr>\n",
       "  </tbody>\n",
       "</table>\n",
       "</div>"
      ],
      "text/plain": [
       "          docid                                              title  \\\n",
       "11957  D2408424  After getting my bachelors how long does it ta...   \n",
       "43190   D700799  Holidays By Country Â»Holidays By Religion Â»O...   \n",
       "91275  D3090762  How Long Does It Take to Get a Doctorate in En...   \n",
       "3686   D2111066  After getting a flu shot how long does it take...   \n",
       "66313  D2956542       How long does it take to finish a doctorate?   \n",
       "83787  D1951655  How long does it take to get a Doctorate of Nu...   \n",
       "61592  D1591998  How Long Does It Take to Unsuspend a License A...   \n",
       "71472   D742857          How long does it take for bone to mature?   \n",
       "25854  D2628339  How long does an immigration application take ...   \n",
       "25818   D999043  How Long Does It Take for Opiates to Leave You...   \n",
       "\n",
       "                                                    body  \n",
       "11957  Education & Reference Higher Education (Univer...  \n",
       "43190  Home > Important Days > Daylight Savings > Day...  \n",
       "91275  Home » College How Long Does It Take to Get a ...  \n",
       "3686   Celticballa568 19 Contributions After getting ...  \n",
       "66313  Education & Reference Higher Education (Univer...  \n",
       "83787  Answers.com ® Wiki Answers ® Categories Jobs &...  \n",
       "61592  Page 1 of 6 1 2 3 ... Last Results 1 to 10 of ...  \n",
       "71472  How long does it take for bone to mature? Bone...  \n",
       "25854  Q&AAsked in Indianapolis, IN | October 10, 200...  \n",
       "25818  How Long Does It Take for Opiates to Leave You...  "
      ]
     },
     "execution_count": 21,
     "metadata": {},
     "output_type": "execute_result"
    }
   ],
   "source": [
    "docs.loc[pred10i]"
   ]
  },
  {
   "cell_type": "code",
   "execution_count": 22,
   "id": "40f071cb-224f-4c77-9811-31e7be389ca8",
   "metadata": {},
   "outputs": [
    {
     "data": {
      "text/plain": [
       "11957    D2408424\n",
       "43190     D700799\n",
       "91275    D3090762\n",
       "3686     D2111066\n",
       "66313    D2956542\n",
       "83787    D1951655\n",
       "61592    D1591998\n",
       "71472     D742857\n",
       "25854    D2628339\n",
       "25818     D999043\n",
       "Name: docid, dtype: object"
      ]
     },
     "execution_count": 22,
     "metadata": {},
     "output_type": "execute_result"
    }
   ],
   "source": [
    "docs.loc[pred10i].docid"
   ]
  },
  {
   "cell_type": "code",
   "execution_count": 23,
   "id": "626f69aa-157f-44f9-bca0-9c03b3855a66",
   "metadata": {},
   "outputs": [
    {
     "data": {
      "text/plain": [
       "36200    D2865964\n",
       "36201    D3557816\n",
       "36202    D2723985\n",
       "36203    D1951655\n",
       "36204    D1709749\n",
       "           ...   \n",
       "36295    D2531901\n",
       "36296    D2956542\n",
       "36297     D301873\n",
       "36298    D2952336\n",
       "36299    D1805809\n",
       "Name: docid, Length: 100, dtype: object"
      ]
     },
     "execution_count": 23,
     "metadata": {},
     "output_type": "execute_result"
    }
   ],
   "source": [
    "gold[gold.qid==251898].docid"
   ]
  },
  {
   "cell_type": "markdown",
   "id": "39524ba6-1176-49b1-9e40-afd1a2b5e1bd",
   "metadata": {},
   "source": [
    "### 🚧 todo:\n",
    "- find the relevant documents that are in our top 10\n",
    "- user intersect1d\n",
    "- compute the precision p@10"
   ]
  },
  {
   "cell_type": "code",
   "execution_count": 24,
   "id": "667c20bf-9a1f-4159-af18-83bb2a81d965",
   "metadata": {},
   "outputs": [
    {
     "name": "stdout",
     "output_type": "stream",
     "text": [
      "Intersection (matching docids): ['D1951655']\n"
     ]
    }
   ],
   "source": [
    "gold_docs = gold[gold['qid'] == 251898]['docid'].values[:10]\n",
    "pred_docs = docs['docid'].iloc[pred10i].values\n",
    "\n",
    "intersection = np.intersect1d(pred_docs, gold_docs)\n",
    "print(\"Intersection (matching docids):\", intersection)"
   ]
  },
  {
   "cell_type": "code",
   "execution_count": 25,
   "id": "12a703c3-4de5-454d-8969-7b20ecbffe15",
   "metadata": {},
   "outputs": [
    {
     "name": "stdout",
     "output_type": "stream",
     "text": [
      "Precision@10: 0.1\n"
     ]
    }
   ],
   "source": [
    "precision = len(intersection) / 10\n",
    "print(\"Precision@10:\", precision)"
   ]
  },
  {
   "cell_type": "code",
   "execution_count": 26,
   "id": "337a5e25",
   "metadata": {},
   "outputs": [
    {
     "name": "stdout",
     "output_type": "stream",
     "text": [
      "\n",
      "Details:\n",
      "Predicted top 10 docids: ['D2408424' 'D700799' 'D3090762' 'D2111066' 'D2956542' 'D1951655'\n",
      " 'D1591998' 'D742857' 'D2628339' 'D999043']\n",
      "Gold top 10 docids: ['D2865964' 'D3557816' 'D2723985' 'D1951655' 'D1709749' 'D743788'\n",
      " 'D1356721' 'D1736725' 'D46911' 'D2363020']\n",
      "Number of matches: 1\n"
     ]
    }
   ],
   "source": [
    "print(\"\\nDetails:\")\n",
    "print(f\"Predicted top 10 docids: {pred_docs}\")\n",
    "print(f\"Gold top 10 docids: {gold_docs}\")\n",
    "print(f\"Number of matches: {len(intersection)}\")"
   ]
  },
  {
   "cell_type": "code",
   "execution_count": 27,
   "id": "b9fb0873-3a0d-4025-8992-88a190f69668",
   "metadata": {},
   "outputs": [
    {
     "name": "stdout",
     "output_type": "stream",
     "text": [
      "0.1\n"
     ]
    }
   ],
   "source": [
    "def pAt10(qid):\n",
    "    query = queries[queries['qid'] == qid]['query'].values[0]\n",
    "    query_vec = vectorizer.transform([query])\n",
    "    \n",
    "    scores = (X @ query_vec.T).toarray().flatten()\n",
    "    pred10i = np.argpartition(scores, -10)[-10:]\n",
    "    pred10i = pred10i[np.argsort(scores[pred10i])[::-1]]\n",
    "    \n",
    "    pred_docs = docs['docid'].iloc[pred10i].values\n",
    "    gold_docs = gold[gold['qid'] == qid]['docid'].values[:10]\n",
    "    \n",
    "    intersection = np.intersect1d(pred_docs, gold_docs)\n",
    "    precision = len(intersection) / 10\n",
    "    \n",
    "    return precision\n",
    "\n",
    "print(pAt10(251898))"
   ]
  },
  {
   "cell_type": "markdown",
   "id": "23227936-0403-49ec-8231-c273a628809c",
   "metadata": {},
   "source": [
    "### 🚧 todo:\n",
    "- take our 500 training queries qid\n",
    "- apply our function\n",
    "- compute the average"
   ]
  },
  {
   "cell_type": "code",
   "execution_count": 28,
   "id": "93540efe-a6aa-4e1b-9f18-cb1635c78480",
   "metadata": {},
   "outputs": [
    {
     "data": {
      "text/plain": [
       "0      687888\n",
       "1      480210\n",
       "2      591004\n",
       "3      260536\n",
       "4       39422\n",
       "        ...  \n",
       "495    133970\n",
       "496     79788\n",
       "497    791583\n",
       "498    732078\n",
       "499    197098\n",
       "Name: qid, Length: 500, dtype: int64"
      ]
     },
     "execution_count": 28,
     "metadata": {},
     "output_type": "execute_result"
    }
   ],
   "source": [
    "training_queries.qid"
   ]
  },
  {
   "cell_type": "code",
   "execution_count": 29,
   "id": "154d615f-6e62-43d6-aba9-88ec14d77b8f",
   "metadata": {},
   "outputs": [
    {
     "data": {
      "text/plain": [
       "0      0.0\n",
       "1      0.2\n",
       "2      0.0\n",
       "3      0.3\n",
       "4      0.2\n",
       "      ... \n",
       "495    0.2\n",
       "496    0.0\n",
       "497    0.0\n",
       "498    0.1\n",
       "499    0.1\n",
       "Name: qid, Length: 500, dtype: float64"
      ]
     },
     "execution_count": 29,
     "metadata": {},
     "output_type": "execute_result"
    }
   ],
   "source": [
    "p10_scores = training_queries.qid.apply(pAt10)\n",
    "p10_scores"
   ]
  },
  {
   "cell_type": "code",
   "execution_count": 30,
   "id": "0a29b6aa-a19b-4700-8fef-eb5d2e82ac28",
   "metadata": {},
   "outputs": [
    {
     "data": {
      "text/plain": [
       "np.float64(0.0906)"
      ]
     },
     "execution_count": 30,
     "metadata": {},
     "output_type": "execute_result"
    }
   ],
   "source": [
    "p10_scores.mean()"
   ]
  },
  {
   "cell_type": "markdown",
   "id": "f3a482be-d400-4c9b-a122-3f9c62c2f365",
   "metadata": {},
   "source": [
    "- that looks like a baseline we can beat :)\n",
    "- what's the query we are doing best in?\n",
    "    - max?"
   ]
  },
  {
   "cell_type": "markdown",
   "id": "6c2189f3",
   "metadata": {},
   "source": [
    "### 🚧 todo:\n",
    "- understand what happens with yet unseen words in the transform process\n",
    "\n",
    "\n",
    "- think of the shape of X, what are the rows, what are the columns?\n",
    "- how to select the titles that have the words of our query?\n",
    "       - think of matrix multiplication and transposition"
   ]
  },
  {
   "cell_type": "code",
   "execution_count": 31,
   "id": "25e9a7d0-c44b-4b9f-b9ec-52d6422b269b",
   "metadata": {},
   "outputs": [
    {
     "name": "stdout",
     "output_type": "stream",
     "text": [
      "Best P@10: 0.7\n",
      "Query ID: 735952\n",
      "Query text: what is crispr\n"
     ]
    }
   ],
   "source": [
    "best_p10 = p10_scores.max()\n",
    "best_qid_idx = p10_scores.idxmax()\n",
    "best_qid = training_queries['qid'].loc[best_qid_idx]\n",
    "best_query = training_queries['query'].loc[best_qid_idx]\n",
    "\n",
    "print(f\"Best P@10: {best_p10}\")\n",
    "print(f\"Query ID: {best_qid}\")\n",
    "print(f\"Query text: {best_query}\")"
   ]
  },
  {
   "cell_type": "markdown",
   "id": "baaca9c0-a7e1-46b5-9dc2-91eab2bf3b3d",
   "metadata": {},
   "source": [
    "- oh, we have just been lucky before..."
   ]
  },
  {
   "cell_type": "markdown",
   "id": "72e2f986-f3f9-4b90-b8a8-31b1250531b7",
   "metadata": {},
   "source": [
    "## 🚧 todo:\n",
    "\n",
    "- redo the vectorization and evaluation on the whole text, not only the titles\n",
    "- try the non-binary CountVectorizer\n",
    "- go for tf-idf\n",
    "    - play with at least two options and re-evaluate\n",
    "- find other improvements. these may include:\n",
    "    - cleaning the text\n",
    "    - heuristically combining title and body matches\n",
    "    - looking at bigrams\n",
    "    - looking at terms (by means of a clean multi-word term list from wikipedia, see notebook 1)\n",
    "    - by removing stopwords (look at nltk or spacy to do that)\n",
    "    - trying an implementation of bm25 (slow with standard implementation, see last cell if you want to do it)\n",
    "  \n",
    "- do a grid search with a few promising parameters\n",
    "    - maybe get inspired by GridSearchCV and pipelines in https://scikit-learn.org/stable/auto_examples/model_selection/grid_search_text_feature_extraction.html#sphx-glr-auto-examples-model-selection-grid-search-text-feature-extraction-py\n",
    "        - you can also check the weel-written section \"Pipelines\" in this book: https://www.oreilly.com/library/view/applied-text-analysis/9781491963036/ch04.html\n",
    "    - make a nice visualization of the results\n",
    "    \n",
    "- interpret the complete results in 3 to 5 sentences.\n",
    "    - what strategy would do best if we switch our evaluation to p@100?\n",
    "\n",
    "- give some ideas for improving the results\n",
    "\n",
    "\n",
    "\n"
   ]
  },
  {
   "cell_type": "code",
   "execution_count": 32,
   "id": "39502d86-c7a8-4468-95b5-c0fe2e6c8db6",
   "metadata": {},
   "outputs": [],
   "source": [
    "from sklearn.pipeline import Pipeline\n",
    "from sklearn.model_selection import GridSearchCV\n",
    "from sklearn.feature_extraction.text import TfidfVectorizer\n",
    "\n",
    "# Function for leaning text\n",
    "# remove words with numbers inside\n",
    "# replace new lines by space\n",
    "# remove urls\n",
    "# only keep ascii words\n",
    "def clean_text(text):\n",
    "    text = re.sub(r'\\w*\\d+\\w*', '', text)  # Remove words with numbers\n",
    "    text = text.replace('\\n', ' ')         # Replace newlines with space\n",
    "    text = re.sub(r'http\\S+|www\\S+|https\\S+', '', text, flags=re.MULTILINE)  # Remove URLs\n",
    "    text = re.sub(r'[^\\x00-\\x7F]+', '', text)  # Keep only ASCII\n",
    "    return text\n",
    " \n",
    "docs['cleaned'] = docs['body'].apply(clean_text)\n",
    "docs['full_text'] = docs['title'] + ' ' + docs['cleaned']"
   ]
  },
  {
   "cell_type": "code",
   "execution_count": 33,
   "id": "6425ea49",
   "metadata": {},
   "outputs": [],
   "source": [
    "def pAt10(qid, vectorizer, X):\n",
    "    query = queries[queries['qid'] == qid]['query'].values[0]\n",
    "    query_vec = vectorizer.transform([query])\n",
    "    scores = (X @ query_vec.T).toarray().flatten()\n",
    "    pred10i = np.argpartition(scores, -10)[-10:]\n",
    "    pred10i = pred10i[np.argsort(scores[pred10i])[::-1]]\n",
    "    pred_docs = docs['docid'].iloc[pred10i].values\n",
    "    gold_docs = gold[gold['qid'] == qid]['docid'].values[:10]\n",
    "    intersection = np.intersect1d(pred_docs, gold_docs)\n",
    "    return len(intersection) / 10"
   ]
  },
  {
   "cell_type": "code",
   "execution_count": 45,
   "id": "27860fd3",
   "metadata": {},
   "outputs": [
    {
     "name": "stdout",
     "output_type": "stream",
     "text": [
      "Average P@10 (CountVectorizer, full text, non-binary): 0.009800000000000001\n"
     ]
    }
   ],
   "source": [
    "vectorizer_count = CountVectorizer(binary=False)\n",
    "X_count = vectorizer_count.fit_transform(docs['full_text'])\n",
    "p10_count = training_queries['qid'].apply(lambda x: pAt10(x, vectorizer_count, X_count)).mean()\n",
    "print(f\"Average P@10 (CountVectorizer, full text, non-binary): {p10_count}\")"
   ]
  },
  {
   "cell_type": "code",
   "execution_count": 48,
   "id": "369e905c-36cd-45c2-817b-4d9c24724be3",
   "metadata": {},
   "outputs": [
    {
     "name": "stdout",
     "output_type": "stream",
     "text": [
      "Average P@10 (TF-IDF basic): 0.289\n"
     ]
    }
   ],
   "source": [
    "vectorizer_tfidf1 = TfidfVectorizer()\n",
    "X_tfidf1 = vectorizer_tfidf1.fit_transform(docs['full_text'])\n",
    "p10_tfidf1 = training_queries['qid'].apply(lambda x: pAt10(x, vectorizer_tfidf1, X_tfidf1)).mean()\n",
    "print(f\"Average P@10 (TF-IDF basic): {p10_tfidf1}\")"
   ]
  },
  {
   "cell_type": "code",
   "execution_count": 49,
   "id": "4cc0ab9b-ff88-41e9-96c6-c21969303775",
   "metadata": {},
   "outputs": [
    {
     "name": "stdout",
     "output_type": "stream",
     "text": [
      "Average P@10 (TF-IDF with stopwords and bigrams): 0.30639999999999995\n"
     ]
    }
   ],
   "source": [
    "vectorizer_tfidf2 = TfidfVectorizer(stop_words='english', ngram_range=(1, 2))\n",
    "X_tfidf2 = vectorizer_tfidf2.fit_transform(docs['full_text'])\n",
    "p10_tfidf2 = training_queries['qid'].apply(lambda x: pAt10(x, vectorizer_tfidf2, X_tfidf2)).mean()\n",
    "print(f\"Average P@10 (TF-IDF with stopwords and bigrams): {p10_tfidf2}\")"
   ]
  },
  {
   "cell_type": "code",
   "execution_count": 35,
   "id": "6f249f2d-6449-4951-9514-e7116b861cde",
   "metadata": {},
   "outputs": [
    {
     "name": "stdout",
     "output_type": "stream",
     "text": [
      "Best parameters: {'vect__max_df': 0.95, 'vect__min_df': 1}\n",
      "Best P@10 score: 0.11050000000000003\n"
     ]
    }
   ],
   "source": [
    "pipeline = Pipeline([\n",
    "    ('vect', TfidfVectorizer())\n",
    "])\n",
    "\n",
    "parameters = {\n",
    "    'vect__max_df': [0.95, 0.8],\n",
    "    'vect__min_df': [1, 5]\n",
    "}\n",
    "\n",
    "def retrieval_scorer(estimator, X, y=None):\n",
    "    X_transformed = estimator.transform(X)\n",
    "    scores = [pAt10(qid, estimator, X_transformed) for qid in training_queries['qid'][:100]]\n",
    "    return np.mean(scores)\n",
    "\n",
    "grid_search = GridSearchCV(\n",
    "    pipeline,\n",
    "    parameters,\n",
    "    scoring=retrieval_scorer,\n",
    "    cv=2,\n",
    ")\n",
    "\n",
    "grid_search.fit(docs['full_text'])\n",
    "print(f\"Best parameters: {grid_search.best_params_}\")\n",
    "print(f\"Best P@10 score: {grid_search.best_score_}\")"
   ]
  },
  {
   "cell_type": "code",
   "execution_count": 36,
   "id": "8a6639ee",
   "metadata": {},
   "outputs": [
    {
     "data": {
      "image/png": "[encoded data removed]",
      "text/plain": [
       "<Figure size 1000x600 with 2 Axes>"
      ]
     },
     "metadata": {},
     "output_type": "display_data"
    }
   ],
   "source": [
    "results = pd.DataFrame(grid_search.cv_results_)\n",
    "\n",
    "plt.figure(figsize=(10, 6))\n",
    "\n",
    "plt.scatter(\n",
    "    results['param_vect__max_df'],\n",
    "    results['mean_test_score'],\n",
    "    c=results['param_vect__min_df'],\n",
    "    cmap='viridis',\n",
    "    s=100\n",
    ")\n",
    "\n",
    "plt.colorbar(label='min_df')\n",
    "plt.xlabel('max_df')\n",
    "plt.ylabel('Mean P@10 Score')\n",
    "plt.title('Grid Search Results')\n",
    "\n",
    "for i, txt in enumerate(results['param_vect__min_df']):\n",
    "    plt.annotate(\n",
    "        txt,\n",
    "        (results['param_vect__max_df'][i], results['mean_test_score'][i]),\n",
    "        textcoords=\"offset points\",\n",
    "        xytext=(5,5),  # offsets for better readability\n",
    "        ha='center'\n",
    "    )\n",
    "\n",
    "plt.show()"
   ]
  },
  {
   "cell_type": "markdown",
   "id": "7f9c40f8",
   "metadata": {},
   "source": [
    "Improvement Ideas:\n",
    "1. Implement custom stopword removal using a simple list instead of library\n",
    "2. Combine title and body scores with weighted averaging\n",
    "3. Extract multi-word terms from document frequency analysis\n",
    "4. Use character n-grams for robustness to misspellings\n",
    "5. Optimize BM25 implementation with sparse matrix operations"
   ]
  }
 ],
 "metadata": {
  "kernelspec": {
   "display_name": "Python 3 (ipykernel)",
   "language": "python",
   "name": "python3"
  },
  "language_info": {
   "codemirror_mode": {
    "name": "ipython",
    "version": 3
   },
   "file_extension": ".py",
   "mimetype": "text/x-python",
   "name": "python",
   "nbconvert_exporter": "python",
   "pygments_lexer": "ipython3",
   "version": "3.12.3"
  }
 },
 "nbformat": 4,
 "nbformat_minor": 5
}
