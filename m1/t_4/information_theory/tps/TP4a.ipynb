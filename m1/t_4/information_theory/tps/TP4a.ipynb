{
 "cells": [
  {
   "cell_type": "markdown",
   "metadata": {},
   "source": [
    "# TP4a - Compression, Entropy\n",
    "\n",
    "#### Stella Douka, Guillaume Charpiat"
   ]
  },
  {
   "cell_type": "markdown",
   "metadata": {},
   "source": [
    "### Introduction\n",
    "\n",
    "In this TP we are interested in comparing different compression methods and making a connection between compression and entropy. Given text samples of different complexity and structure we will use compression algorithms and compare the lengths of the compressed sequences. We will then use entropy, as estimated by Markov chain models of different orders, to obtain insights about text compression."
   ]
  },
  {
   "cell_type": "code",
   "execution_count": 1,
   "metadata": {},
   "outputs": [],
   "source": [
    "import numpy as np\n",
    "import gzip, bz2, lzma"
   ]
  },
  {
   "cell_type": "markdown",
   "metadata": {},
   "source": [
    "### Compression techniques\n",
    "\n",
    "#### Lempel-Ziv (LZ77)\n",
    "Lempel-Ziv is a dictionary based lossless compression technique. The main idea is to replace repeated substrings with references to their earlier occurencies. It works like a sliding window in the sense that instead of rewritting phrases with repeated patterns it encodes them as (distance, length). \n",
    "\n",
    "For example if we have the string \"abababc\" we proceed as follows:\n",
    "- We see the substring characters \"ab\" which are new and consider them new literals. \n",
    "- Then we see \"ab\" again at a distance 2 with a length of 2. This is encoded as (2,2). \n",
    "- We repeat the process and find (4,2). \n",
    "- Then we see the character \"c\" which is new and we add it as a literal. The result is: \n",
    "$$ [ a, b, (2,2), (4,2), c] $$"
   ]
  },
  {
   "cell_type": "markdown",
   "metadata": {},
   "source": [
    "#### Huffman Tree\n",
    "The main idea here is to assign shorter encodings to more frequent symbols. This way we create shorter encodings. The length of each encoding is entropy-based \n",
    "$$ l = \\ulcorner - log_2(p_i) \\urcorner $$\n",
    "and is built using a binary tree, thus minimizing the expected code length."
   ]
  },
  {
   "cell_type": "markdown",
   "metadata": {},
   "source": [
    "#### Range Coding / Arithmetic Coding\n",
    "We can consider this as a near-entropy encoding. It encodes a whole substring as a number in $[0,1)$. It is based on cumulative probability of the characters and it is actually very close to the Shannon limit."
   ]
  },
  {
   "cell_type": "markdown",
   "metadata": {},
   "source": [
    "#### Burrows-Wheeler Transform (BWT)\n",
    "This is a reordering technique that permutes the string to produce patterns of similar symbols. Thus we have a reordered string where sequences of the same character are frequent. It is not a compression on itself but it is used in combination with other methods to produce more \"compressible\" data."
   ]
  },
  {
   "cell_type": "markdown",
   "metadata": {},
   "source": [
    "#### Move-to-Front (MTF)\n",
    "This technique, similar to BWT, is producing more compressible data using symbol ranking. It encodes characters by their position in a moving list of recent symbols. This way frequent symbols become small numbers. The result is highly compressible with entropy-based encoders."
   ]
  },
  {
   "cell_type": "markdown",
   "metadata": {},
   "source": [
    "### Compression algorithms\n",
    "The most famous compression algorithms use combinations of the techniques described above. \n",
    "- The most popular one, `gzip`, uses LZ77 to find repetitions and Huffman to encode symbols. \n",
    "- Another algorithm, `bz2`, uses BWT to cluster similar characters together, then MTF to reduce the symbols' variation and finally Huffman. \n",
    "- `lzma` uses a LZ77 with a very large dictionary to find long matches and range coding to do near-entropy based encoding."
   ]
  },
  {
   "cell_type": "markdown",
   "metadata": {},
   "source": [
    "-----------------------"
   ]
  },
  {
   "cell_type": "markdown",
   "metadata": {},
   "source": [
    "### Practical questions\n",
    "\n",
    "1. Generate different types of text data\n",
    "\n",
    "    Create different types of text files:\n",
    "    - Structured text (highly repetitive, predictable pattern).\n",
    "    - Semi-structured text (some randomness, but still some patterns).\n",
    "    - Random text (completely unpredictable).\n",
    "    - Real text.\n",
    "\n",
    "\n",
    "2. Which of the samples do you expect to be well compressed or not, and why? Explain your opinion. (Marks will be given based on logical explanations, not on correct answers!)"
   ]
  },
  {
   "cell_type": "markdown",
   "metadata": {},
   "source": [
    "Answer:\n",
    "\n",
    "Expected compressibility:\n",
    "\n",
    "\"structured\" should be compressed extremely well because it consists of a single short phrase repeated thousands of times; LZ77 will turn most of it into tiny back‑references and Huffman/Rangecoding will encode the few literals cheaply.\n",
    "\n",
    "\"semi_structured\" should still be compressed, but not as dramatically. It keeps a clear underlying pattern, so compressors can exploit repeats, yet the 10% random mutations break some matches and increase entropy.\n",
    "\n",
    "\"random\" is expected to be compressed poorly; every byte is nearly independent so there are no useful repeats and the empirical entropy is close to 8 bits/byte. Compressors may even add slight overhead.\n",
    "\n",
    "\"real\" has substantial redundancy (common words, grammatical structure) because it's natural language so we anticipate moderate compression - not as good as the synthetic structured data but definitely far better than the random sample."
   ]
  },
  {
   "cell_type": "code",
   "execution_count": 3,
   "metadata": {},
   "outputs": [],
   "source": [
    "np.random.seed(0)\n",
    "\n",
    "# TODO: Generate structured text (e.g., repeating patterns)\n",
    "structured_text = (\"ABC \" * 10_000).strip()\n",
    "\n",
    "# TODO: Generate semi-structured text (pattern with some randomness)\n",
    "base_chars = list(\"\".join([\"ABCDEF\" for _ in range(5_000)]))\n",
    "num_mutations = int(len(base_chars) * 0.10)\n",
    "for _ in range(num_mutations):\n",
    "    idx = np.random.randint(0, len(base_chars))\n",
    "    base_chars[idx] = chr(np.random.randint(65, 91))  # random capital letter\n",
    "semi_structured_text = \"\".join(base_chars)\n",
    "\n",
    "# TODO: Generate random text (completely unpredictable)\n",
    "random_text = \"\".join(chr(np.random.randint(65, 91)) for _ in range(30_000))\n",
    "\n",
    "# TODO: Provide real text\n",
    "real_text = (\n",
    "    \"\"\"\n",
    "Alice was beginning to get very tired of sitting by her sister on the bank, and of having nothing to do: once or twice she\n",
    "had peeped into the book her sister was reading, but it had no pictures or conversations in it, \\\"and what is the use of a\n",
    "book,\\\" thought Alice \\\"without pictures or conversations?\\\"  \n",
    "\"\"\".strip()\n",
    "    * 200\n",
    ")"
   ]
  },
  {
   "cell_type": "markdown",
   "metadata": {},
   "source": [
    "3. Compress the text using various compression algorithms (gzip, bzip2, lzma etc..). Measure and record the compressed size in bytes.\n",
    "\n",
    "4. Were your assumptions correct? Explain the results you obtained.\n",
    "5. How do the compression algorithms compare to each other? Which ones perform the best and why?"
   ]
  },
  {
   "cell_type": "code",
   "execution_count": 4,
   "metadata": {},
   "outputs": [],
   "source": [
    "# TODO: Compress the text with  different compression algorithms\n",
    "# ...\n",
    "\n",
    "def compress_gzip(data: bytes, compresslevel: int = 9) -> int:\n",
    "    return len(gzip.compress(data, compresslevel=compresslevel))\n",
    "\n",
    "def compress_bz2(data: bytes, compresslevel: int = 9) -> int:\n",
    "    return len(bz2.compress(data, compresslevel))\n",
    "\n",
    "def compress_lzma(data: bytes, preset: int = 9) -> int:\n",
    "    return len(lzma.compress(data, preset=preset))"
   ]
  },
  {
   "cell_type": "markdown",
   "metadata": {},
   "source": [
    "6. Estimate the entropy using Markovian models\n",
    "   - Use the Markov chain models you coded for TP2. If you had not completed it correctly you can do it now or find a working solution online.\n",
    "   - Compute entropy estimates for orders up to 3 for each one of the text samples. (Hint: entropy should decrease with the order!)\n",
    "    \n",
    "\n",
    "7. Compare ZIP compression with entropy estimates\n",
    "   - Compare ZIP-compressed sizes with entropy-based expected compressed sizes.\n",
    "   - Plot a table or graph showing ZIP size vs. entropy estimates for different Markov chain orders.\n",
    "   - Analyze and answer the discussion questions below.\n",
    "\n"
   ]
  },
  {
   "cell_type": "code",
   "execution_count": 7,
   "metadata": {},
   "outputs": [],
   "source": [
    "# TODO: Add the implementation of Markov chains here\n",
    "from collections import Counter, defaultdict\n",
    "import math\n",
    "\n",
    "def markov_entropy(text: str, order: int = 0) -> float:\n",
    "    if order < 0:\n",
    "        raise ValueError(\"Order must be >= 0\")\n",
    "    n = len(text)\n",
    "    if n <= order:\n",
    "        return 0.0\n",
    "\n",
    "    if order == 0:\n",
    "        counts = Counter(text)\n",
    "        total = n\n",
    "        return -sum(c / total * math.log2(c / total) for c in counts.values())\n",
    "\n",
    "    context_counts = defaultdict(int)\n",
    "    joint_counts = defaultdict(int)\n",
    "\n",
    "    for i in range(n - order):\n",
    "        context = text[i : i + order]\n",
    "        next_char = text[i + order]\n",
    "        context_counts[context] += 1\n",
    "        joint_counts[context + next_char] += 1\n",
    "\n",
    "    H = 0.0\n",
    "    for i in range(n - order):\n",
    "        context = text[i : i + order]\n",
    "        next_char = text[i + order]\n",
    "        p = joint_counts[context + next_char] / context_counts[context]\n",
    "        H -= math.log2(p)\n",
    "    return H / (n - order)"
   ]
  },
  {
   "cell_type": "code",
   "execution_count": 8,
   "metadata": {},
   "outputs": [],
   "source": [
    "# TODO: Estimate entropy with Markov chains of different orders\n",
    "samples = {\n",
    "    \"structured\": structured_text,\n",
    "    \"semi_structured\": semi_structured_text,\n",
    "    \"random\": random_text,\n",
    "    \"real\": real_text,\n",
    "}\n",
    "\n",
    "entropy_estimates = {\n",
    "    name: {f\"order_{k}\": markov_entropy(txt, k) for k in range(4)} for name, txt in samples.items()\n",
    "}"
   ]
  },
  {
   "cell_type": "code",
   "execution_count": 10,
   "metadata": {},
   "outputs": [
    {
     "data": {
      "image/png": "[encoded data removed]",
      "text/plain": [
       "<Figure size 900x500 with 1 Axes>"
      ]
     },
     "metadata": {},
     "output_type": "display_data"
    }
   ],
   "source": [
    "# TODO: Plot results comparing ZIP size vs. entropy estimates\n",
    "import matplotlib.pyplot as plt\n",
    "\n",
    "fig, ax = plt.subplots(figsize=(9, 5))\n",
    "orders = [\"order_0\", \"order_1\", \"order_2\", \"order_3\"]\n",
    "x = np.arange(len(samples))\n",
    "width = 0.18\n",
    "\n",
    "def _to_bytes(s: str) -> bytes:\n",
    "    return s.encode(\"utf‑8\")\n",
    "\n",
    "compressed_sizes = {}\n",
    "for name, txt in samples.items():\n",
    "    b = _to_bytes(txt)\n",
    "    compressed_sizes[name] = {\n",
    "        \"raw\": len(b),\n",
    "        \"gzip\": compress_gzip(b),\n",
    "        \"bz2\": compress_bz2(b),\n",
    "        \"lzma\": compress_lzma(b),\n",
    "    }\n",
    "\n",
    "for i, alg in enumerate([\"gzip\", \"bz2\", \"lzma\"]):\n",
    "    sz = [compressed_sizes[s][alg] for s in samples]\n",
    "    ax.bar(x + (i - 1) * width, sz, width, label=alg.upper())\n",
    "    \n",
    "ideal_sizes = {\n",
    "    name: {k: int(est * len(samples[name]) / 8) for k, est in orders.items()}\n",
    "    for name, orders in entropy_estimates.items()\n",
    "}\n",
    "\n",
    "# Add entropy bars (order‑3 as reference)\n",
    "ent_sz = [ideal_sizes[s][\"order_3\"] for s in samples]\n",
    "ax.bar(x + 2 * width, ent_sz, width, label=\"H3 ideal\", alpha=0.5, hatch=\"//\")\n",
    "\n",
    "ax.set_xticks(x)\n",
    "ax.set_xticklabels(samples.keys())\n",
    "ax.set_ylabel(\"Compressed size (bytes)\")\n",
    "ax.set_title(\"Compression results vs. third‑order entropy\")\n",
    "ax.legend()\n",
    "plt.tight_layout()\n",
    "plt.show()"
   ]
  },
  {
   "cell_type": "markdown",
   "metadata": {},
   "source": [
    "### Theoretical questions\n",
    "\n",
    "8. Which type of text (structured, semi-structured, or random) was compressed the most on average? Why?\n",
    "\n",
    "9. How does ZIP compression compare to entropy estimates?\n",
    "\n",
    "10. Are there cases where ZIP compression is more efficient than entropy estimates? Why?\n",
    "\n",
    "11. What are the limitations of using entropy as a compression predictor?"
   ]
  },
  {
   "cell_type": "markdown",
   "metadata": {},
   "source": [
    "Answers:\n",
    "\n",
    "8. Structured, because its high redundancy lets dictionary methods map long repeats to very short references and entropy of order‑0 is low.\n",
    "\n",
    "9. The comparison depends on how much long‑range repetition a text contains. \n",
    "For structured & “real” (repeated paragraph) all the compressors end up below the third‑order entropy bound, because a single back‑reference can cover dozens or hundreds of bytes – far beyond the 3‑symbol context H3 considers.\n",
    "For semi‑structured the sizes fall above the H3 bound (≈ 2.8 kB) but still well below the raw file, landing close to what an order‑1/2 model predicts. For \"random\" the compressors achieve little. The results stay near the raw size and lie well above every entropy estimate.\n",
    "\n",
    "10. Yes — whenever text contains very long verbatim repeats that a low‑order Markov model can't capture. Both the synthetic structured sample and the “real” corpus (one paragraph duplicated) compress beyond the H3 ideal because LZ77 replaces each repeat with a tiny pointer, whereas the entropy model still counts every character in the repeat. In contrast, for \"random\" or lightly‑structured data compressors stay above the entropy bound.\n",
    "\n",
    "11. Estimates depend on sample size and suffer from sparse contexts. Also Markov models assume limited memory k whereas real data may have long‑range structure. Another limitation is that they ignore implementation overhead (headers, alignment, dictionary resets). Moreover, they operate at symbol level; switching to words or UTF‑8 code‑points changes values. Hence entropy is a lower bound, not a guarantee."
   ]
  }
 ],
 "metadata": {
  "kernelspec": {
   "display_name": "Python 3",
   "language": "python",
   "name": "python3"
  },
  "language_info": {
   "codemirror_mode": {
    "name": "ipython",
    "version": 3
   },
   "file_extension": ".py",
   "mimetype": "text/x-python",
   "name": "python",
   "nbconvert_exporter": "python",
   "pygments_lexer": "ipython3",
   "version": "3.12.3"
  }
 },
 "nbformat": 4,
 "nbformat_minor": 2
}
